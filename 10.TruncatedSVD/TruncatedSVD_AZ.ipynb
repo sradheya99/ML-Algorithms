{
 "cells": [
  {
   "cell_type": "markdown",
   "metadata": {},
   "source": [
    "# Finding Word Vectors using TruncatedSVD"
   ]
  },
  {
   "cell_type": "markdown",
   "metadata": {},
   "source": [
    "## [ CONTENTS ] \n",
    "\n",
    "1. About the dataset<br>\n",
    "2. Objective<br>\n",
    "3. Loading the data<br>\n",
    "4. TF-IDF <br>\n",
    "5. Function Definitions<br>\n",
    "6. Word Vector using Truncated SVD<br>\n",
    "7. K-Means Clustering on Word Vector<br>\n",
    "8. Summary<br>"
   ]
  },
  {
   "cell_type": "markdown",
   "metadata": {},
   "source": [
    "## 1. About the dataset\n",
    "1. Title: Amazon Fine Food Reviews. Link:https://www.kaggle.com/snap/amazon-fine-food-reviews\n",
    "2. Relevant Information: This dataset consists of reviews of fine foods from amazon. The data span a period of more than 10 years, including all ~500,000 reviews up to October 2012. Reviews include product and user information, ratings, and a plain text review. It also includes reviews from all other Amazon categories.\n",
    "3. Data includes:\n",
    "    * Number of reviews: 568,454<br>\n",
    "    * Number of users: 256,059<br>\n",
    "    * Number of products: 74,258<br>\n",
    "    * Timespan: Oct 1999 - Oct 2012<br>\n",
    "    * Number of Attributes/Columns in data: 10 \n",
    "4. Attribute Information: \n",
    "    * Id\n",
    "    * ProductId - unique identifier for the product\n",
    "    * UserId - unqiue identifier for the user\n",
    "    * ProfileName\n",
    "    * HelpfulnessNumerator - number of users who found the review helpful\n",
    "    * HelpfulnessDenominator - number of users who indicated whether they found the review helpful or not\n",
    "    * Score - rating between 1 and 5\n",
    "    * Time - timestamp for the review\n",
    "    * Summary - brief summary of the review\n",
    "    * Text - text of the review"
   ]
  },
  {
   "cell_type": "markdown",
   "metadata": {},
   "source": [
    "## 2. Objective:\n",
    "The objective of this project is to convert the Amazon Fine Food Reviews data to word vectors using Truncated SVD and then cluster similar words together by K-Means clustering.<br>\n",
    "<br>"
   ]
  },
  {
   "cell_type": "code",
   "execution_count": 1,
   "metadata": {},
   "outputs": [],
   "source": [
    "# importing required libraries\n",
    "import numpy as np\n",
    "import pandas as pd \n",
    "import matplotlib \n",
    "import sqlite3\n",
    "import string\n",
    "import nltk\n",
    "import time\n",
    "from matplotlib import pyplot as plt \n",
    "import seaborn as sns \n",
    "from scipy import stats\n",
    "from sklearn.feature_extraction.text import TfidfVectorizer\n",
    "from sklearn.feature_extraction.text import CountVectorizer\n",
    "from sklearn.decomposition import TruncatedSVD\n",
    "import warnings\n",
    "warnings.filterwarnings('ignore')"
   ]
  },
  {
   "cell_type": "markdown",
   "metadata": {},
   "source": [
    "## 3. Loading the Data:"
   ]
  },
  {
   "cell_type": "code",
   "execution_count": 2,
   "metadata": {},
   "outputs": [],
   "source": [
    "# Loading the previously cleaned data\n",
    "connect = sqlite3.connect('final_data.sqlite')\n",
    "\n",
    "#Ignoring the rows which have rating 3\n",
    "data = pd.read_sql_query(\"\"\"\n",
    "SELECT *\n",
    "FROM Reviews\n",
    "\"\"\", connect)"
   ]
  },
  {
   "cell_type": "code",
   "execution_count": 3,
   "metadata": {},
   "outputs": [
    {
     "data": {
      "text/plain": [
       "(364171, 12)"
      ]
     },
     "execution_count": 3,
     "metadata": {},
     "output_type": "execute_result"
    }
   ],
   "source": [
    "data.shape"
   ]
  },
  {
   "cell_type": "code",
   "execution_count": 4,
   "metadata": {},
   "outputs": [
    {
     "data": {
      "text/html": [
       "<div>\n",
       "<style scoped>\n",
       "    .dataframe tbody tr th:only-of-type {\n",
       "        vertical-align: middle;\n",
       "    }\n",
       "\n",
       "    .dataframe tbody tr th {\n",
       "        vertical-align: top;\n",
       "    }\n",
       "\n",
       "    .dataframe thead th {\n",
       "        text-align: right;\n",
       "    }\n",
       "</style>\n",
       "<table border=\"1\" class=\"dataframe\">\n",
       "  <thead>\n",
       "    <tr style=\"text-align: right;\">\n",
       "      <th></th>\n",
       "      <th>index</th>\n",
       "      <th>Id</th>\n",
       "      <th>ProductId</th>\n",
       "      <th>UserId</th>\n",
       "      <th>ProfileName</th>\n",
       "      <th>HelpfulnessNumerator</th>\n",
       "      <th>HelpfulnessDenominator</th>\n",
       "      <th>Score</th>\n",
       "      <th>Time</th>\n",
       "      <th>Summary</th>\n",
       "      <th>Text</th>\n",
       "      <th>CleanedText</th>\n",
       "    </tr>\n",
       "  </thead>\n",
       "  <tbody>\n",
       "    <tr>\n",
       "      <th>0</th>\n",
       "      <td>138706</td>\n",
       "      <td>150524</td>\n",
       "      <td>0006641040</td>\n",
       "      <td>ACITT7DI6IDDL</td>\n",
       "      <td>shari zychinski</td>\n",
       "      <td>0</td>\n",
       "      <td>0</td>\n",
       "      <td>positive</td>\n",
       "      <td>939340800</td>\n",
       "      <td>EVERY book is educational</td>\n",
       "      <td>this witty little book makes my son laugh at l...</td>\n",
       "      <td>b'witti littl book make son laugh loud recit c...</td>\n",
       "    </tr>\n",
       "    <tr>\n",
       "      <th>1</th>\n",
       "      <td>138688</td>\n",
       "      <td>150506</td>\n",
       "      <td>0006641040</td>\n",
       "      <td>A2IW4PEEKO2R0U</td>\n",
       "      <td>Tracy</td>\n",
       "      <td>1</td>\n",
       "      <td>1</td>\n",
       "      <td>positive</td>\n",
       "      <td>1194739200</td>\n",
       "      <td>Love the book, miss the hard cover version</td>\n",
       "      <td>I grew up reading these Sendak books, and watc...</td>\n",
       "      <td>b'grew read sendak book watch realli rosi movi...</td>\n",
       "    </tr>\n",
       "    <tr>\n",
       "      <th>2</th>\n",
       "      <td>138689</td>\n",
       "      <td>150507</td>\n",
       "      <td>0006641040</td>\n",
       "      <td>A1S4A3IQ2MU7V4</td>\n",
       "      <td>sally sue \"sally sue\"</td>\n",
       "      <td>1</td>\n",
       "      <td>1</td>\n",
       "      <td>positive</td>\n",
       "      <td>1191456000</td>\n",
       "      <td>chicken soup with rice months</td>\n",
       "      <td>This is a fun way for children to learn their ...</td>\n",
       "      <td>b'fun way children learn month year learn poem...</td>\n",
       "    </tr>\n",
       "    <tr>\n",
       "      <th>3</th>\n",
       "      <td>138690</td>\n",
       "      <td>150508</td>\n",
       "      <td>0006641040</td>\n",
       "      <td>AZGXZ2UUK6X</td>\n",
       "      <td>Catherine Hallberg \"(Kate)\"</td>\n",
       "      <td>1</td>\n",
       "      <td>1</td>\n",
       "      <td>positive</td>\n",
       "      <td>1076025600</td>\n",
       "      <td>a good swingy rhythm for reading aloud</td>\n",
       "      <td>This is a great little book to read aloud- it ...</td>\n",
       "      <td>b'great littl book read nice rhythm well good ...</td>\n",
       "    </tr>\n",
       "    <tr>\n",
       "      <th>4</th>\n",
       "      <td>138691</td>\n",
       "      <td>150509</td>\n",
       "      <td>0006641040</td>\n",
       "      <td>A3CMRKGE0P909G</td>\n",
       "      <td>Teresa</td>\n",
       "      <td>3</td>\n",
       "      <td>4</td>\n",
       "      <td>positive</td>\n",
       "      <td>1018396800</td>\n",
       "      <td>A great way to learn the months</td>\n",
       "      <td>This is a book of poetry about the months of t...</td>\n",
       "      <td>b'book poetri month year goe month cute littl ...</td>\n",
       "    </tr>\n",
       "  </tbody>\n",
       "</table>\n",
       "</div>"
      ],
      "text/plain": [
       "    index      Id   ProductId          UserId                  ProfileName  \\\n",
       "0  138706  150524  0006641040   ACITT7DI6IDDL              shari zychinski   \n",
       "1  138688  150506  0006641040  A2IW4PEEKO2R0U                        Tracy   \n",
       "2  138689  150507  0006641040  A1S4A3IQ2MU7V4        sally sue \"sally sue\"   \n",
       "3  138690  150508  0006641040     AZGXZ2UUK6X  Catherine Hallberg \"(Kate)\"   \n",
       "4  138691  150509  0006641040  A3CMRKGE0P909G                       Teresa   \n",
       "\n",
       "   HelpfulnessNumerator  HelpfulnessDenominator     Score        Time  \\\n",
       "0                     0                       0  positive   939340800   \n",
       "1                     1                       1  positive  1194739200   \n",
       "2                     1                       1  positive  1191456000   \n",
       "3                     1                       1  positive  1076025600   \n",
       "4                     3                       4  positive  1018396800   \n",
       "\n",
       "                                      Summary  \\\n",
       "0                   EVERY book is educational   \n",
       "1  Love the book, miss the hard cover version   \n",
       "2               chicken soup with rice months   \n",
       "3      a good swingy rhythm for reading aloud   \n",
       "4             A great way to learn the months   \n",
       "\n",
       "                                                Text  \\\n",
       "0  this witty little book makes my son laugh at l...   \n",
       "1  I grew up reading these Sendak books, and watc...   \n",
       "2  This is a fun way for children to learn their ...   \n",
       "3  This is a great little book to read aloud- it ...   \n",
       "4  This is a book of poetry about the months of t...   \n",
       "\n",
       "                                         CleanedText  \n",
       "0  b'witti littl book make son laugh loud recit c...  \n",
       "1  b'grew read sendak book watch realli rosi movi...  \n",
       "2  b'fun way children learn month year learn poem...  \n",
       "3  b'great littl book read nice rhythm well good ...  \n",
       "4  b'book poetri month year goe month cute littl ...  "
      ]
     },
     "execution_count": 4,
     "metadata": {},
     "output_type": "execute_result"
    }
   ],
   "source": [
    "data.head()"
   ]
  },
  {
   "cell_type": "code",
   "execution_count": 5,
   "metadata": {},
   "outputs": [
    {
     "data": {
      "text/plain": [
       "positive    307061\n",
       "negative     57110\n",
       "Name: Score, dtype: int64"
      ]
     },
     "execution_count": 5,
     "metadata": {},
     "output_type": "execute_result"
    }
   ],
   "source": [
    "data.Score.value_counts()"
   ]
  },
  {
   "cell_type": "code",
   "execution_count": 6,
   "metadata": {},
   "outputs": [],
   "source": [
    "sorted_data = data.sort_values('Time', axis=0, ascending=True, inplace=False, kind='quicksort', na_position='last')"
   ]
  },
  {
   "cell_type": "code",
   "execution_count": 7,
   "metadata": {},
   "outputs": [],
   "source": [
    "# converting 'positive' score to 1 and 'negative' score to 0\n",
    "def partition(x):\n",
    "    if x == 'positive':\n",
    "        return 1\n",
    "    return 0\n",
    "\n",
    "actualScore = sorted_data['Score']\n",
    "positiveNegative = actualScore.map(partition) \n",
    "sorted_data['Score'] = positiveNegative"
   ]
  },
  {
   "cell_type": "code",
   "execution_count": 8,
   "metadata": {},
   "outputs": [
    {
     "data": {
      "text/html": [
       "<div>\n",
       "<style scoped>\n",
       "    .dataframe tbody tr th:only-of-type {\n",
       "        vertical-align: middle;\n",
       "    }\n",
       "\n",
       "    .dataframe tbody tr th {\n",
       "        vertical-align: top;\n",
       "    }\n",
       "\n",
       "    .dataframe thead th {\n",
       "        text-align: right;\n",
       "    }\n",
       "</style>\n",
       "<table border=\"1\" class=\"dataframe\">\n",
       "  <thead>\n",
       "    <tr style=\"text-align: right;\">\n",
       "      <th></th>\n",
       "      <th>index</th>\n",
       "      <th>Id</th>\n",
       "      <th>ProductId</th>\n",
       "      <th>UserId</th>\n",
       "      <th>ProfileName</th>\n",
       "      <th>HelpfulnessNumerator</th>\n",
       "      <th>HelpfulnessDenominator</th>\n",
       "      <th>Score</th>\n",
       "      <th>Time</th>\n",
       "      <th>Summary</th>\n",
       "      <th>Text</th>\n",
       "      <th>CleanedText</th>\n",
       "    </tr>\n",
       "  </thead>\n",
       "  <tbody>\n",
       "    <tr>\n",
       "      <th>0</th>\n",
       "      <td>138706</td>\n",
       "      <td>150524</td>\n",
       "      <td>0006641040</td>\n",
       "      <td>ACITT7DI6IDDL</td>\n",
       "      <td>shari zychinski</td>\n",
       "      <td>0</td>\n",
       "      <td>0</td>\n",
       "      <td>1</td>\n",
       "      <td>939340800</td>\n",
       "      <td>EVERY book is educational</td>\n",
       "      <td>this witty little book makes my son laugh at l...</td>\n",
       "      <td>b'witti littl book make son laugh loud recit c...</td>\n",
       "    </tr>\n",
       "    <tr>\n",
       "      <th>30</th>\n",
       "      <td>138683</td>\n",
       "      <td>150501</td>\n",
       "      <td>0006641040</td>\n",
       "      <td>AJ46FKXOVC7NR</td>\n",
       "      <td>Nicholas A Mesiano</td>\n",
       "      <td>2</td>\n",
       "      <td>2</td>\n",
       "      <td>1</td>\n",
       "      <td>940809600</td>\n",
       "      <td>This whole series is great way to spend time w...</td>\n",
       "      <td>I can remember seeing the show when it aired o...</td>\n",
       "      <td>b'rememb see show air televis year ago child s...</td>\n",
       "    </tr>\n",
       "    <tr>\n",
       "      <th>424</th>\n",
       "      <td>417839</td>\n",
       "      <td>451856</td>\n",
       "      <td>B00004CXX9</td>\n",
       "      <td>AIUWLEQ1ADEG5</td>\n",
       "      <td>Elizabeth Medina</td>\n",
       "      <td>0</td>\n",
       "      <td>0</td>\n",
       "      <td>1</td>\n",
       "      <td>944092800</td>\n",
       "      <td>Entertainingl Funny!</td>\n",
       "      <td>Beetlejuice is a well written movie ..... ever...</td>\n",
       "      <td>b'beetlejuic well written movi everyth excel a...</td>\n",
       "    </tr>\n",
       "    <tr>\n",
       "      <th>330</th>\n",
       "      <td>346055</td>\n",
       "      <td>374359</td>\n",
       "      <td>B00004CI84</td>\n",
       "      <td>A344SMIA5JECGM</td>\n",
       "      <td>Vincent P. Ross</td>\n",
       "      <td>1</td>\n",
       "      <td>2</td>\n",
       "      <td>1</td>\n",
       "      <td>944438400</td>\n",
       "      <td>A modern day fairy tale</td>\n",
       "      <td>A twist of rumplestiskin captured on film, sta...</td>\n",
       "      <td>b'twist rumplestiskin captur film star michael...</td>\n",
       "    </tr>\n",
       "    <tr>\n",
       "      <th>423</th>\n",
       "      <td>417838</td>\n",
       "      <td>451855</td>\n",
       "      <td>B00004CXX9</td>\n",
       "      <td>AJH6LUC1UT1ON</td>\n",
       "      <td>The Phantom of the Opera</td>\n",
       "      <td>0</td>\n",
       "      <td>0</td>\n",
       "      <td>1</td>\n",
       "      <td>946857600</td>\n",
       "      <td>FANTASTIC!</td>\n",
       "      <td>Beetlejuice is an excellent and funny movie. K...</td>\n",
       "      <td>b'beetlejuic excel funni movi keaton hilari wa...</td>\n",
       "    </tr>\n",
       "  </tbody>\n",
       "</table>\n",
       "</div>"
      ],
      "text/plain": [
       "      index      Id   ProductId          UserId               ProfileName  \\\n",
       "0    138706  150524  0006641040   ACITT7DI6IDDL           shari zychinski   \n",
       "30   138683  150501  0006641040   AJ46FKXOVC7NR        Nicholas A Mesiano   \n",
       "424  417839  451856  B00004CXX9   AIUWLEQ1ADEG5          Elizabeth Medina   \n",
       "330  346055  374359  B00004CI84  A344SMIA5JECGM           Vincent P. Ross   \n",
       "423  417838  451855  B00004CXX9   AJH6LUC1UT1ON  The Phantom of the Opera   \n",
       "\n",
       "     HelpfulnessNumerator  HelpfulnessDenominator  Score       Time  \\\n",
       "0                       0                       0      1  939340800   \n",
       "30                      2                       2      1  940809600   \n",
       "424                     0                       0      1  944092800   \n",
       "330                     1                       2      1  944438400   \n",
       "423                     0                       0      1  946857600   \n",
       "\n",
       "                                               Summary  \\\n",
       "0                            EVERY book is educational   \n",
       "30   This whole series is great way to spend time w...   \n",
       "424                               Entertainingl Funny!   \n",
       "330                            A modern day fairy tale   \n",
       "423                                         FANTASTIC!   \n",
       "\n",
       "                                                  Text  \\\n",
       "0    this witty little book makes my son laugh at l...   \n",
       "30   I can remember seeing the show when it aired o...   \n",
       "424  Beetlejuice is a well written movie ..... ever...   \n",
       "330  A twist of rumplestiskin captured on film, sta...   \n",
       "423  Beetlejuice is an excellent and funny movie. K...   \n",
       "\n",
       "                                           CleanedText  \n",
       "0    b'witti littl book make son laugh loud recit c...  \n",
       "30   b'rememb see show air televis year ago child s...  \n",
       "424  b'beetlejuic well written movi everyth excel a...  \n",
       "330  b'twist rumplestiskin captur film star michael...  \n",
       "423  b'beetlejuic excel funni movi keaton hilari wa...  "
      ]
     },
     "execution_count": 8,
     "metadata": {},
     "output_type": "execute_result"
    }
   ],
   "source": [
    "sorted_data.head(5)"
   ]
  },
  {
   "cell_type": "markdown",
   "metadata": {},
   "source": [
    "## 4. TFIDF:"
   ]
  },
  {
   "cell_type": "code",
   "execution_count": 9,
   "metadata": {},
   "outputs": [],
   "source": [
    "# applying tf-idf vectorization \n",
    "tf_idf_vect = TfidfVectorizer(min_df = 0, max_features = 10000)"
   ]
  },
  {
   "cell_type": "code",
   "execution_count": 10,
   "metadata": {},
   "outputs": [],
   "source": [
    "#fit&transform the whole data to the tfidf vectorizer\n",
    "tfidf_model = tf_idf_vect.fit_transform(sorted_data['CleanedText'].values)"
   ]
  },
  {
   "cell_type": "code",
   "execution_count": 11,
   "metadata": {},
   "outputs": [
    {
     "data": {
      "text/plain": [
       "scipy.sparse.csr.csr_matrix"
      ]
     },
     "execution_count": 11,
     "metadata": {},
     "output_type": "execute_result"
    }
   ],
   "source": [
    "type(tfidf_model)"
   ]
  },
  {
   "cell_type": "code",
   "execution_count": 12,
   "metadata": {},
   "outputs": [],
   "source": [
    "#get the feature names(words here)\n",
    "feature_array = np.array(tf_idf_vect.get_feature_names())"
   ]
  },
  {
   "cell_type": "code",
   "execution_count": 13,
   "metadata": {},
   "outputs": [
    {
     "data": {
      "text/plain": [
       "(10000,)"
      ]
     },
     "execution_count": 13,
     "metadata": {},
     "output_type": "execute_result"
    }
   ],
   "source": [
    "feature_array.shape"
   ]
  },
  {
   "cell_type": "code",
   "execution_count": 14,
   "metadata": {},
   "outputs": [],
   "source": [
    "feature_array = feature_array.tolist()"
   ]
  },
  {
   "cell_type": "markdown",
   "metadata": {},
   "source": [
    "## 5. Function Definitions:"
   ]
  },
  {
   "cell_type": "code",
   "execution_count": 15,
   "metadata": {},
   "outputs": [],
   "source": [
    "#Cleaning html tags\n",
    "def cleanhtml(sentence): \n",
    "    cleanr = re.compile('<.*?>')\n",
    "    cleantext = re.sub(cleanr, ' ', sentence)\n",
    "    return cleantext\n",
    "\n",
    "#Cleaning special symbols from texts\n",
    "def cleanpunc(sentence): \n",
    "    cleaned = re.sub(r'[?|!|\\'|\"|#]',r'',sentence)\n",
    "    cleaned = re.sub(r'[.|,|)|(|\\|/]',r' ',cleaned)\n",
    "    return  cleaned"
   ]
  },
  {
   "cell_type": "code",
   "execution_count": 16,
   "metadata": {},
   "outputs": [],
   "source": [
    "#cleaning each text\n",
    "import re\n",
    "i = 0\n",
    "list_of_sent = []\n",
    "for sent in sorted_data['Text'].values:\n",
    "    filtered_sentence = []\n",
    "    sent = cleanhtml(sent)\n",
    "    for w in sent.split():\n",
    "        for cleaned_words in cleanpunc(w).split():\n",
    "            if(cleaned_words.isalpha()):    \n",
    "                filtered_sentence.append(cleaned_words.lower())\n",
    "            else:\n",
    "                continue \n",
    "    list_of_sent.append(filtered_sentence)"
   ]
  },
  {
   "cell_type": "code",
   "execution_count": 17,
   "metadata": {},
   "outputs": [],
   "source": [
    "from tqdm import tqdm\n",
    "\n",
    "def co_occur_matx():\n",
    "    window = 5\n",
    "    co_matx = np.zeros((10000, 10000))\n",
    "    for sent in tqdm(list_of_sent):\n",
    "        for i, word in enumerate(sent):\n",
    "            if word in feature_array:\n",
    "                for l in range(max(i - window, 0), min(i + window, len(sent))):\n",
    "                    if sent[l] in feature_array:\n",
    "                        co_matx[feature_array.index(word), feature_array.index(sent[l])] += 1\n",
    "    \n",
    "    return co_matx"
   ]
  },
  {
   "cell_type": "code",
   "execution_count": 18,
   "metadata": {},
   "outputs": [],
   "source": [
    "from sklearn.cluster import KMeans\n",
    "\n",
    "# clustering similar words \n",
    "def kmean_cluster(data):\n",
    "    \n",
    "    fit_models = []\n",
    "    num_clusters = np.arange(10, 301, 5)\n",
    "                \n",
    "    for i in tqdm(num_clusters):\n",
    "        clf = KMeans(n_clusters = i, n_init = 8) \n",
    "        clf.fit(data)\n",
    "        fit_models.append(clf)\n",
    "\n",
    "    return fit_models"
   ]
  },
  {
   "cell_type": "code",
   "execution_count": 19,
   "metadata": {},
   "outputs": [],
   "source": [
    "# find best fit k for kmeans clustering\n",
    "def find_best_k(clusters):\n",
    "    \n",
    "    num_clusts = np.arange(10, 301, 5)\n",
    "    intra_clust_dists = []\n",
    "    for clust in clusters:\n",
    "        intra_clust_dists.append(clust.inertia_)\n",
    "    sns.set()\n",
    "    plt.figure(figsize = (8, 5))\n",
    "    plt.plot(num_clusts, intra_clust_dists, color = 'b')\n",
    "    plt.xlabel('Num of Clusters')\n",
    "    plt.ylabel('Intra-Cluster Distances')\n",
    "    plt.title('Intra-Cluster Distance Vs Num of Clusters')\n",
    "    plt.plot()"
   ]
  },
  {
   "cell_type": "markdown",
   "metadata": {},
   "source": [
    "## 6. Word Vectors using Truncated SVD:"
   ]
  },
  {
   "cell_type": "code",
   "execution_count": 20,
   "metadata": {},
   "outputs": [
    {
     "name": "stderr",
     "output_type": "stream",
     "text": [
      "100%|██████████| 364171/364171 [3:50:24<00:00, 26.34it/s]  \n"
     ]
    }
   ],
   "source": [
    "comatx = co_occur_matx()"
   ]
  },
  {
   "cell_type": "code",
   "execution_count": 21,
   "metadata": {},
   "outputs": [],
   "source": [
    "#set the diagonal of co-occurrence matrix to 0\n",
    "np.fill_diagonal(comatx, 0)"
   ]
  },
  {
   "cell_type": "code",
   "execution_count": 22,
   "metadata": {},
   "outputs": [],
   "source": [
    "def var_explained_n(matrix):\n",
    "    var_exp = []\n",
    "    for i in tqdm(np.arange(1, 501, 20)):\n",
    "        svd_model = TruncatedSVD(n_components = i)\n",
    "        svd_model.fit(matrix)\n",
    "        var_exp.append(svd_model.explained_variance_ratio_.sum())\n",
    "    \n",
    "    return var_exp "
   ]
  },
  {
   "cell_type": "code",
   "execution_count": 23,
   "metadata": {},
   "outputs": [],
   "source": [
    "def variance_cumsum(variance_list):\n",
    "    sns.set()\n",
    "    n_component = np.arange(1, 501, 20)\n",
    "    plt.plot(n_component, variance_list)"
   ]
  },
  {
   "cell_type": "code",
   "execution_count": 24,
   "metadata": {},
   "outputs": [
    {
     "name": "stderr",
     "output_type": "stream",
     "text": [
      "100%|██████████| 25/25 [02:03<00:00,  8.53s/it]\n"
     ]
    }
   ],
   "source": [
    "var_explained = var_explained_n(comatx)"
   ]
  },
  {
   "cell_type": "code",
   "execution_count": 25,
   "metadata": {},
   "outputs": [
    {
     "data": {
      "image/png": "[encoded data removed]",
      "text/plain": [
       "<matplotlib.figure.Figure at 0x7f7c6ee6edd8>"
      ]
     },
     "metadata": {},
     "output_type": "display_data"
    }
   ],
   "source": [
    "variance_cumsum(var_explained)"
   ]
  },
  {
   "cell_type": "code",
   "execution_count": 26,
   "metadata": {},
   "outputs": [],
   "source": [
    "svd_model = TruncatedSVD(n_components = 250)\n",
    "w_vec = svd_model.fit_transform(comatx)"
   ]
  },
  {
   "cell_type": "code",
   "execution_count": 27,
   "metadata": {},
   "outputs": [
    {
     "data": {
      "text/plain": [
       "(10000, 250)"
      ]
     },
     "execution_count": 27,
     "metadata": {},
     "output_type": "execute_result"
    }
   ],
   "source": [
    "w_vec.shape"
   ]
  },
  {
   "cell_type": "code",
   "execution_count": 28,
   "metadata": {},
   "outputs": [
    {
     "data": {
      "text/plain": [
       "0.9981429514308281"
      ]
     },
     "execution_count": 28,
     "metadata": {},
     "output_type": "execute_result"
    }
   ],
   "source": [
    "svd_model.explained_variance_ratio_.sum()"
   ]
  },
  {
   "cell_type": "markdown",
   "metadata": {},
   "source": [
    "## 7. K-Means Clustering on Word Vector"
   ]
  },
  {
   "cell_type": "code",
   "execution_count": 29,
   "metadata": {},
   "outputs": [
    {
     "name": "stderr",
     "output_type": "stream",
     "text": [
      "100%|██████████| 59/59 [06:08<00:00, 13.55s/it]\n"
     ]
    }
   ],
   "source": [
    "word_clusters = kmean_cluster(w_vec)"
   ]
  },
  {
   "cell_type": "code",
   "execution_count": 30,
   "metadata": {},
   "outputs": [
    {
     "data": {
      "image/png": "[encoded data removed]",
      "text/plain": [
       "<matplotlib.figure.Figure at 0x7f7c6ee6eeb8>"
      ]
     },
     "metadata": {},
     "output_type": "display_data"
    }
   ],
   "source": [
    "# find best k from the plot\n",
    "find_best_k(word_clusters)"
   ]
  },
  {
   "cell_type": "markdown",
   "metadata": {},
   "source": [
    "#### Observation:\n",
    "* From this curve it seems after 100 clusters the slope of the curve decreases. So, I'm taking 100 as the best-fit K."
   ]
  },
  {
   "cell_type": "code",
   "execution_count": 31,
   "metadata": {},
   "outputs": [],
   "source": [
    "cluster150 = word_clusters[28]"
   ]
  },
  {
   "cell_type": "code",
   "execution_count": 32,
   "metadata": {},
   "outputs": [],
   "source": [
    "cluster_sizes = []\n",
    "for i in range(0, 150):\n",
    "    cluster_sizes.append(len(np.array(feature_array)[cluster150.labels_ == i]))"
   ]
  },
  {
   "cell_type": "code",
   "execution_count": 33,
   "metadata": {
    "scrolled": true
   },
   "outputs": [
    {
     "data": {
      "text/plain": [
       "[8505,\n",
       " 1,\n",
       " 1,\n",
       " 1,\n",
       " 1,\n",
       " 1,\n",
       " 1,\n",
       " 1,\n",
       " 1,\n",
       " 1,\n",
       " 10,\n",
       " 1,\n",
       " 2,\n",
       " 1,\n",
       " 1,\n",
       " 1,\n",
       " 1,\n",
       " 1,\n",
       " 86,\n",
       " 1,\n",
       " 1,\n",
       " 1,\n",
       " 1,\n",
       " 1,\n",
       " 1,\n",
       " 3,\n",
       " 2,\n",
       " 1,\n",
       " 1,\n",
       " 1,\n",
       " 1,\n",
       " 1,\n",
       " 14,\n",
       " 1,\n",
       " 1,\n",
       " 1,\n",
       " 1,\n",
       " 1,\n",
       " 1,\n",
       " 1,\n",
       " 1,\n",
       " 1,\n",
       " 1,\n",
       " 1,\n",
       " 1,\n",
       " 752,\n",
       " 1,\n",
       " 1,\n",
       " 1,\n",
       " 1,\n",
       " 1,\n",
       " 1,\n",
       " 2,\n",
       " 1,\n",
       " 1,\n",
       " 1,\n",
       " 1,\n",
       " 1,\n",
       " 1,\n",
       " 1,\n",
       " 1,\n",
       " 1,\n",
       " 1,\n",
       " 4,\n",
       " 1,\n",
       " 1,\n",
       " 1,\n",
       " 1,\n",
       " 22,\n",
       " 1,\n",
       " 2,\n",
       " 1,\n",
       " 1,\n",
       " 1,\n",
       " 15,\n",
       " 1,\n",
       " 1,\n",
       " 1,\n",
       " 1,\n",
       " 1,\n",
       " 1,\n",
       " 1,\n",
       " 1,\n",
       " 2,\n",
       " 1,\n",
       " 1,\n",
       " 1,\n",
       " 274,\n",
       " 114,\n",
       " 1,\n",
       " 1,\n",
       " 1,\n",
       " 1,\n",
       " 1,\n",
       " 1,\n",
       " 1,\n",
       " 1,\n",
       " 1,\n",
       " 1,\n",
       " 1,\n",
       " 1,\n",
       " 1,\n",
       " 1,\n",
       " 1,\n",
       " 1,\n",
       " 1,\n",
       " 1,\n",
       " 4,\n",
       " 1,\n",
       " 16,\n",
       " 1,\n",
       " 1,\n",
       " 15,\n",
       " 1,\n",
       " 1,\n",
       " 1,\n",
       " 6,\n",
       " 1,\n",
       " 1,\n",
       " 1,\n",
       " 1,\n",
       " 1,\n",
       " 1,\n",
       " 2,\n",
       " 1,\n",
       " 1,\n",
       " 1,\n",
       " 1,\n",
       " 2,\n",
       " 1,\n",
       " 2,\n",
       " 1,\n",
       " 1,\n",
       " 13,\n",
       " 2,\n",
       " 1,\n",
       " 1,\n",
       " 1,\n",
       " 1,\n",
       " 1,\n",
       " 1,\n",
       " 1,\n",
       " 1,\n",
       " 1,\n",
       " 1,\n",
       " 1,\n",
       " 4,\n",
       " 1,\n",
       " 2,\n",
       " 1]"
      ]
     },
     "execution_count": 33,
     "metadata": {},
     "output_type": "execute_result"
    }
   ],
   "source": [
    "cluster_sizes"
   ]
  },
  {
   "cell_type": "code",
   "execution_count": 34,
   "metadata": {},
   "outputs": [
    {
     "data": {
      "text/plain": [
       "array(['ago', 'almond', 'beef', 'bite', 'brew', 'cake', 'chili', 'cocoa',\n",
       "       'cold', 'color', 'cook', 'cost', 'cut', 'decaf', 'dish', 'done',\n",
       "       'eaten', 'end', 'espresso', 'etc', 'fast', 'fell', 'fine', 'fish',\n",
       "       'formula', 'french', 'gift', 'ground', 'gum', 'hair', 'hand',\n",
       "       'havent', 'heat', 'husband', 'instant', 'keurig', 'larger', 'left',\n",
       "       'let', 'line', 'liquid', 'lunch', 'maker', 'market', 'mine',\n",
       "       'month', 'night', 'oatmeal', 'often', 'open', 'oz', 'packet',\n",
       "       'part', 'pepper', 'plain', 'plus', 'pot', 'prefer', 'quick',\n",
       "       'rather', 'raw', 'run', 'salad', 'second', 'seen', 'side',\n",
       "       'similar', 'smaller', 'soda', 'sodium', 'soy', 'spice', 'start',\n",
       "       'stevia', 'stick', 'super', 'teeth', 'throw', 'took', 'type',\n",
       "       'version', 'warm', 'week', 'weight', 'went', 'yogurt'],\n",
       "      dtype='<U15')"
      ]
     },
     "execution_count": 34,
     "metadata": {},
     "output_type": "execute_result"
    }
   ],
   "source": [
    "np.array(feature_array)[cluster150.labels_ == 18]"
   ]
  },
  {
   "cell_type": "code",
   "execution_count": 46,
   "metadata": {},
   "outputs": [],
   "source": [
    "from sklearn.metrics.pairwise import cosine_similarity\n",
    "def find_related_words(word):\n",
    "    cluster_indx = 0\n",
    "    for i in range(0, 150):\n",
    "        if word in np.array(feature_array)[cluster150.labels_ == i]:\n",
    "            cluster_no = i\n",
    "    word_indx = feature_array.index(word)\n",
    "    word_vec = w_vec[word_indx, :]\n",
    "    words_similarity = []\n",
    "    words_indx_list = []\n",
    "    for words in np.array(feature_array)[cluster150.labels_ == cluster_no]:\n",
    "        words_indx = feature_array.index(words)\n",
    "        words_vec = w_vec[words_indx, :]\n",
    "        words_indx_list.append(words_indx)\n",
    "        words_similarity.append(cosine_similarity(word_vec.reshape(1, -1), words_vec.reshape(1, -1)))\n",
    "    \n",
    "    return words_similarity"
   ]
  },
  {
   "cell_type": "code",
   "execution_count": 47,
   "metadata": {},
   "outputs": [],
   "source": [
    "similarity_list = find_related_words('brew')"
   ]
  },
  {
   "cell_type": "code",
   "execution_count": 48,
   "metadata": {},
   "outputs": [
    {
     "data": {
      "text/plain": [
       "[array([[0.59143264]]),\n",
       " array([[0.42893162]]),\n",
       " array([[0.56869519]]),\n",
       " array([[0.64818659]]),\n",
       " array([[1.]]),\n",
       " array([[0.59097611]]),\n",
       " array([[0.67134648]]),\n",
       " array([[0.58759077]]),\n",
       " array([[0.70391382]]),\n",
       " array([[0.7079399]]),\n",
       " array([[0.71875651]]),\n",
       " array([[0.60860862]]),\n",
       " array([[0.63447156]]),\n",
       " array([[0.82749181]]),\n",
       " array([[0.679673]]),\n",
       " array([[0.63308992]]),\n",
       " array([[0.44205231]]),\n",
       " array([[0.54201823]]),\n",
       " array([[0.78714109]]),\n",
       " array([[0.74351666]]),\n",
       " array([[0.60052636]]),\n",
       " array([[0.48217739]]),\n",
       " array([[0.77188324]]),\n",
       " array([[0.61442244]]),\n",
       " array([[0.65726353]]),\n",
       " array([[0.40259338]]),\n",
       " array([[0.56960547]]),\n",
       " array([[0.6866157]]),\n",
       " array([[0.67736108]]),\n",
       " array([[0.56944985]]),\n",
       " array([[0.51982093]]),\n",
       " array([[0.62039131]]),\n",
       " array([[0.72119062]]),\n",
       " array([[0.67074537]]),\n",
       " array([[0.73421968]]),\n",
       " array([[0.76414539]]),\n",
       " array([[0.68110897]]),\n",
       " array([[0.68555469]]),\n",
       " array([[0.61931448]]),\n",
       " array([[0.67256976]]),\n",
       " array([[0.75852926]]),\n",
       " array([[0.63000469]]),\n",
       " array([[0.77550021]]),\n",
       " array([[0.59943737]]),\n",
       " array([[0.72632955]]),\n",
       " array([[0.44019512]]),\n",
       " array([[0.67738673]]),\n",
       " array([[0.67801645]]),\n",
       " array([[0.72543302]]),\n",
       " array([[0.62345506]]),\n",
       " array([[0.73638595]]),\n",
       " array([[0.71996822]]),\n",
       " array([[0.61728189]]),\n",
       " array([[0.45617996]]),\n",
       " array([[0.70954811]]),\n",
       " array([[0.72401728]]),\n",
       " array([[0.80377952]]),\n",
       " array([[0.7485747]]),\n",
       " array([[0.59813293]]),\n",
       " array([[0.73571065]]),\n",
       " array([[0.60831609]]),\n",
       " array([[0.37050233]]),\n",
       " array([[0.65039986]]),\n",
       " array([[0.69316008]]),\n",
       " array([[0.43725014]]),\n",
       " array([[0.66234475]]),\n",
       " array([[0.6990752]]),\n",
       " array([[0.68990391]]),\n",
       " array([[0.66916559]]),\n",
       " array([[0.41801616]]),\n",
       " array([[0.44931827]]),\n",
       " array([[0.71940549]]),\n",
       " array([[0.62624788]]),\n",
       " array([[0.68713367]]),\n",
       " array([[0.62351729]]),\n",
       " array([[0.69765777]]),\n",
       " array([[0.55317234]]),\n",
       " array([[0.52802828]]),\n",
       " array([[0.6382318]]),\n",
       " array([[0.75110808]]),\n",
       " array([[0.73378659]]),\n",
       " array([[0.74937293]]),\n",
       " array([[0.61046037]]),\n",
       " array([[0.548059]]),\n",
       " array([[0.58427905]]),\n",
       " array([[0.62805189]])]"
      ]
     },
     "execution_count": 48,
     "metadata": {},
     "output_type": "execute_result"
    }
   ],
   "source": [
    "similarity_list"
   ]
  },
  {
   "cell_type": "code",
   "execution_count": 43,
   "metadata": {},
   "outputs": [
    {
     "name": "stdout",
     "output_type": "stream",
     "text": [
      "8344\n",
      "[ 1.49735720e+03 -2.76001322e+02 -9.35244853e+01  2.98685099e+02\n",
      " -7.28959444e+01 -3.23312241e+02 -7.26806295e+02 -2.79620673e+01\n",
      " -6.14084387e+02 -3.01479160e+02 -1.36917708e+02 -1.25668005e+02\n",
      "  1.82071002e+02 -2.87974916e+02 -1.38894207e+02  3.04983845e+01\n",
      "  9.28289972e-01  6.21194180e+01  6.44493727e+01 -4.13913174e+01\n",
      "  3.56118125e+00 -6.12944900e+00  1.42969459e+02 -5.84086454e+01\n",
      " -1.06940326e+02  4.71541122e+01  2.95743773e+01  8.09297329e+01\n",
      " -8.61614957e+01  2.06078778e+01 -2.96248366e+00 -6.57365763e+01\n",
      " -2.87803829e+01 -6.47143077e+01 -1.18301762e+02  2.20738974e+02\n",
      " -5.27786959e+01 -2.20153813e+01 -4.69153442e+01 -1.22444422e+02\n",
      "  1.70141080e+01  3.95025897e+01 -2.85871334e+01  1.36250097e+02\n",
      "  6.79598821e+01 -1.16906727e+02  3.53119726e+01  9.27434066e+01\n",
      "  8.47887279e+01 -9.63247770e+01 -5.28428529e+01 -2.98553930e+01\n",
      "  4.33716491e+01  1.36088992e+01 -5.22601753e+01  2.63033482e+01\n",
      " -1.32995158e+02  2.95863700e+01  5.63377108e+01  1.14491054e+02\n",
      "  7.83010454e+01 -7.22017869e+00 -1.10791765e+00 -8.34749144e+01\n",
      " -5.65481006e+01 -2.72926875e+01 -3.05450802e+00 -1.62880739e+01\n",
      " -9.52355518e+00 -4.74912154e+01  1.12742892e+01  7.70476407e+01\n",
      "  2.41570573e+01 -1.04736589e+01 -9.06741914e+00  3.26670359e+01\n",
      " -1.41503491e+01 -9.59449705e+00  1.92964324e+01 -1.56256592e+01\n",
      " -9.81903098e+01 -1.85176113e+01 -1.67420728e+01  6.77396904e+01\n",
      " -7.50088133e+01  7.80903136e+00  5.67669598e+01  5.92555489e+00\n",
      " -1.41257952e+01 -3.39150597e+00 -6.78169087e+01 -9.86252440e+00\n",
      "  1.21884047e+01 -8.43156366e+01 -1.69224110e+01 -7.45426262e+00\n",
      " -3.96480274e+01  9.19173797e+01  3.97997764e+00  7.17027355e+01\n",
      "  4.82270554e+01 -7.73680286e+00  5.39709092e+01 -5.81650360e+00\n",
      " -1.31528758e+02  2.56655393e+01 -4.03961800e+00  1.87324272e+01\n",
      " -5.83112125e+00  3.98920977e+01  3.34151376e+01 -4.97722252e+01\n",
      "  2.20912588e+01  2.64297839e+01 -5.10837261e+01 -5.41048531e+00\n",
      " -2.12221380e+01  3.33193287e+01  2.40886797e+01  3.80749499e+01\n",
      "  4.16135038e+01 -2.96567437e+01 -3.29419114e+01  5.34089814e+01\n",
      " -2.19237595e+01 -4.06992228e+01 -1.26047534e+01 -1.47264945e+01\n",
      "  1.72375831e+01 -2.78102236e+01  4.08159930e+01  3.80077323e+01\n",
      " -8.17980562e+00  4.32424697e+01 -4.57198782e+01 -5.76676393e+00\n",
      " -3.22535914e+01  3.42602131e+00  2.87051186e+01  7.05958508e+01\n",
      "  1.97227037e+01 -2.62901920e+01 -6.43886041e+00 -3.49955686e+01\n",
      " -3.12325563e+01  4.02201575e+01  3.62108399e+01 -2.63204657e+00\n",
      " -5.17769644e+01 -4.41222442e+00  1.39597626e+01 -6.95582440e+00\n",
      " -6.26421326e-01 -2.83830828e+01 -9.46047026e+01  5.26781754e+01\n",
      "  7.09691496e+00  2.23705453e+01  3.71070271e+00  2.87048395e+00\n",
      "  4.20400124e+01  3.14189493e+01 -5.50689911e+01 -1.69281610e+01\n",
      "  2.11592610e+01 -5.31446237e+01 -6.65455348e+00 -1.86641032e+01\n",
      " -6.23338818e+01  7.44817223e+00  4.30253558e+01 -5.45645112e+01\n",
      " -2.07145226e+01 -3.83030226e+01  2.28867476e+01  3.83034131e+01\n",
      "  9.40512654e+00  2.28775466e+01  1.15718736e+01  1.89069201e+01\n",
      "  1.79609776e+01  7.22956276e+01 -1.83914157e+01  8.48620968e+00\n",
      "  4.36302608e+01  3.70159055e+00 -1.47240237e+01 -5.62675549e+01\n",
      "  7.93581775e+01  7.65525274e+01 -1.70080501e+01 -7.31192387e+01\n",
      " -3.63084632e+01  8.01999002e+00 -5.07222845e+01  9.36976294e+01\n",
      "  8.83870087e+00  1.78449867e+01 -1.98055978e+01 -8.74181252e+00\n",
      "  8.04438308e+00 -3.76121704e+01  2.24820911e-01  8.23125235e+00\n",
      " -1.56553572e+01 -2.36563074e+01 -1.32233413e+01  3.12332001e+01\n",
      " -6.32487712e+00 -5.34315922e+00  2.76333972e+01  4.73909196e+01\n",
      "  7.80000001e-01 -2.95300541e+01 -2.93213184e+01  3.74031225e+01\n",
      " -2.13931936e+01 -1.33609295e+01  2.55498816e+01  3.91686945e+01\n",
      " -1.93922699e+01 -4.95163729e+01 -1.14892647e+01 -1.01048614e+02\n",
      " -6.51895951e+01  3.29989203e+01  6.36204160e+01  2.15269815e+01\n",
      "  8.11177086e+00  7.39160061e+01 -3.21899686e+01  3.68080387e+01\n",
      "  3.08923071e+01  4.83524622e+01  6.23135766e+01  4.54572195e+01\n",
      " -1.30738163e+02  1.95762261e+01 -2.62858012e+01 -1.28576663e+01\n",
      " -2.61067834e+00  8.43947646e+01 -2.62526957e+01 -2.63081603e+01\n",
      " -2.69422900e+01  5.65008520e+01  2.24766501e+01  3.13801158e+01\n",
      " -7.36451869e+01 -1.69014569e+01]\n"
     ]
    }
   ],
   "source": [
    "find_related_words('stick')"
   ]
  },
  {
   "cell_type": "markdown",
   "metadata": {},
   "source": [
    "#### Observation:\n",
    "* These words are food items, mostly related to grain and its product except the word chicken."
   ]
  },
  {
   "cell_type": "code",
   "execution_count": 66,
   "metadata": {},
   "outputs": [
    {
     "data": {
      "text/plain": [
       "array(['almost', 'bit', 'cereal', 'enjoy', 'feel', 'fresh', 'fruit',\n",
       "       'isnt', 'kind', 'less', 'look', 'lot', 'might', 'perfect', 'real',\n",
       "       'regular', 'salt', 'small', 'smell', 'treat', 'whole', 'without'],\n",
       "      dtype='<U11')"
      ]
     },
     "execution_count": 66,
     "metadata": {},
     "output_type": "execute_result"
    }
   ],
   "source": [
    "np.array(feature_array)[cluster100.labels_ == 13]"
   ]
  },
  {
   "cell_type": "markdown",
   "metadata": {},
   "source": [
    "#### Observation:\n",
    "*  This word cluster seems to related to breakfast, like:- cereal with fresh fruit or with whole milk etc."
   ]
  },
  {
   "cell_type": "code",
   "execution_count": 74,
   "metadata": {},
   "outputs": [
    {
     "data": {
      "text/plain": [
       "array(['corn', 'fat', 'fiber', 'high', 'low', 'protein', 'sodium',\n",
       "       'syrup'], dtype='<U11')"
      ]
     },
     "execution_count": 74,
     "metadata": {},
     "output_type": "execute_result"
    }
   ],
   "source": [
    "np.array(feature_array)[cluster100.labels_ == 92]"
   ]
  },
  {
   "cell_type": "markdown",
   "metadata": {},
   "source": [
    "#### Observation:\n",
    "* This cluster seems to be about corn and nutritional content in it."
   ]
  },
  {
   "cell_type": "code",
   "execution_count": 139,
   "metadata": {},
   "outputs": [
    {
     "data": {
      "text/plain": [
       "array(['dark', 'full', 'light', 'rich', 'smooth', 'vanilla'], dtype='<U11')"
      ]
     },
     "execution_count": 139,
     "metadata": {},
     "output_type": "execute_result"
    }
   ],
   "source": [
    "np.array(feature_array)[cluster100.labels_ == 85]"
   ]
  },
  {
   "cell_type": "markdown",
   "metadata": {},
   "source": [
    "#### Observation:\n",
    "* All these words are most related to Coffee, like:- dark coffee, light coffee or rich and smooth or vanilla flavored coffee etc."
   ]
  },
  {
   "cell_type": "markdown",
   "metadata": {},
   "source": [
    "## 8. Summary "
   ]
  },
  {
   "cell_type": "markdown",
   "metadata": {},
   "source": [
    "#### Approach:\n",
    "&nbsp;&nbsp;&nbsp;&nbsp;&nbsp;&nbsp;&nbsp;&nbsp;&nbsp;&nbsp;&nbsp;&nbsp;&nbsp;&nbsp;&nbsp;&nbsp;&nbsp;&nbsp;&nbsp;&nbsp;&nbsp;&nbsp;&nbsp;&nbsp;  The Amazon Fine Food dataset is used here to cluster them in some groups. I have taken only 2000 top words from TFIDF representation as calculating co-occurrence matrix takes much time. I used Truncated SVD to find word vector representation and applied K-Means clustering to it to cluster similar words together.\n",
    "<br>\n",
    "#### Conclusion:\n",
    "* Both Truncated SVD and K-Means clustering performed well as the final clusters are very much meaningful. "
   ]
  }
 ],
 "metadata": {
  "kernelspec": {
   "display_name": "Python 3",
   "language": "python",
   "name": "python3"
  },
  "language_info": {
   "codemirror_mode": {
    "name": "ipython",
    "version": 3
   },
   "file_extension": ".py",
   "mimetype": "text/x-python",
   "name": "python",
   "nbconvert_exporter": "python",
   "pygments_lexer": "ipython3",
   "version": "3.6.4"
  }
 },
 "nbformat": 4,
 "nbformat_minor": 2
}
