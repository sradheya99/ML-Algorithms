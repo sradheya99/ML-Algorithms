{
 "cells": [
  {
   "cell_type": "markdown",
   "metadata": {},
   "source": [
    "# Clustering Algorithms on Amazon Fine Food Reviews "
   ]
  },
  {
   "cell_type": "markdown",
   "metadata": {},
   "source": [
    "## [ CONTENTS ] \n",
    "\n",
    "1. About the dataset<br>\n",
    "2. Objective<br>\n",
    "3. Loading the data<br>\n",
    "4. Data Preprocessing <br>\n",
    "5. Function Definitions<br>\n",
    "6. Bag of Words (BoW)<br>\n",
    "7. TF-IDF<br>\n",
    "8. Word2Vec<br>\n",
    "9. Avg W2V & TFIDF-W2V<br>\n",
    "10. TF-IDF weighted W2V<br>\n",
    "11. Summary<br>"
   ]
  },
  {
   "cell_type": "markdown",
   "metadata": {},
   "source": [
    "## 1. About the dataset\n",
    "1. Title: Amazon Fine Food Reviews. Link:https://www.kaggle.com/snap/amazon-fine-food-reviews\n",
    "2. Relevant Information: This dataset consists of reviews of fine foods from amazon. The data span a period of more than 10 years, including all ~500,000 reviews up to October 2012. Reviews include product and user information, ratings, and a plain text review. It also includes reviews from all other Amazon categories.\n",
    "3. Data includes:\n",
    "    * Number of reviews: 568,454<br>\n",
    "    * Number of users: 256,059<br>\n",
    "    * Number of products: 74,258<br>\n",
    "    * Timespan: Oct 1999 - Oct 2012<br>\n",
    "    * Number of Attributes/Columns in data: 10 \n",
    "4. Attribute Information: \n",
    "    * Id\n",
    "    * ProductId - unique identifier for the product\n",
    "    * UserId - unqiue identifier for the user\n",
    "    * ProfileName\n",
    "    * HelpfulnessNumerator - number of users who found the review helpful\n",
    "    * HelpfulnessDenominator - number of users who indicated whether they found the review helpful or not\n",
    "    * Score - rating between 1 and 5\n",
    "    * Time - timestamp for the review\n",
    "    * Summary - brief summary of the review\n",
    "    * Text - text of the review"
   ]
  },
  {
   "cell_type": "markdown",
   "metadata": {},
   "source": [
    "## 2. Objective:\n",
    "For given Amazon reviews, cluster them into groups using unsupervised algorithms.<br>\n",
    "<br>\n",
    "Here I'm using various clustering algorithms(K-means, K-medoid, Hirarchical, DBSCAN) to cluster the reviews into different groups. To convert a review text to numerical features I'm using bag of words(BoW), TF-IDF, Word2Vec and TF-IDF weighted Word2Vec. "
   ]
  },
  {
   "cell_type": "code",
   "execution_count": 1,
   "metadata": {},
   "outputs": [],
   "source": [
    "# importing required libraries\n",
    "import numpy as np\n",
    "import pandas as pd \n",
    "import matplotlib \n",
    "import sqlite3\n",
    "import string\n",
    "import nltk\n",
    "import time\n",
    "from matplotlib import pyplot as plt \n",
    "import seaborn as sns \n",
    "from scipy import stats\n",
    "from sklearn.feature_extraction.text import TfidfTransformer\n",
    "from sklearn.feature_extraction.text import TfidfVectorizer\n",
    "from sklearn.feature_extraction.text import CountVectorizer\n",
    "from sklearn.decomposition import TruncatedSVD\n",
    "from sklearn.cluster import KMeans\n",
    "from sklearn.cluster import AgglomerativeClustering\n",
    "from sklearn.cluster import DBSCAN\n",
    "import warnings\n",
    "warnings.filterwarnings('ignore')"
   ]
  },
  {
   "cell_type": "code",
   "execution_count": 2,
   "metadata": {},
   "outputs": [],
   "source": [
    "from sklearn.preprocessing import StandardScaler\n",
    "from sklearn.preprocessing import scale, minmax_scale\n",
    "\n",
    "#Standardizing the data\n",
    "def standardizer(data):\n",
    "    stnd_scaler = StandardScaler(with_mean=False)\n",
    "    stnd_matx = stnd_scaler.fit_transform(data)\n",
    "    return stnd_matx"
   ]
  },
  {
   "cell_type": "markdown",
   "metadata": {},
   "source": [
    "## 3. Loading the data"
   ]
  },
  {
   "cell_type": "code",
   "execution_count": 3,
   "metadata": {},
   "outputs": [],
   "source": [
    "# Loading the previously cleaned data\n",
    "connect = sqlite3.connect('final_data.sqlite')\n",
    "\n",
    "#Ignoring the rows which have rating 3\n",
    "data = pd.read_sql_query(\"\"\"\n",
    "SELECT *\n",
    "FROM Reviews\n",
    "\"\"\", connect)"
   ]
  },
  {
   "cell_type": "code",
   "execution_count": 4,
   "metadata": {},
   "outputs": [
    {
     "data": {
      "text/plain": [
       "(364171, 12)"
      ]
     },
     "execution_count": 4,
     "metadata": {},
     "output_type": "execute_result"
    }
   ],
   "source": [
    "data.shape"
   ]
  },
  {
   "cell_type": "code",
   "execution_count": 5,
   "metadata": {},
   "outputs": [
    {
     "data": {
      "text/html": [
       "<div>\n",
       "<style scoped>\n",
       "    .dataframe tbody tr th:only-of-type {\n",
       "        vertical-align: middle;\n",
       "    }\n",
       "\n",
       "    .dataframe tbody tr th {\n",
       "        vertical-align: top;\n",
       "    }\n",
       "\n",
       "    .dataframe thead th {\n",
       "        text-align: right;\n",
       "    }\n",
       "</style>\n",
       "<table border=\"1\" class=\"dataframe\">\n",
       "  <thead>\n",
       "    <tr style=\"text-align: right;\">\n",
       "      <th></th>\n",
       "      <th>index</th>\n",
       "      <th>Id</th>\n",
       "      <th>ProductId</th>\n",
       "      <th>UserId</th>\n",
       "      <th>ProfileName</th>\n",
       "      <th>HelpfulnessNumerator</th>\n",
       "      <th>HelpfulnessDenominator</th>\n",
       "      <th>Score</th>\n",
       "      <th>Time</th>\n",
       "      <th>Summary</th>\n",
       "      <th>Text</th>\n",
       "      <th>CleanedText</th>\n",
       "    </tr>\n",
       "  </thead>\n",
       "  <tbody>\n",
       "    <tr>\n",
       "      <th>0</th>\n",
       "      <td>138706</td>\n",
       "      <td>150524</td>\n",
       "      <td>0006641040</td>\n",
       "      <td>ACITT7DI6IDDL</td>\n",
       "      <td>shari zychinski</td>\n",
       "      <td>0</td>\n",
       "      <td>0</td>\n",
       "      <td>positive</td>\n",
       "      <td>939340800</td>\n",
       "      <td>EVERY book is educational</td>\n",
       "      <td>this witty little book makes my son laugh at l...</td>\n",
       "      <td>b'witti littl book make son laugh loud recit c...</td>\n",
       "    </tr>\n",
       "    <tr>\n",
       "      <th>1</th>\n",
       "      <td>138688</td>\n",
       "      <td>150506</td>\n",
       "      <td>0006641040</td>\n",
       "      <td>A2IW4PEEKO2R0U</td>\n",
       "      <td>Tracy</td>\n",
       "      <td>1</td>\n",
       "      <td>1</td>\n",
       "      <td>positive</td>\n",
       "      <td>1194739200</td>\n",
       "      <td>Love the book, miss the hard cover version</td>\n",
       "      <td>I grew up reading these Sendak books, and watc...</td>\n",
       "      <td>b'grew read sendak book watch realli rosi movi...</td>\n",
       "    </tr>\n",
       "    <tr>\n",
       "      <th>2</th>\n",
       "      <td>138689</td>\n",
       "      <td>150507</td>\n",
       "      <td>0006641040</td>\n",
       "      <td>A1S4A3IQ2MU7V4</td>\n",
       "      <td>sally sue \"sally sue\"</td>\n",
       "      <td>1</td>\n",
       "      <td>1</td>\n",
       "      <td>positive</td>\n",
       "      <td>1191456000</td>\n",
       "      <td>chicken soup with rice months</td>\n",
       "      <td>This is a fun way for children to learn their ...</td>\n",
       "      <td>b'fun way children learn month year learn poem...</td>\n",
       "    </tr>\n",
       "    <tr>\n",
       "      <th>3</th>\n",
       "      <td>138690</td>\n",
       "      <td>150508</td>\n",
       "      <td>0006641040</td>\n",
       "      <td>AZGXZ2UUK6X</td>\n",
       "      <td>Catherine Hallberg \"(Kate)\"</td>\n",
       "      <td>1</td>\n",
       "      <td>1</td>\n",
       "      <td>positive</td>\n",
       "      <td>1076025600</td>\n",
       "      <td>a good swingy rhythm for reading aloud</td>\n",
       "      <td>This is a great little book to read aloud- it ...</td>\n",
       "      <td>b'great littl book read nice rhythm well good ...</td>\n",
       "    </tr>\n",
       "    <tr>\n",
       "      <th>4</th>\n",
       "      <td>138691</td>\n",
       "      <td>150509</td>\n",
       "      <td>0006641040</td>\n",
       "      <td>A3CMRKGE0P909G</td>\n",
       "      <td>Teresa</td>\n",
       "      <td>3</td>\n",
       "      <td>4</td>\n",
       "      <td>positive</td>\n",
       "      <td>1018396800</td>\n",
       "      <td>A great way to learn the months</td>\n",
       "      <td>This is a book of poetry about the months of t...</td>\n",
       "      <td>b'book poetri month year goe month cute littl ...</td>\n",
       "    </tr>\n",
       "  </tbody>\n",
       "</table>\n",
       "</div>"
      ],
      "text/plain": [
       "    index      Id   ProductId          UserId                  ProfileName  \\\n",
       "0  138706  150524  0006641040   ACITT7DI6IDDL              shari zychinski   \n",
       "1  138688  150506  0006641040  A2IW4PEEKO2R0U                        Tracy   \n",
       "2  138689  150507  0006641040  A1S4A3IQ2MU7V4        sally sue \"sally sue\"   \n",
       "3  138690  150508  0006641040     AZGXZ2UUK6X  Catherine Hallberg \"(Kate)\"   \n",
       "4  138691  150509  0006641040  A3CMRKGE0P909G                       Teresa   \n",
       "\n",
       "   HelpfulnessNumerator  HelpfulnessDenominator     Score        Time  \\\n",
       "0                     0                       0  positive   939340800   \n",
       "1                     1                       1  positive  1194739200   \n",
       "2                     1                       1  positive  1191456000   \n",
       "3                     1                       1  positive  1076025600   \n",
       "4                     3                       4  positive  1018396800   \n",
       "\n",
       "                                      Summary  \\\n",
       "0                   EVERY book is educational   \n",
       "1  Love the book, miss the hard cover version   \n",
       "2               chicken soup with rice months   \n",
       "3      a good swingy rhythm for reading aloud   \n",
       "4             A great way to learn the months   \n",
       "\n",
       "                                                Text  \\\n",
       "0  this witty little book makes my son laugh at l...   \n",
       "1  I grew up reading these Sendak books, and watc...   \n",
       "2  This is a fun way for children to learn their ...   \n",
       "3  This is a great little book to read aloud- it ...   \n",
       "4  This is a book of poetry about the months of t...   \n",
       "\n",
       "                                         CleanedText  \n",
       "0  b'witti littl book make son laugh loud recit c...  \n",
       "1  b'grew read sendak book watch realli rosi movi...  \n",
       "2  b'fun way children learn month year learn poem...  \n",
       "3  b'great littl book read nice rhythm well good ...  \n",
       "4  b'book poetri month year goe month cute littl ...  "
      ]
     },
     "execution_count": 5,
     "metadata": {},
     "output_type": "execute_result"
    }
   ],
   "source": [
    "data.head()"
   ]
  },
  {
   "cell_type": "markdown",
   "metadata": {},
   "source": [
    "## 4. Data Preprocessing"
   ]
  },
  {
   "cell_type": "code",
   "execution_count": 6,
   "metadata": {},
   "outputs": [],
   "source": [
    "sorted_data = data.sort_values('Time', axis=0, ascending=True, inplace=False, kind='quicksort', na_position='last')"
   ]
  },
  {
   "cell_type": "code",
   "execution_count": 7,
   "metadata": {
    "scrolled": false
   },
   "outputs": [
    {
     "data": {
      "text/html": [
       "<div>\n",
       "<style scoped>\n",
       "    .dataframe tbody tr th:only-of-type {\n",
       "        vertical-align: middle;\n",
       "    }\n",
       "\n",
       "    .dataframe tbody tr th {\n",
       "        vertical-align: top;\n",
       "    }\n",
       "\n",
       "    .dataframe thead th {\n",
       "        text-align: right;\n",
       "    }\n",
       "</style>\n",
       "<table border=\"1\" class=\"dataframe\">\n",
       "  <thead>\n",
       "    <tr style=\"text-align: right;\">\n",
       "      <th></th>\n",
       "      <th>index</th>\n",
       "      <th>Id</th>\n",
       "      <th>ProductId</th>\n",
       "      <th>UserId</th>\n",
       "      <th>ProfileName</th>\n",
       "      <th>HelpfulnessNumerator</th>\n",
       "      <th>HelpfulnessDenominator</th>\n",
       "      <th>Score</th>\n",
       "      <th>Time</th>\n",
       "      <th>Summary</th>\n",
       "      <th>Text</th>\n",
       "      <th>CleanedText</th>\n",
       "    </tr>\n",
       "  </thead>\n",
       "  <tbody>\n",
       "    <tr>\n",
       "      <th>0</th>\n",
       "      <td>138706</td>\n",
       "      <td>150524</td>\n",
       "      <td>0006641040</td>\n",
       "      <td>ACITT7DI6IDDL</td>\n",
       "      <td>shari zychinski</td>\n",
       "      <td>0</td>\n",
       "      <td>0</td>\n",
       "      <td>positive</td>\n",
       "      <td>939340800</td>\n",
       "      <td>EVERY book is educational</td>\n",
       "      <td>this witty little book makes my son laugh at l...</td>\n",
       "      <td>b'witti littl book make son laugh loud recit c...</td>\n",
       "    </tr>\n",
       "    <tr>\n",
       "      <th>30</th>\n",
       "      <td>138683</td>\n",
       "      <td>150501</td>\n",
       "      <td>0006641040</td>\n",
       "      <td>AJ46FKXOVC7NR</td>\n",
       "      <td>Nicholas A Mesiano</td>\n",
       "      <td>2</td>\n",
       "      <td>2</td>\n",
       "      <td>positive</td>\n",
       "      <td>940809600</td>\n",
       "      <td>This whole series is great way to spend time w...</td>\n",
       "      <td>I can remember seeing the show when it aired o...</td>\n",
       "      <td>b'rememb see show air televis year ago child s...</td>\n",
       "    </tr>\n",
       "    <tr>\n",
       "      <th>424</th>\n",
       "      <td>417839</td>\n",
       "      <td>451856</td>\n",
       "      <td>B00004CXX9</td>\n",
       "      <td>AIUWLEQ1ADEG5</td>\n",
       "      <td>Elizabeth Medina</td>\n",
       "      <td>0</td>\n",
       "      <td>0</td>\n",
       "      <td>positive</td>\n",
       "      <td>944092800</td>\n",
       "      <td>Entertainingl Funny!</td>\n",
       "      <td>Beetlejuice is a well written movie ..... ever...</td>\n",
       "      <td>b'beetlejuic well written movi everyth excel a...</td>\n",
       "    </tr>\n",
       "    <tr>\n",
       "      <th>330</th>\n",
       "      <td>346055</td>\n",
       "      <td>374359</td>\n",
       "      <td>B00004CI84</td>\n",
       "      <td>A344SMIA5JECGM</td>\n",
       "      <td>Vincent P. Ross</td>\n",
       "      <td>1</td>\n",
       "      <td>2</td>\n",
       "      <td>positive</td>\n",
       "      <td>944438400</td>\n",
       "      <td>A modern day fairy tale</td>\n",
       "      <td>A twist of rumplestiskin captured on film, sta...</td>\n",
       "      <td>b'twist rumplestiskin captur film star michael...</td>\n",
       "    </tr>\n",
       "    <tr>\n",
       "      <th>423</th>\n",
       "      <td>417838</td>\n",
       "      <td>451855</td>\n",
       "      <td>B00004CXX9</td>\n",
       "      <td>AJH6LUC1UT1ON</td>\n",
       "      <td>The Phantom of the Opera</td>\n",
       "      <td>0</td>\n",
       "      <td>0</td>\n",
       "      <td>positive</td>\n",
       "      <td>946857600</td>\n",
       "      <td>FANTASTIC!</td>\n",
       "      <td>Beetlejuice is an excellent and funny movie. K...</td>\n",
       "      <td>b'beetlejuic excel funni movi keaton hilari wa...</td>\n",
       "    </tr>\n",
       "  </tbody>\n",
       "</table>\n",
       "</div>"
      ],
      "text/plain": [
       "      index      Id   ProductId          UserId               ProfileName  \\\n",
       "0    138706  150524  0006641040   ACITT7DI6IDDL           shari zychinski   \n",
       "30   138683  150501  0006641040   AJ46FKXOVC7NR        Nicholas A Mesiano   \n",
       "424  417839  451856  B00004CXX9   AIUWLEQ1ADEG5          Elizabeth Medina   \n",
       "330  346055  374359  B00004CI84  A344SMIA5JECGM           Vincent P. Ross   \n",
       "423  417838  451855  B00004CXX9   AJH6LUC1UT1ON  The Phantom of the Opera   \n",
       "\n",
       "     HelpfulnessNumerator  HelpfulnessDenominator     Score       Time  \\\n",
       "0                       0                       0  positive  939340800   \n",
       "30                      2                       2  positive  940809600   \n",
       "424                     0                       0  positive  944092800   \n",
       "330                     1                       2  positive  944438400   \n",
       "423                     0                       0  positive  946857600   \n",
       "\n",
       "                                               Summary  \\\n",
       "0                            EVERY book is educational   \n",
       "30   This whole series is great way to spend time w...   \n",
       "424                               Entertainingl Funny!   \n",
       "330                            A modern day fairy tale   \n",
       "423                                         FANTASTIC!   \n",
       "\n",
       "                                                  Text  \\\n",
       "0    this witty little book makes my son laugh at l...   \n",
       "30   I can remember seeing the show when it aired o...   \n",
       "424  Beetlejuice is a well written movie ..... ever...   \n",
       "330  A twist of rumplestiskin captured on film, sta...   \n",
       "423  Beetlejuice is an excellent and funny movie. K...   \n",
       "\n",
       "                                           CleanedText  \n",
       "0    b'witti littl book make son laugh loud recit c...  \n",
       "30   b'rememb see show air televis year ago child s...  \n",
       "424  b'beetlejuic well written movi everyth excel a...  \n",
       "330  b'twist rumplestiskin captur film star michael...  \n",
       "423  b'beetlejuic excel funni movi keaton hilari wa...  "
      ]
     },
     "execution_count": 7,
     "metadata": {},
     "output_type": "execute_result"
    }
   ],
   "source": [
    "sorted_data.head(5)"
   ]
  },
  {
   "cell_type": "markdown",
   "metadata": {},
   "source": [
    "## 5. Function Definitions"
   ]
  },
  {
   "cell_type": "markdown",
   "metadata": {},
   "source": [
    "### 5.1. K-Means Clustering"
   ]
  },
  {
   "cell_type": "code",
   "execution_count": 166,
   "metadata": {},
   "outputs": [],
   "source": [
    "def kmean_cluster(data, vectorizer, name, data_in_list = None):\n",
    "    \n",
    "    fit_models = []\n",
    "    num_clusters = np.arange(10, 51, 5)\n",
    "    if name in ['BoW','TFIDF']:\n",
    "                \n",
    "        vect = standardizer(vectorizer.fit_transform(data['CleanedText'].values))\n",
    "        for i in num_clusters:\n",
    "            clf = KMeans(n_clusters = i, n_init = 8, n_jobs = -1) \n",
    "            clf.fit(vect)\n",
    "            fit_models.append(clf)\n",
    "\n",
    "    elif name == 'Word2Vec':\n",
    "                \n",
    "        w2v_model = gensim.models.Word2Vec(data_in_list, min_count=5, size=100, workers=-1)\n",
    "        w2v_vect = avg_w2v(data_in_list, w2v_model)\n",
    "        \n",
    "        for i in num_clusters:\n",
    "            clf = KMeans(n_clusters = i, n_init = 8, n_jobs = -1) \n",
    "            clf.fit(w2v_vect)\n",
    "            fit_models.append(clf)\n",
    "                \n",
    "    else:\n",
    "                \n",
    "        w2v_model = gensim.models.Word2Vec(np.array(data_in_list), min_count=5, size=100, workers=-1)\n",
    "        tfidf_matx = tf_idf_vect.fit_transform(data)\n",
    "        dictionary = dict(zip(tf_idf_vect.get_feature_names(), list(tf_idf_vect.idf_)))\n",
    "        tfidf_w2v_vect = tfidf_w2v(data_in_list, w2v_model, dictionary)\n",
    "        tfidf_w2v_vect = np.nan_to_num(tfidf_w2v_vect)\n",
    "        \n",
    "        for i in num_clusters:\n",
    "            clf = KMeans(n_clusters = i, n_init = 8, n_jobs = -1) \n",
    "            clf.fit( tfidf_w2v_vect)\n",
    "            fit_models.append(clf)\n",
    "                          \n",
    "    return fit_models"
   ]
  },
  {
   "cell_type": "code",
   "execution_count": 9,
   "metadata": {},
   "outputs": [],
   "source": [
    "def find_best_k(clusters):\n",
    "    \n",
    "    num_clusts = np.arange(10, 51, 5)\n",
    "    intra_clust_dists = []\n",
    "    for clust in clusters:\n",
    "        intra_clust_dists.append(clust.inertia_)\n",
    "    sns.set()\n",
    "    plt.figure(figsize = (8, 5))\n",
    "    plt.plot(num_clusts, intra_clust_dists, color = 'b')\n",
    "    plt.xlabel('Num of Clusters')\n",
    "    plt.ylabel('Intra-Cluster Distances')\n",
    "    plt.title('Intra-Cluster Distance Vs Num of Clusters')\n",
    "    plt.plot()"
   ]
  },
  {
   "cell_type": "markdown",
   "metadata": {},
   "source": [
    "### 5.2. Hierarchical Clustering"
   ]
  },
  {
   "cell_type": "code",
   "execution_count": 194,
   "metadata": {},
   "outputs": [],
   "source": [
    "def Hierarchical_cluster(data, vectorizer, name, data_in_list = None):\n",
    "    \n",
    "    fit_models = []\n",
    "    num_clusters = np.arange(2, 11, 1)\n",
    "    if name in ['BoW','TFIDF']:\n",
    "                \n",
    "        vect = standardizer(vectorizer.fit_transform(data['CleanedText'].values))\n",
    "        for i in num_clusters:\n",
    "            clf = AgglomerativeClustering(n_clusters = i) \n",
    "            clf.fit(vect.toarray())\n",
    "            fit_models.append(clf)\n",
    "\n",
    "    elif name == 'Word2Vec':\n",
    "                \n",
    "        w2v_model = gensim.models.Word2Vec(data, min_count=5, size=100, workers=-1)\n",
    "        w2v_vect = avg_w2v(data, w2v_model)\n",
    "        \n",
    "        for i in num_clusters:\n",
    "            clf = AgglomerativeClustering(n_clusters = i) \n",
    "            clf.fit(w2v_vect)\n",
    "            fit_models.append(clf)\n",
    "                \n",
    "    else:\n",
    "                \n",
    "        w2v_model = gensim.models.Word2Vec(np.array(data_in_list), min_count=5, size=100, workers=-1)\n",
    "        tfidf_matx = tf_idf_vect.fit_transform(data)\n",
    "        dictionary = dict(zip(tf_idf_vect.get_feature_names(), list(tf_idf_vect.idf_)))\n",
    "        tfidf_w2v_vect = tfidf_w2v(data_in_list, w2v_model, dictionary)\n",
    "        tfidf_w2v_vect = np.nan_to_num(tfidf_w2v_vect)\n",
    "        \n",
    "        for i in num_clusters:\n",
    "            clf = AgglomerativeClustering(n_clusters = i) \n",
    "            clf.fit( tfidf_w2v_vect)\n",
    "            fit_models.append(clf)\n",
    "                          \n",
    "    return fit_models"
   ]
  },
  {
   "cell_type": "markdown",
   "metadata": {},
   "source": [
    "### 5.3. DBSCAN Clustering"
   ]
  },
  {
   "cell_type": "code",
   "execution_count": 228,
   "metadata": {},
   "outputs": [],
   "source": [
    "def DBSCAN_cluster(data, best_eps, name, data_in_list):\n",
    "    \n",
    "    if name == 'Word2Vec':\n",
    "                \n",
    "        w2v_model = gensim.models.Word2Vec(data, min_count=5, size = 100, workers=-1)\n",
    "        w2v_vect = avg_w2v(data, w2v_model)\n",
    "        \n",
    "        clf = DBSCAN(min_samples = 200, eps = best_eps, p = 2, n_jobs = 6)\n",
    "        clf.fit(w2v_vect)\n",
    "        return clf\n",
    "                \n",
    "    else:\n",
    "        \n",
    "        w2v_model = gensim.models.Word2Vec(np.array(data_in_list), min_count=5, size=100, workers=-1)\n",
    "        tfidf_matx = tf_idf_vect.fit_transform(data)\n",
    "        dictionary = dict(zip(tf_idf_vect.get_feature_names(), list(tf_idf_vect.idf_)))\n",
    "        tfidf_w2v_vect = tfidf_w2v(data_in_list, w2v_model, dictionary)\n",
    "        tfidf_w2v_vect = np.nan_to_num(tfidf_w2v_vect)\n",
    "        \n",
    "        clf = DBSCAN(min_samples = 200, eps = best_eps, p = 2, n_jobs = 6)\n",
    "        clf.fit(tfidf_w2v_vect)\n",
    "        return clf"
   ]
  },
  {
   "cell_type": "code",
   "execution_count": 226,
   "metadata": {},
   "outputs": [],
   "source": [
    "def best_eps(data, name, data_in_list = None):\n",
    "    \n",
    "    dist200 = []\n",
    "    if name == 'Word2Vec':\n",
    "        w2v_model = gensim.models.Word2Vec(data, min_count=5, size=100, workers=-1)\n",
    "        w2v_vect = avg_w2v(data, w2v_model)\n",
    "        for i in range(len(data)):\n",
    "            dist = np.sqrt(np.sum(np.square(w2v_vect - w2v_vect[i]), axis = 1))\n",
    "            sorted_dist = np.sort(np.array(dist), axis = 0)\n",
    "            dist200.append(sorted_dist[200])\n",
    "        dist200_indx = np.argsort(dist200, axis = 0)\n",
    "        dist200 = np.sort(dist200, axis = 0)\n",
    "        knee_plot(dist200_indx, dist200)\n",
    "    else:\n",
    "        w2v_model = gensim.models.Word2Vec(np.array(data_in_list), min_count=5, size=100, workers=-1)\n",
    "        tfidf_matx = tf_idf_vect.fit_transform(data)\n",
    "        dictionary = dict(zip(tf_idf_vect.get_feature_names(), list(tf_idf_vect.idf_)))\n",
    "        tfidf_w2v_vect = tfidf_w2v(data_in_list, w2v_model, dictionary)\n",
    "        tfidf_w2v_vect = np.nan_to_num(tfidf_w2v_vect)\n",
    "        for i in range(len(data)):\n",
    "            dist = np.sqrt(np.sum(np.square(tfidf_w2v_vect - tfidf_w2v_vect[i]), axis = 1))\n",
    "            sorted_dist = np.sort(np.array(dist), axis = 0)\n",
    "            dist200.append(sorted_dist[200])\n",
    "        dist200_indx = np.argsort(dist200, axis = 0)\n",
    "        dist200 = np.sort(dist200, axis = 0)\n",
    "        knee_plot(dist200_indx, dist200)"
   ]
  },
  {
   "cell_type": "code",
   "execution_count": 98,
   "metadata": {},
   "outputs": [],
   "source": [
    "def knee_plot(indxs, dists):\n",
    "    \n",
    "    sns.set()\n",
    "    plt.figure(figsize = (12, 7))\n",
    "    plt.plot(np.arange(len(indxs)), dists, color = 'b')\n",
    "    plt.xlabel('Index')\n",
    "    plt.ylabel('Distance from 200th-Neighbour')\n",
    "    plt.title('Knee Plot to Find Best Eps')\n",
    "    plt.plot()"
   ]
  },
  {
   "cell_type": "markdown",
   "metadata": {},
   "source": [
    "## 6. Bag of Words (BoW)"
   ]
  },
  {
   "cell_type": "code",
   "execution_count": 268,
   "metadata": {},
   "outputs": [],
   "source": [
    "#Applying Bag of Word to cleaned text \n",
    "#In sklearn BoW is known as CountVectorizer\n",
    "count_vect = CountVectorizer(min_df=0, max_features = 1000)"
   ]
  },
  {
   "cell_type": "markdown",
   "metadata": {},
   "source": [
    "### 6.1. K-means Clustering"
   ]
  },
  {
   "cell_type": "code",
   "execution_count": 269,
   "metadata": {},
   "outputs": [],
   "source": [
    "fitted_models = kmean_cluster(sorted_data.iloc[:100000], count_vect, 'BoW')"
   ]
  },
  {
   "cell_type": "markdown",
   "metadata": {},
   "source": [
    "### [A] Find Best-Fit K"
   ]
  },
  {
   "cell_type": "code",
   "execution_count": 270,
   "metadata": {
    "scrolled": false
   },
   "outputs": [
    {
     "data": {
      "image/png": "[encoded data removed]",
      "text/plain": [
       "<matplotlib.figure.Figure at 0x7f2c5427e240>"
      ]
     },
     "metadata": {},
     "output_type": "display_data"
    }
   ],
   "source": [
    "find_best_k(fitted_models)"
   ]
  },
  {
   "cell_type": "markdown",
   "metadata": {},
   "source": [
    "#### Observation: \n",
    "* From Intra-Cluster Distance vs Num of Clusters graph it seems as the number of cluster increased the model clusters the data more properly. And the curve is some-what linear so I'm stopping at 50 clusters."
   ]
  },
  {
   "cell_type": "code",
   "execution_count": 279,
   "metadata": {},
   "outputs": [],
   "source": [
    "# select the model with 50 clusters \n",
    "cluster50 = fitted_models[8]"
   ]
  },
  {
   "cell_type": "markdown",
   "metadata": {},
   "source": [
    "### [B] Manual Checking of Some Clusters"
   ]
  },
  {
   "cell_type": "code",
   "execution_count": 287,
   "metadata": {},
   "outputs": [
    {
     "data": {
      "text/plain": [
       "18578     The history of soft drinks goes all the way ba...\n",
       "10104     I am a soda fan, trying sodas from all over th...\n",
       "19141     JUICY JUICE'S MISSION: STOP BUYING SODA FOR YO...\n",
       "19104     TASTES LIKE THIS CAN'T POSSIBLY BE 100% JUICE!...\n",
       "19020     JUICY JUICE'S MISSION: STOP BUYING SODA FOR YO...\n",
       "26647     I'm not much of a soda drinker, but I enjoy a ...\n",
       "77171     A NEW PRODUCT FROM JUICY JUICE IS ANOTHER WINN...\n",
       "108709    I'm not much of a soda drinker, but I enjoy a ...\n",
       "102578    Goji juice really does work, but you need to k...\n",
       "10100     I'm a huge grape soda fan.  The problem is tha...\n",
       "143967    The Izze Sparkling Grapefruit is a refreshing,...\n",
       "144174    We have been drinking various forms of flavore...\n",
       "143929    This review focuses on the pomegranate and gra...\n",
       "144159    I must say, I am an apple juice fan. My usual ...\n",
       "144029    I like to pay attention to the glycemic index ...\n",
       "144188    The Sparkling Clementine Flavor is my favorite...\n",
       "143867    Izze is a great concept, especially as this is...\n",
       "144109    Although I love apple juice, I don't normally ...\n",
       "143879    My husband and I both tried Izze All Natural S...\n",
       "144108    I love to find non-soda pop drinks. And when I...\n",
       "144183    Made up of a 70% mix of various fruit juices, ...\n",
       "143926    Pomegranate: My first sip of Izze's Sparkling ...\n",
       "144125    (Note: This review is of the \"Sparkling Apple\"...\n",
       "143996    This review is for the grapefruit flavor, but ...\n",
       "143941    First impressions of IZZE Pomegranate (that's ...\n",
       "144141    ... then you will love this product.<br /><br ...\n",
       "144103    Izze fruit drinks are not sodas, instead they ...\n",
       "144049    I like soda pop. Diet Coke used to be my favor...\n",
       "143919    In the Beginning there was Fruit Juice, and th...\n",
       "108715    *****<br />This Izze Sparkling Blackberry Soda...\n",
       "                                ...                        \n",
       "204064    I was a little leery of trying this product, p...\n",
       "203987    In the Beginning there was Fruit Juice, and th...\n",
       "204770    In the Beginning there was Fruit Juice, and th...\n",
       "204468    In the Beginning there was Fruit Juice, and th...\n",
       "204044    I got on can of this through the amazon vine p...\n",
       "204401    The first sip gave a pleasing flavor burst wit...\n",
       "204759    Are you looking for a relatively healthy optio...\n",
       "203903    Note: The zeros were cast by a troll and her g...\n",
       "204481    Are you looking for a relatively healthy optio...\n",
       "204533    This is marketed as healthy all natural all ju...\n",
       "204531    This was a pretty good idea -- it's basically ...\n",
       "204136    Nice smooth taste, even with the carbonation. ...\n",
       "203977    I was hoping for a covenient alternative to my...\n",
       "203921    UPDATE: April 3, 2009<br />I \"ordered\" this dr...\n",
       "204547    UPDATE: April 3, 2009<br />I \"ordered\" this dr...\n",
       "204508    I am a moderate drinker of both sodas and juic...\n",
       "203963    I tried one of these, and immediately I was re...\n",
       "203965    As a carbonated version of the juice boxes tha...\n",
       "203964    I am a moderate drinker of both sodas and juic...\n",
       "204850    It's a fantastic idea.  100% juice meets carbo...\n",
       "204671    The drink flavor is Kiwi Berry but I tasted a ...\n",
       "204643    I did not find this drink special in terms of ...\n",
       "204675    As part of the line of Switch products, Switch...\n",
       "204424    Switch Kiwi Berry is a good tasting, lightly c...\n",
       "204859    I started drinking carbonated juice to replace...\n",
       "204220    Silly me, I didn't read the packaging terribly...\n",
       "204339    Unlike another product I reviewed for Vine, at...\n",
       "204207    In the Beginning there was Fruit Juice, and th...\n",
       "204374    These 8.3 oz cans of Switch keep their promise...\n",
       "204279    So far I've only tried the Orange Tangerine fl...\n",
       "Name: Text, Length: 104, dtype: object"
      ]
     },
     "execution_count": 287,
     "metadata": {},
     "output_type": "execute_result"
    }
   ],
   "source": [
    "sorted_data[:100000]['Text'][cluster50.labels_ == 3]"
   ]
  },
  {
   "cell_type": "markdown",
   "metadata": {},
   "source": [
    "#### Observation: \n",
    "* In this cluster we can notice that the reviews talks about various carbonated drinks along with SODA and various fruit juices. \n",
    "\n",
    "(**Note:** I have gone through full reviews and printed here some part of it for clean demonstration) "
   ]
  },
  {
   "cell_type": "code",
   "execution_count": 315,
   "metadata": {},
   "outputs": [
    {
     "data": {
      "text/plain": [
       "5907      If you've never tried Kona coffee, Aloha Islan...\n",
       "2294      The grocery store has all kinds of &quot;gourm...\n",
       "2293      This blend is one of Starbucks' gentler blends...\n",
       "2941      Many coffee brands that advertise their beans ...\n",
       "6414      I think that this is a great Chai! Far from sw...\n",
       "5828      Sometimes you just don't know when you buy thi...\n",
       "6917      If you like a strong but smooth flavorful coff...\n",
       "6922      So far ive tried the breakfest blend, columbia...\n",
       "2241      This coffee rivals the name brand coffee house...\n",
       "10959     The Douwe Egberts dark roast is the best of al...\n",
       "10493     I must respectfully disagree with the other re...\n",
       "10972     Simply because I always get up late and need a...\n",
       "5019      I am not normally a fan of flavored coffees bu...\n",
       "6428      I bought a can of this a week ago and it's alr...\n",
       "19894     An outstanding tea with lots of flavor.  None ...\n",
       "24724     \"This one caught us by surprise! We don't know...\n",
       "24738     \"This one caught us by surprise! We don't know...\n",
       "5130      I had this for the first time at Starbuck's.  ...\n",
       "11927     I loved this French vanilla coffee - it was re...\n",
       "5017      I am a coffee-holic.  So I'm pretty critical o...\n",
       "24725     The Java Podz coffee pads do not fit well in t...\n",
       "253728    I discovered this outstanding coffee in a Sout...\n",
       "7057      I am always on the look out for high-end flavo...\n",
       "11080     I have tried several different Italian coffees...\n",
       "10894     We have a lot of heavy coffee drinkers who app...\n",
       "25921     The \"crema\" was pretty thick as it brewed, and...\n",
       "6960      I am a medical school student and you might im...\n",
       "10549     These coffee pods are wonderful. The hazelnut ...\n",
       "13095     Outstanding melt in your mouth chocolate.  The...\n",
       "2938      I absolutely love this coffee! It is extremely...\n",
       "                                ...                        \n",
       "161510    THIS IS A GOOD COFFEE FOR THOSE OF US THAT DON...\n",
       "87154     As with all the Coffee Masters flavors I've tr...\n",
       "160095    I love several of the coffees for my Keurig, b...\n",
       "270608    Taste.. 3<br />stars.Yes, strong with a kick, ...\n",
       "253875    No problems with this product.  I don't call i...\n",
       "249160    I received a complimentary package of Boyd's O...\n",
       "270609    Taste.. 3 stars.<br />Yes, strong with a kick,...\n",
       "24468     I bought this product, along with coffee and t...\n",
       "251134    This coffee is so delicious tasting, and oh my...\n",
       "351578    When the labled this product \"extra bold\" they...\n",
       "160081    Normally Sumatra is my favorite bean. Peets su...\n",
       "161843    I got a few of these in a sample pack and like...\n",
       "114805    These reusable filters are great.<br /><br />P...\n",
       "40912     When it does come down to my mornings, I alway...\n",
       "167431    Like another reviewer here, I love Starbucks F...\n",
       "252522    I have been buying coffee people products sinc...\n",
       "119538    Although I've never had Lavazza before, I've c...\n",
       "122300    I have tried almost all of the Senseo coffees ...\n",
       "196206    The coffee is smooth, not acidic or bitter lik...\n",
       "251183    I am a fairly big coffee drinker that brews my...\n",
       "250989    Gotta start the day with a cup o' joe, so I pu...\n",
       "230999    I will keep this one short and sweet. In the p...\n",
       "250993    This is a dark, fullbodied, rich, satisfying c...\n",
       "351579    This is hands down the best k cup out there. G...\n",
       "121146    My husband and I enjoy the hazelnut flavored c...\n",
       "353923    We're new to the Keurig world, we just got our...\n",
       "235196    This is a very good medium-dark roast coffee. ...\n",
       "231340    I like strong black coffee. I like it to taste...\n",
       "251131    I was given the opportunity to review this pro...\n",
       "250955    I'd say that naming this coffee blend \"Classiq...\n",
       "Name: Text, Length: 2619, dtype: object"
      ]
     },
     "execution_count": 315,
     "metadata": {},
     "output_type": "execute_result"
    }
   ],
   "source": [
    "sorted_data[:100000]['Text'][cluster50.labels_ == 17]"
   ]
  },
  {
   "cell_type": "markdown",
   "metadata": {},
   "source": [
    "#### Observation: \n",
    "* In this cluster most reviews are about various coffee related products and a little reviews are on tea or chi. \n",
    "\n",
    "(**Note:** I have gone through full reviews and printed here some part of it for clean demonstration) "
   ]
  },
  {
   "cell_type": "code",
   "execution_count": 332,
   "metadata": {},
   "outputs": [
    {
     "data": {
      "text/plain": [
       "3403      And it is GOOD!!! You get a half pound of Cots...\n",
       "361557    I have had products from the Coombs farm in my...\n",
       "3183      I am allergic to corn, so eating marshmallows,...\n",
       "4887      Tried this syrup and love it!!!  It tastes lik...\n",
       "3933      you'll eat this bacon and weep because you'll ...\n",
       "4842      I have been using Joseph's Lite Syrup for over...\n",
       "3274      This glorious cheese has changed my life for t...\n",
       "19475     Pepperidge Farm is one of the few national com...\n",
       "30988     If you're looking for an easy-to-use pancake m...\n",
       "23289     I've been dieting for just over a year, using ...\n",
       "18070     Wow, this stuff is so good. I ordered it after...\n",
       "4881      Joseph's is the BEST sugar-free maple syrup th...\n",
       "3309      Excellent taste.  All who partook said it was ...\n",
       "4872      Excellent taste and texture.  It uses maltitol...\n",
       "19596     Buy these cookies. You will not regret it.<br ...\n",
       "10052     I just discovered Barry Farms rice, including ...\n",
       "10054     I gave it a 4 since I am not usually fond of  ...\n",
       "10055     I love brown rice, especially the short grains...\n",
       "16539     I like some of the other Walden Farms products...\n",
       "15405     I've tried a bunch of Walden Farms dressings, ...\n",
       "1139      I tried a case of this for my nine cats, and N...\n",
       "23305     Boy oh boy.  Walden Farms is really a hit and ...\n",
       "16547     I'm not a huge fan of fruit. I am a huge fan o...\n",
       "47992     This stuff is the best. It's a family-owned co...\n",
       "19570     I was happy to find the Pepperidge Farm Stuffi...\n",
       "10572     I used to have no problem with these, until on...\n",
       "24838     These are okay, but I prefer Target's Archer F...\n",
       "84617     My parents are pack rats and they don't throw ...\n",
       "8872      I had never cooked or baked with dried strawbe...\n",
       "12950     I'm a Yankee.  I didn't discover the joys of R...\n",
       "                                ...                        \n",
       "75242     The good and the bad:<br /><br />Fat free and ...\n",
       "153731    because it contains high fructose corn syrup. ...\n",
       "225963    I ordered this jug of organic maple syrup beca...\n",
       "118900    I use a very large mug for tea, and after read...\n",
       "147547    I have purchased the St. Dalfour brand of pres...\n",
       "11900     I gave two jars of these tomato preserves to a...\n",
       "176460    Fleur de Sel, known in Portugal as Flor de Sal...\n",
       "10375     I've purchased several items from Barry Farm, ...\n",
       "237376    My husband loves grape jelly more than anythin...\n",
       "153665    This is very good Grade A-Dark Amber maple syr...\n",
       "361605    This is very good premium Grade B maple syrup,...\n",
       "4857      MALTITOL. I had no idea what this meant when I...\n",
       "232853    We were two teenage girls stuck in the back of...\n",
       "226453    These are super delicious.  They're tangy and ...\n",
       "9984      I have in the past used a lot of Barry Farm pr...\n",
       "237365    I'm looking for an oat cereal to feed a young ...\n",
       "146702    This is nasty stuff.  When you compare to the ...\n",
       "153667    We make McCann's Irish Oats everyday (and I me...\n",
       "251632    With my grandparents owning a large farm in So...\n",
       "206336    Pistachios are a Favorite in our house. Kennan...\n",
       "170859    I add a big splash of the Torani Sugar-Free Ch...\n",
       "262235    I agree, these are addictively delicious!  Pep...\n",
       "225964    I did lots of research in my quest to find rea...\n",
       "225974    We love this maple syrup. We found it to be ri...\n",
       "9374      Tried this product because Great Northern Popc...\n",
       "195742    I've had a couple of other PB&Co peanut butter...\n",
       "225906    The negative:  Grade B syrup is normally 'mapl...\n",
       "153656    Purchased this product from Amazon. We love it...\n",
       "225958    I ordered this after reading other reviews and...\n",
       "116920    UPDATE: I now no longer see on the page that i...\n",
       "Name: Text, Length: 586, dtype: object"
      ]
     },
     "execution_count": 332,
     "metadata": {},
     "output_type": "execute_result"
    }
   ],
   "source": [
    "sorted_data[:100000]['Text'][cluster50.labels_ == 37]"
   ]
  },
  {
   "cell_type": "markdown",
   "metadata": {},
   "source": [
    "#### Observation: \n",
    "* This cluster is about farms and farms-related products like corn, corn syrup, tomatoes, oats, maple syrups and flour etc.\n",
    "\n",
    "(**Note:** I have gone through full reviews and printed here some part of it for clean demonstration) "
   ]
  },
  {
   "cell_type": "markdown",
   "metadata": {},
   "source": [
    "### 6.2. Hierarchical Clustering"
   ]
  },
  {
   "cell_type": "code",
   "execution_count": 337,
   "metadata": {},
   "outputs": [],
   "source": [
    "fitted_models = Hierarchical_cluster(sorted_data.iloc[:5000], count_vect, 'BoW')"
   ]
  },
  {
   "cell_type": "code",
   "execution_count": 350,
   "metadata": {},
   "outputs": [],
   "source": [
    "# taking 10 clusters into consideration\n",
    "cluster10 = fitted_models[8]"
   ]
  },
  {
   "cell_type": "markdown",
   "metadata": {},
   "source": [
    "### [A] Manual Checking of Some Clusters"
   ]
  },
  {
   "cell_type": "code",
   "execution_count": 383,
   "metadata": {},
   "outputs": [
    {
     "data": {
      "text/plain": [
       "34743    b'tazo passion herbal infus somewhat tart deep...\n",
       "3571     b'tazo passion herbal infus somewhat tart deep...\n",
       "62173    b'tazo chai black tea enjoy chai experi part p...\n",
       "62205    b'tazo wild sweet orang herbal infus nice oran...\n",
       "3514     b'tazo calm herbal infus nice chamomil tea tas...\n",
       "3532     b'tazo chai black tea enjoy chai experi part p...\n",
       "3594     b'tazo wild sweet orang herbal infus nice oran...\n",
       "3541     b'tazo china green tip green tea slight strong...\n",
       "3605     b'tazo zen green tea subtl mild light green te...\n",
       "3494     b'tazo assort black green tea herbal infus inc...\n",
       "Name: CleanedText, dtype: object"
      ]
     },
     "execution_count": 383,
     "metadata": {},
     "output_type": "execute_result"
    }
   ],
   "source": [
    "sorted_data[:5000]['CleanedText'][cluster10.labels_ == 6]"
   ]
  },
  {
   "cell_type": "markdown",
   "metadata": {},
   "source": [
    "#### Observation: \n",
    "* This cluster clearly shows that it includes products from the brand 'tazo' which provides various organic or herbal food items like tea, orange etc. \n",
    "\n",
    "(**Note:** I have gone through full reviews and printed here some part of it for clean demonstration) "
   ]
  },
  {
   "cell_type": "code",
   "execution_count": 386,
   "metadata": {},
   "outputs": [
    {
     "data": {
      "text/plain": [
       "19141    JUICY JUICE'S MISSION: STOP BUYING SODA FOR YO...\n",
       "19104    TASTES LIKE THIS CAN'T POSSIBLY BE 100% JUICE!...\n",
       "19020    JUICY JUICE'S MISSION: STOP BUYING SODA FOR YO...\n",
       "77171    A NEW PRODUCT FROM JUICY JUICE IS ANOTHER WINN...\n",
       "Name: Text, dtype: object"
      ]
     },
     "execution_count": 386,
     "metadata": {},
     "output_type": "execute_result"
    }
   ],
   "source": [
    "sorted_data[:5000]['Text'][cluster10.labels_ == 8]"
   ]
  },
  {
   "cell_type": "markdown",
   "metadata": {},
   "source": [
    "#### Observation: \n",
    "* This small cluster is about juice related products including carbonated juice.\n",
    "\n",
    "(**Note:** I have gone through full reviews and printed here some part of it for clean demonstration) "
   ]
  },
  {
   "cell_type": "markdown",
   "metadata": {},
   "source": [
    "## 7. TF-IDF"
   ]
  },
  {
   "cell_type": "code",
   "execution_count": 387,
   "metadata": {},
   "outputs": [],
   "source": [
    "#Finding TF-IDF vector representation \n",
    "tf_idf_vect = TfidfVectorizer(min_df = 0, max_features = 1000)"
   ]
  },
  {
   "cell_type": "markdown",
   "metadata": {},
   "source": [
    "### 7.1. K-means Clustering"
   ]
  },
  {
   "cell_type": "code",
   "execution_count": 388,
   "metadata": {},
   "outputs": [],
   "source": [
    "fitted_models_tfidf = kmean_cluster(sorted_data.iloc[:100000], tf_idf_vect, 'TFIDF')"
   ]
  },
  {
   "cell_type": "markdown",
   "metadata": {},
   "source": [
    "### [A] Find Best-Fit K"
   ]
  },
  {
   "cell_type": "code",
   "execution_count": 389,
   "metadata": {},
   "outputs": [
    {
     "data": {
      "image/png": "[encoded data removed]",
      "text/plain": [
       "<matplotlib.figure.Figure at 0x7f2cd4bc8748>"
      ]
     },
     "metadata": {},
     "output_type": "display_data"
    }
   ],
   "source": [
    "find_best_k(fitted_models_tfidf)"
   ]
  },
  {
   "cell_type": "markdown",
   "metadata": {},
   "source": [
    "#### Observation: \n",
    "* From Intra-Cluster Distance vs Num of Clusters graph it seems as the number of cluster increased the model clusters the data more properly. And the curve is some-what linear so I'm stopping at 50 clusters."
   ]
  },
  {
   "cell_type": "code",
   "execution_count": 390,
   "metadata": {},
   "outputs": [],
   "source": [
    "# taking 50 clusters into account \n",
    "tfidf_cluster50 = fitted_models_tfidf[8]"
   ]
  },
  {
   "cell_type": "markdown",
   "metadata": {},
   "source": [
    "### [B] Manual Checking of Some Clusters"
   ]
  },
  {
   "cell_type": "code",
   "execution_count": 391,
   "metadata": {},
   "outputs": [
    {
     "data": {
      "text/plain": [
       "1118      Well, maybe not &quot;the&quot; greatest, but ...\n",
       "7192      These chocolates are the most perfect containe...\n",
       "12479     I've bought a couple of these for my Airedale ...\n",
       "21884     My cat loved these! But, I don't know how he e...\n",
       "126059    Five of my five dogs agree - they'd rather mun...\n",
       "126057    I've been feeding liver biscotti for years. I ...\n",
       "2371      My cat LOVES these treats!  There are some tre...\n",
       "21343     My three dogs love it and so do all the cats!!...\n",
       "14599     We originally bought this for Sadie, our 75-po...\n",
       "20627     This review is written for Pill Pockets for Ca...\n",
       "20854     These are the best for keeping your dog happy!...\n",
       "126058    A fantastic product for pet treats,great smell...\n",
       "21509     I am highly recommending you DO NOT give your ...\n",
       "1008      This is the most unbelievable treat.  My dog w...\n",
       "90829     ...and I did.  My cat was diagnosed with asthm...\n",
       "2207      My yorkshie 6 year old can't be fooled...this ...\n",
       "15219     The Nylabone chews are wonderful for your pupp...\n",
       "21085     During the frigid winter, we brought home two ...\n",
       "14629     I bought a mini buster cube for my miniature d...\n",
       "15271     I put this in an area in the yard as suggested...\n",
       "13733     My cat loves toys.  She wasn't too crazy about...\n",
       "902       As a dentist I see many patients that have dry...\n",
       "18505     I have one dog that has a lot of food allergie...\n",
       "23115     My dog absolutely loves these treats!  Right n...\n",
       "13656     This product is amazing.  I was never the type...\n",
       "265       Tim Burton's fantastic vision of life after de...\n",
       "30201     The Everlasting Treat Ball is a great way to k...\n",
       "13669     this is the only chew my dog will eat..they ar...\n",
       "108793    We have a 6 lb yorkie that can't get enough of...\n",
       "335274    I am using Gu Gel regularly while training for...\n",
       "                                ...                        \n",
       "142251    I have been buying these chicken jerky treats ...\n",
       "211710    My 6 & 8 lb yorkies love these. They are part ...\n",
       "186197    That 7.4\" width for \"regular\" is really small ...\n",
       "61838     Innova came up with the magic combination here...\n",
       "30233     I bought two of these treat balls for two larg...\n",
       "225140    My dogs love their Greenies.  I would buy 6 to...\n",
       "24047     I bought these treats for the size. We go thro...\n",
       "211721    I've used the C.E.T. chews for many years.  Al...\n",
       "192121    The greatest chewie that my dog loves best!  T...\n",
       "36000     Our dog was needing twice per day medications ...\n",
       "205099    My dog liked the hooves but I would like them ...\n",
       "126       These dog treats are great motivators. At firs...\n",
       "23785     I had a really picky dog who refuses any kind ...\n",
       "121017    It took my five-month old puppy about 5 minute...\n",
       "203212    I have two dogs....one picky and the other not...\n",
       "14019     I think this is a great product but my picky d...\n",
       "147460    My dogs love these treats....especially my pic...\n",
       "249425    I'm always looking for low-fat treats for my s...\n",
       "16087     Got a wellness dog treat before which the dogs...\n",
       "217494    I have a small dog with very bad teeth and she...\n",
       "50655     These bars taste great. They are very hard and...\n",
       "251360    I have an english bulldog. Training my bully o...\n",
       "225238    My dogs love their Greenies, and their teeth a...\n",
       "94866     My white Germany Shepherd puppy is 5 months ol...\n",
       "30707     I can't say enough about this product!  My dog...\n",
       "94881     This toy was extremely great . . .My dog learn...\n",
       "21466     I've purchased all the usual dog treats for Tw...\n",
       "34799     I'm posting the same review as the one I wrote...\n",
       "1382      this is a great chew toy - my dog is a heavy c...\n",
       "72789     My dogs absolutely LOVE Yummy Chummies.  I use...\n",
       "Name: Text, Length: 3707, dtype: object"
      ]
     },
     "execution_count": 391,
     "metadata": {},
     "output_type": "execute_result"
    }
   ],
   "source": [
    "sorted_data[:100000]['Text'][tfidf_cluster50.labels_ == 3]"
   ]
  },
  {
   "cell_type": "markdown",
   "metadata": {},
   "source": [
    "#### Observation: \n",
    "* This cluster is about various pets and food items for them. It includes cat and dog etc. But it has some noisy reviews in it.\n",
    "\n",
    "(**Note:** I have gone through full reviews and printed here some part of it for clean demonstration) "
   ]
  },
  {
   "cell_type": "code",
   "execution_count": 394,
   "metadata": {},
   "outputs": [
    {
     "data": {
      "text/plain": [
       "209365    For me, when the days get colder nothing is as...\n",
       "5098      Having tried many Jasmine blends, I found the ...\n",
       "3564      Blend a little apple cider mix into your Tazo ...\n",
       "6414      I think that this is a great Chai! Far from sw...\n",
       "3511      For a bag tea--which generally are not as good...\n",
       "6444      I've tried many of packaged Chai products - li...\n",
       "3506      \"There are few hours in life more agreeable th...\n",
       "3557      \"There is a garden overlooking the Yangtze Riv...\n",
       "6445      I have searched for a great decaf chai and hav...\n",
       "3524      \"A single cup of Tazo Calm has been known to h...\n",
       "163001    \"Sitting on the porch of a bungalow on a tea p...\n",
       "76423     I love Sleepytime Tea!  I've been drinking it ...\n",
       "2987      I recently ordered the Hot Cinnamon Spice tea ...\n",
       "3559      An incredibly refreshing drink when iced! Mix ...\n",
       "134994    Sportea is the answer to a healthy daily drink...\n",
       "2409      When I used to work at the campus pub, one of ...\n",
       "10221     Mind you, this is my first excursion into the ...\n",
       "6299      Definitely one of the best teas ever, although...\n",
       "8812      This tea has a pleasant cinnamon like aroma an...\n",
       "6339      I had the fortune a couple of years ago to hav...\n",
       "12309     I recently bought a Melitta One:One expecting ...\n",
       "12311     I recently bought the Melitta One:One coffee m...\n",
       "102865    I bought this tea mainly to have something soo...\n",
       "12286     The biting touch of cranberry and the soothing...\n",
       "8800      The deep purple/red color and hibiscus fragran...\n",
       "2984      So many black teas (such as pu-erh and yunnan)...\n",
       "21750     Unquestionably the most refined of teas, Darje...\n",
       "6574      This is the best chamomlie tea I've tasted!  I...\n",
       "2224      It absolutely amazes me that some people spend...\n",
       "2227      I have recently been brewing my own herbal ble...\n",
       "                                ...                        \n",
       "228174    Twinings Green and Mint tea is very good. I am...\n",
       "205707    A spiced tea with a very nice aroma that linge...\n",
       "166567    I love this tea.  It is one of the best spearm...\n",
       "71486     \"Jolt Caffeine Energy Gum\" is one of my family...\n",
       "216721    Arizona Peach Ice Tea Mix is the best I have e...\n",
       "75772     This is my second favorite of the Bigalow teas...\n",
       "179467    I tried this blend with a bit of skepticism; I...\n",
       "44550     I discovered this tea last summer when my flat...\n",
       "153272    This was my first purchase of matcha green tea...\n",
       "11999     This is great tea!  I'm the only hot tea drink...\n",
       "240555    I am so glad my wife found this company a few ...\n",
       "162578    As a lover of Chai Tea I was pleased to see it...\n",
       "239811    I've been using this stuff for months the Moch...\n",
       "109276    I came across this in a grocery store last win...\n",
       "355118    Teavana's teas are always delicious - this is ...\n",
       "43577     Several years ago, I went on a tour of the Cel...\n",
       "266918    I am trying to decrease my caffeine intake and...\n",
       "224241    The chai mate has too much caffeine for me, as...\n",
       "207064    Teaosophy's Assam Black tea has a wonderful fl...\n",
       "66813     I've drunk this teasan for years, when I can f...\n",
       "252458    I had tried this tea in the little sachets whe...\n",
       "27457     It's a good thing this tea actually works as i...\n",
       "50413     Lipton Raspberry Instant Mix is so easy to mak...\n",
       "28155     I have drank this brand of tea for years.  Cou...\n",
       "12018     I'm normally a strictly loose leaf tea snob bu...\n",
       "76001     I love this tea - light and refreshing - sooth...\n",
       "146174    I have been drinking this brand of Chai Latte ...\n",
       "60224     Hard to find in a local supermarket, this loos...\n",
       "171012    I was looking for a good tea k-cup to make ice...\n",
       "125551    I love tea...and I really hate writing bad rev...\n",
       "Name: Text, Length: 5908, dtype: object"
      ]
     },
     "execution_count": 394,
     "metadata": {},
     "output_type": "execute_result"
    }
   ],
   "source": [
    "sorted_data[:100000]['Text'][tfidf_cluster50.labels_ == 21]"
   ]
  },
  {
   "cell_type": "markdown",
   "metadata": {},
   "source": [
    "#### Observation: \n",
    "* This cluster is all about various flavors of tea like mint tea, black tea and jasmine blended tea etc.\n",
    "\n",
    "(**Note:** I have gone through full reviews and printed here some part of it for clean demonstration) "
   ]
  },
  {
   "cell_type": "code",
   "execution_count": 395,
   "metadata": {},
   "outputs": [
    {
     "data": {
      "text/plain": [
       "6106      For those who enjoy a rich spread for toast, c...\n",
       "6322      I bought a box of this at the MarketSpice stor...\n",
       "7635      If you're from the UK or from English colonies...\n",
       "21676     Given this blend's orgin, the name \"English\" B...\n",
       "22816     Introduced to Kenya from India in 1903 by a se...\n",
       "60858     My search for a good all-purpose decaffeinated...\n",
       "3310      Since moving to the US from England, there are...\n",
       "21684     Did you know that the Irish - *not* the Englis...\n",
       "17555     I had a chance to try these chocolates while i...\n",
       "20460     Although Dundee's orange marmalade is stocked ...\n",
       "33909     Did you know that the Irish - *not* the Englis...\n",
       "20014     Given this blend's orgin, the name \"English\" B...\n",
       "26563     I love this tea.  Ahmad tea is just a perfect ...\n",
       "33911     Among all of Twinings' breakfast teas, this ha...\n",
       "21682     Irish blend from Twining has a pleasing crisp ...\n",
       "18175     We went to St. Thomas USVI and this was the on...\n",
       "3301      Take wonderful rich Double Gloucester cheese a...\n",
       "60390     Twinings English Breakfast Tea is by far the b...\n",
       "61001     Given this blend's orgin, the name \"English\" B...\n",
       "49787     I do a lot of snacking on nuts since they are ...\n",
       "190881    Calling this blend \"English\" Breakfast is a bi...\n",
       "47773     These rock!  My Grandparents brought them ever...\n",
       "48251     If there's one English food you want to try, t...\n",
       "59552     This is THE best cup of tea I've found, after ...\n",
       "18151     A food - successful since 1933 - BAY's English...\n",
       "37551     This is the best decaf English Breakfast tea a...\n",
       "177433    :: English Toffee Flavored Liquid Stevia ::<br...\n",
       "33095     Carr's states on the box that these biscuits a...\n",
       "189685    Until just recently, I had an English boss tha...\n",
       "67016     This is the perfect tea for breakfast or any t...\n",
       "                                ...                        \n",
       "193539    IF YOU ARE EXPAT LIKE ME AND MISS SOME OF THE ...\n",
       "61051     This is my all-time favorite black tea.  I dri...\n",
       "61023     I first bought this tea while on a trip to Eng...\n",
       "59624     What a wonderful find!  I have been enjoying T...\n",
       "95475     I used then as part of my English husband's Fu...\n",
       "253263    Bendicks Bitter Mints are an excellent English...\n",
       "179262    A fine, clean tea without the murk or acrid af...\n",
       "97975     My local grocery just stopped carrying this te...\n",
       "76044     Bigelow's English Breakfast Tea <a href=\"http:...\n",
       "166113    My husband was English and our kids grew up wi...\n",
       "13274     I discovered this tea at a grocery store in Pa...\n",
       "170989    this is some of the best tasting english break...\n",
       "189964    Pg tips tea is perfect for an afternoon respit...\n",
       "54856     This is truly a wonderful, hearty tea!  For ye...\n",
       "104290    This tea is very unique as a blend of African/...\n",
       "131097    Not the best I've ever had, but good. The best...\n",
       "128674    This is the true English toffee: Sticky and ch...\n",
       "11997     This is a wonderfully rich, full flavored tea....\n",
       "171075    This is now our favorite tea. It's great as ic...\n",
       "161532    I love English breakfast tea, but have found s...\n",
       "128726    This is just the most wonderful English toffee...\n",
       "241003    Let me tell you in plain english.  I received ...\n",
       "105079    My husband is English and drinks a LOT of tea....\n",
       "189895    Having lived in England for 10 years, finding ...\n",
       "80131     This is easy to make in just a few minutes. It...\n",
       "131572    Taylors of Harrogate Yorkshire GOLD is by far,...\n",
       "12916     This is such a yummy scones and you don't have...\n",
       "224166    Lemon curd is so tasty with scones (of course)...\n",
       "1413      I had tried all kinds of different dog foods f...\n",
       "86552     This is not like any traditional English puddi...\n",
       "Name: Text, Length: 422, dtype: object"
      ]
     },
     "execution_count": 395,
     "metadata": {},
     "output_type": "execute_result"
    }
   ],
   "source": [
    "sorted_data[:100000]['Text'][tfidf_cluster50.labels_ == 49]"
   ]
  },
  {
   "cell_type": "markdown",
   "metadata": {},
   "source": [
    "#### Observation: \n",
    "* This cluster is completely about UK and English foods that are used specifically in UK etc.\n",
    " \n",
    "(**Note:** I have gone through full reviews and printed here some part of it for clean demonstration) "
   ]
  },
  {
   "cell_type": "markdown",
   "metadata": {},
   "source": [
    "### 7.2. Hierarchical Clustering"
   ]
  },
  {
   "cell_type": "code",
   "execution_count": 396,
   "metadata": {},
   "outputs": [],
   "source": [
    "fitted_models_tfidf = Hierarchical_cluster(sorted_data.iloc[:5000], tf_idf_vect, 'TFIDF')"
   ]
  },
  {
   "cell_type": "code",
   "execution_count": 397,
   "metadata": {},
   "outputs": [],
   "source": [
    "# taking 10 clusters into consideration\n",
    "tfidf_cluster10 = fitted_models_tfidf[8]"
   ]
  },
  {
   "cell_type": "markdown",
   "metadata": {},
   "source": [
    "### [A] Manual Checking of Some Clusters"
   ]
  },
  {
   "cell_type": "code",
   "execution_count": 399,
   "metadata": {},
   "outputs": [
    {
     "data": {
      "text/plain": [
       "3708      This is the powdered dried cheese like in &quo...\n",
       "19385     Some of us should be warned about two importan...\n",
       "19383     Macaroni and Cheese Purists will NOT like this...\n",
       "20096     I see that someone using my name is advocating...\n",
       "343931    This stuff is great on rice and beans, and on ...\n",
       "18611     Parmesan cheese has been a favorite of mine si...\n",
       "21358     My dog Annie had surgery about 2 months ago an...\n",
       "25295     I like organic. We do organic milk and meat (a...\n",
       "25287     I like organic. We do organic milk and meat, a...\n",
       "19386     I was a kid raised on Kraft macaroni and chees...\n",
       "25284     We are trying to eat more healthy and organic ...\n",
       "37054     Annie's Deluxe macaroni and cheese comes with ...\n",
       "41063     My kids love their Macaroni & Cheese but one d...\n",
       "37056     My children and I agree: this is the best tast...\n",
       "36485     This is the best everyone! I can eat the whole...\n",
       "36759     I absolutely love this mac and cheese it is di...\n",
       "37074     We stopped buying the Kraft mac n' cheese once...\n",
       "37020     We stopped buying the Kraft mac n' cheese once...\n",
       "36779     We stopped buying the Kraft mac n' cheese once...\n",
       "25286     I highly recommend this product.  My family lo...\n",
       "41075     The makes of Easy Mac must be proud...<br /><b...\n",
       "49134     This is an excellant product. Cooks up very we...\n",
       "25292     BTN macaroni & cheese is so much better than a...\n",
       "25291     If your kids like bland pasty mac and cheese, ...\n",
       "36541     This is now the only brand of mac and cheese I...\n",
       "25280     We've tried other brands of organic mac and ch...\n",
       "41076     I've always loved kraft macaroni and cheese so...\n",
       "36701     I've had the other Annie's shells and cheddar ...\n",
       "36714     We've been struggling to move our kids from pr...\n",
       "36513     Similar in taste to an Alfredo sauce, the Whit...\n",
       "36474     IN A NUTSHELL: JUST READ THE INGREDIENTS ON TH...\n",
       "36522     I am no fan of boxed Mac & Cheese, but I must ...\n",
       "36525     FIRST THOUGHTS: For those of us who were ready...\n",
       "37049     Annie's Homegrown Deluxe Shells & Real Aged Wi...\n",
       "36523     Growing up, I never ate mac n cheese. Somethin...\n",
       "36883     Our family all agrees this is much better than...\n",
       "36473     I don't think you will find a lot of homes tha...\n",
       "36756     After tasting a bowl of this Mac and Cheese i ...\n",
       "36874     Wow, we've never had so much Macaroni and Chee...\n",
       "36511     One of my most vivid childhood memories was th...\n",
       "37083     i was raised on Annies macaroni and cheese and...\n",
       "18612     Don't be fooled by a lesser brand than Kraft. ...\n",
       "37018     Good for you and the kids beg for more?  That'...\n",
       "52422     Sorry, but the first reviewer was right.  I ha...\n",
       "36445     Similar in taste to an Alfredo sauce, the Whit...\n",
       "25299     Must be my taste buds as other reviews says it...\n",
       "36815     Annie's Mac & Cheese is my youngest son's favo...\n",
       "36804     This is a wonderful, easy snack when I'm reall...\n",
       "Name: Text, dtype: object"
      ]
     },
     "execution_count": 399,
     "metadata": {},
     "output_type": "execute_result"
    }
   ],
   "source": [
    "sorted_data[:5000]['Text'][tfidf_cluster10.labels_ == 6]"
   ]
  },
  {
   "cell_type": "markdown",
   "metadata": {},
   "source": [
    "#### Observation: \n",
    "* This one here, is about various cheese, macaroni, Alfredo sauce and snacks. So, it seems like various Italian foods. \n",
    "\n",
    "(**Note:** I have gone through full reviews and printed here some part of it for clean demonstration) "
   ]
  },
  {
   "cell_type": "code",
   "execution_count": 402,
   "metadata": {},
   "outputs": [
    {
     "data": {
      "text/plain": [
       "998       For years I have been trying to simulate a tru...\n",
       "994       Using the Briel Chamonix machine I purchased f...\n",
       "1003      After years of using Starbuck's decaf and regu...\n",
       "2290      Few things I'd like to point out:<p>1.  &quot;...\n",
       "5907      If you've never tried Kona coffee, Aloha Islan...\n",
       "2941      Many coffee brands that advertise their beans ...\n",
       "1005      We ordered these to go with our new espresso m...\n",
       "6628      Hawaii Roasters is definitely the best coffee ...\n",
       "6618      I have been drinking coffee for well over twen...\n",
       "10914     I have been drinking Douwe Egberts red label c...\n",
       "10967     I am trying to find out if these Senseo pods w...\n",
       "10679     Douwe Egberts makes some of the most delicious...\n",
       "10560     The Senseo machine shipped with two 18-pod sam...\n",
       "10916     The Millstone and Folgers pods for the Home Ca...\n",
       "10571     After spending 2 weeks in the Netherlands last...\n",
       "10959     The Douwe Egberts dark roast is the best of al...\n",
       "10479     On a recent trip to Holland I had the opportun...\n",
       "10493     I must respectfully disagree with the other re...\n",
       "10921     The Dark Roast is the best of the coffee pods ...\n",
       "10972     Simply because I always get up late and need a...\n",
       "10496     I recently bought a Senseo machine and the Dou...\n",
       "10668     Why would I spend five bucks per latte (and ta...\n",
       "10495     After a weekend of having my new Senseo coffee...\n",
       "5908      Hands down this is absolutely the best kona co...\n",
       "17633     WOW!! was my reaction when I tried these for t...\n",
       "10971     Going on a regular basis to Holland, I got to ...\n",
       "17147     This is a serious espresso. 100% Pure Espresso...\n",
       "17644     I bought a Senseo machine for the convenience ...\n",
       "17638     I was thrilled to find Kona coffee in pods for...\n",
       "5915      The aroma from a pot of this coffee is earthy ...\n",
       "                                ...                        \n",
       "34957     I used to buy pods at Starbucks, but I started...\n",
       "25718     I've been buying espresso pods for a long time...\n",
       "25719     I've looked all over for a decent selection of...\n",
       "10942     Really good and tasty coffee.<br /><br />Easy ...\n",
       "2246      We have been buying the Melita Buzzworthy Dark...\n",
       "24416     The Nantucket Blend is one of my favorite k-cu...\n",
       "10948     I can use this dark pods and get a big mug cup...\n",
       "9873      This is great espresso! The flavor is very smo...\n",
       "10949     And I make it in my favorite coffee maker ... ...\n",
       "61038     Twinings Prince of Wales tea is a flavorful me...\n",
       "10928     I've tried all the varying blends....mild thro...\n",
       "25927     Wow!  This coffee is so much better than the S...\n",
       "179452    I am always on the lookout for a good strong c...\n",
       "15541     I have an inexpensive espresso machine from De...\n",
       "11077     Ever since I started using Caffe Kimbo Espress...\n",
       "6286      Do you remember that old commercial from the 1...\n",
       "58910     There are sometimes where I could definitely u...\n",
       "10835     I have yet to try the other coffee flavors, bu...\n",
       "69709     Fogbuster is excellent for a dark roast, and t...\n",
       "8508      I have a home-bread maker, and the wheat bran ...\n",
       "166878    After having Illy at the espresso bars in Ital...\n",
       "63490     Once you try this piece of chocolate you will ...\n",
       "81843     As with any of the K-Cups, if you want it 'str...\n",
       "58886     When I need a pick-me-up in the afternoon, thi...\n",
       "15539     \"Lavazza Italian Coffee, Caffe Espresso\" is th...\n",
       "10833     I was very happy with the taste of the Douwe E...\n",
       "10734     I found this coffee at - would you believe - B...\n",
       "10831     I will not drink any other kind of coffee at h...\n",
       "10978     Friends introduced us to Douwe Egberts regular...\n",
       "69803     I like a good cup of Joe and when our friends ...\n",
       "Name: Text, Length: 153, dtype: object"
      ]
     },
     "execution_count": 402,
     "metadata": {},
     "output_type": "execute_result"
    }
   ],
   "source": [
    "sorted_data[:5000]['Text'][tfidf_cluster10.labels_ == 1]"
   ]
  },
  {
   "cell_type": "markdown",
   "metadata": {},
   "source": [
    "#### Observation: \n",
    "* This cluster over here is about various coffee beans, Starbucks and coffee making machines. \n",
    "\n",
    "(**Note:** I have gone through full reviews and printed here some part of it for clean demonstration) "
   ]
  },
  {
   "cell_type": "markdown",
   "metadata": {},
   "source": [
    "## 8. Word2Vec"
   ]
  },
  {
   "cell_type": "code",
   "execution_count": 12,
   "metadata": {},
   "outputs": [],
   "source": [
    "#Importing Libraries \n",
    "import gensim\n",
    "from gensim.models import Word2Vec\n",
    "from gensim.models import KeyedVectors"
   ]
  },
  {
   "cell_type": "code",
   "execution_count": 13,
   "metadata": {},
   "outputs": [],
   "source": [
    "#Cleaning html tags\n",
    "def cleanhtml(sentence): \n",
    "    cleanr = re.compile('<.*?>')\n",
    "    cleantext = re.sub(cleanr, ' ', sentence)\n",
    "    return cleantext\n",
    "\n",
    "#Cleaning special symbols from texts\n",
    "def cleanpunc(sentence): \n",
    "    cleaned = re.sub(r'[?|!|\\'|\"|#]',r'',sentence)\n",
    "    cleaned = re.sub(r'[.|,|)|(|\\|/]',r' ',cleaned)\n",
    "    return  cleaned"
   ]
  },
  {
   "cell_type": "code",
   "execution_count": 14,
   "metadata": {},
   "outputs": [],
   "source": [
    "#cleaning each text\n",
    "import re\n",
    "i = 0\n",
    "list_of_sent = []\n",
    "for sent in sorted_data[:100000]['Text'].values:\n",
    "    filtered_sentence = []\n",
    "    sent = cleanhtml(sent)\n",
    "    for w in sent.split():\n",
    "        for cleaned_words in cleanpunc(w).split():\n",
    "            if(cleaned_words.isalpha()):    \n",
    "                filtered_sentence.append(cleaned_words.lower())\n",
    "            else:\n",
    "                continue \n",
    "    list_of_sent.append(filtered_sentence)"
   ]
  },
  {
   "cell_type": "markdown",
   "metadata": {},
   "source": [
    "## 9. Average Word2Vec"
   ]
  },
  {
   "cell_type": "code",
   "execution_count": 15,
   "metadata": {},
   "outputs": [],
   "source": [
    "#Determining average Word2Vec for each review\n",
    "def avg_w2v(data, model):\n",
    "    sent_vectors = []\n",
    "    for sent in data: \n",
    "        sent_vec = np.zeros(100) \n",
    "        cnt_words =0; \n",
    "        for word in sent: # for each word in a review/sentence\n",
    "            try:\n",
    "                vec = model.wv[word]\n",
    "                sent_vec += vec\n",
    "                cnt_words += 1\n",
    "            except:\n",
    "                pass\n",
    "        sent_vec /= cnt_words\n",
    "        sent_vectors.append(sent_vec)\n",
    "    return np.matrix(sent_vectors)"
   ]
  },
  {
   "cell_type": "markdown",
   "metadata": {},
   "source": [
    "### 9.1. K-means Clustering"
   ]
  },
  {
   "cell_type": "code",
   "execution_count": 408,
   "metadata": {},
   "outputs": [],
   "source": [
    "fitted_models_w2v = kmean_cluster(list_of_sent, None, 'Word2Vec')"
   ]
  },
  {
   "cell_type": "markdown",
   "metadata": {},
   "source": [
    "### [A] Find Best-Fit K"
   ]
  },
  {
   "cell_type": "code",
   "execution_count": 409,
   "metadata": {},
   "outputs": [
    {
     "data": {
      "image/png": "[encoded data removed]",
      "text/plain": [
       "<matplotlib.figure.Figure at 0x7f2cc9bf1668>"
      ]
     },
     "metadata": {},
     "output_type": "display_data"
    }
   ],
   "source": [
    "find_best_k(fitted_models_w2v)"
   ]
  },
  {
   "cell_type": "code",
   "execution_count": 412,
   "metadata": {},
   "outputs": [],
   "source": [
    "w2v_cluster50 = fitted_models_w2v[8]"
   ]
  },
  {
   "cell_type": "markdown",
   "metadata": {},
   "source": [
    "### [B] Manual Checking of Some Clusters "
   ]
  },
  {
   "cell_type": "code",
   "execution_count": 418,
   "metadata": {},
   "outputs": [
    {
     "data": {
      "text/plain": [
       "837       This are so much easier to use than the Wilson...\n",
       "331       When vacationing Adam and Barbara Maitland mee...\n",
       "311       When Two Couple (Geena Davis & Alec Baldwin) d...\n",
       "994       Using the Briel Chamonix machine I purchased f...\n",
       "3311      The description of a cross between cheddar and...\n",
       "5919      I have enjoyed Hershey's chocolate bars from t...\n",
       "3060      Panko bread crumbs are just awesome.  When use...\n",
       "3385      I surprise myself by rating this cheese my fav...\n",
       "21885     Boots (the most handsome red tom cat you'll ev...\n",
       "1398      My cat Foutchie is heading toward 5 now and no...\n",
       "12997     Most people know that a weakened immune system...\n",
       "5937      Do you like chewy caramel?  How about chewy ca...\n",
       "2968      To our taste these chocolates are on a par wit...\n",
       "156235    Delicious!  Very crunchy and moderately hot.  ...\n",
       "4664      There are two types of folks in this world - t...\n",
       "7088      Pickles like these can be very much an acquire...\n",
       "17644     I bought a Senseo machine for the convenience ...\n",
       "17638     I was thrilled to find Kona coffee in pods for...\n",
       "12866     After years of imbargos on Iranian products, w...\n",
       "4575      These are kind of like gummy bears, except the...\n",
       "5938      They seem a bit smaller than they were a few y...\n",
       "199312    Hard to keep a young toddler (or an adult) int...\n",
       "5263      I'm just a droolin' fool thinkin' about these ...\n",
       "19136     It was in the 1920s that the H.B. Reese Candy ...\n",
       "5805      Regardless of the fact that I am a chocolate-l...\n",
       "16574     my husband and i were dining last night at a l...\n",
       "4655      These are a great gummy candy because their co...\n",
       "16538     Cellulose Gel, Lactic Acid, Sucralose, Titaniu...\n",
       "152564    I'm no \"health nut\", but my wife and I both fi...\n",
       "18927     Texas Pete's is the #1 hot sauce in the South ...\n",
       "                                ...                        \n",
       "208980    My 7 month old really enjoyed these meals, esp...\n",
       "132881    For all the hype these Leonard Mountain dry so...\n",
       "108432    I like figs, but I don't love them.  However, ...\n",
       "279710    Just so you get a sense of my cats tastes -<br...\n",
       "149881    My dogs loved these treats.  They are bigger t...\n",
       "170133    Not having time to make great stocks for cooki...\n",
       "223677    These noodles have a wonderful taste and are t...\n",
       "82769     because maybe then there would be someone to s...\n",
       "114805    These reusable filters are great.<br /><br />P...\n",
       "197768    These are quite crunchy- but i think a pretzel...\n",
       "128058    These are made in China.  After the deaths of ...\n",
       "142251    I have been buying these chicken jerky treats ...\n",
       "86000     I like Knorr products and have used them for m...\n",
       "85998     I like Knorr products and have used them for m...\n",
       "206056    Basically these tables change the way you tast...\n",
       "99792     This is the only mint breath freshener that my...\n",
       "72995     I've purchased several Amy's soups. This is by...\n",
       "10022     I have used a pretty good size line of Barry F...\n",
       "158186    From my wife Sarah: These are so delicious! Th...\n",
       "52642     I have eaten the varieties of these for years ...\n",
       "36000     Our dog was needing twice per day medications ...\n",
       "23785     I had a really picky dog who refuses any kind ...\n",
       "127494    I love these chips.  They are crunchy and they...\n",
       "237539    My Mom & I were itchin for a late-nite snack w...\n",
       "166057    These gummies have rave reviews, so I decided ...\n",
       "180793    Superfood Snacks are addictive. Handcrafted in...\n",
       "180790    These little things are shaped like balls -- o...\n",
       "38733     I was expecting these to be tasty after readin...\n",
       "156038    This is a bit more costly than other candy but...\n",
       "250955    I'd say that naming this coffee blend \"Classiq...\n",
       "Name: Text, Length: 3610, dtype: object"
      ]
     },
     "execution_count": 418,
     "metadata": {},
     "output_type": "execute_result"
    }
   ],
   "source": [
    "sorted_data[:100000]['Text'][w2v_cluster50.labels_ == 0]"
   ]
  },
  {
   "cell_type": "markdown",
   "metadata": {},
   "source": [
    "#### Observation: \n",
    "* This cluster is bit a noisy but talks about canday, guammy bear, chocolates more often than others.\n",
    "\n",
    "(**Note:** I have gone through full reviews and printed here some part of it for clean demonstration) "
   ]
  },
  {
   "cell_type": "code",
   "execution_count": 427,
   "metadata": {},
   "outputs": [
    {
     "data": {
      "text/plain": [
       "6381        I just love this sauce. I put in on everything.\n",
       "5081      When I First Bought This It Was Huge!There Wer...\n",
       "11704     I enjoy hot coco and I must say that this is t...\n",
       "15124     I loved the cake, it was fresh and tasted grea...\n",
       "2429      I am a huge black licorice fan, however I don'...\n",
       "13451     I don't recall how we got started on Cholula, ...\n",
       "17627     Recently purchased Anchovy Stuffed Olives.  It...\n",
       "10443     What can I say, I just blew my wad with the ti...\n",
       "9441      I was a little concerned to buy the popcorn, a...\n",
       "3821      I like this sauce... lots of flavor and high i...\n",
       "16975     I wish I could rate this  100 stars!!!!  Tey a...\n",
       "17343     The product that I received is partly vanillin...\n",
       "20694     I find these at the local asian markets but so...\n",
       "5824      I am very pleased with my purchase of Gold Mou...\n",
       "4418      I purchased the item half month ago but I neve...\n",
       "11016     I first tried this cookie on a Delta flight. I...\n",
       "5902      I love tea, but I'm VERY picky about the kind ...\n",
       "13361     I just got back from a trip to St. Maarten and...\n",
       "3887      Beware.  I ordered from this company and was v...\n",
       "31350     Well, I would love to say I like this item, ho...\n",
       "10595     I AM A COFFEE ADDICT IF YOU KNOW WHAT I MEAN. ...\n",
       "3246      This product is great!  I love cinnamon sugar ...\n",
       "50301     I saw three cans of this in T.J. Maxx.  On a w...\n",
       "8367      Just what I needed.  I feel a lot better if I ...\n",
       "19279     This is the second time I have ordered from th...\n",
       "9928      I recently bought powered buttermilk. The ship...\n",
       "18976     I just want to tell you that Drake`s Coffe Cak...\n",
       "21895     I recently got a kitten and have discovered he...\n",
       "24944     I came upon the site by accident I am so glad ...\n",
       "19768     I received my Crystal Hot sauce and I am very ...\n",
       "                                ...                        \n",
       "82084     I cannot recommend buying this product.  I thi...\n",
       "159779    I need to cancel this order.  I already have T...\n",
       "135997    I received this product very quickly and the o...\n",
       "217805    I was very surprised at how delicious this tea...\n",
       "250144    I didn't look closely enough at the price.  I ...\n",
       "60241     I can't find darjeeling loose tea anything.  S...\n",
       "268777    Douwe Egberts coffee is the most best I found ...\n",
       "173182    As a stay-at-home mom of 3, two under the age ...\n",
       "74320     I just LOVE these Jalapeno Cheddar Pumpernicke...\n",
       "103188    I love this popcorn.  In my opinion, it is the...\n",
       "50862     Based on the reviews I thought I'd give the Wi...\n",
       "214760    I didnt tell anyone in my family how good they...\n",
       "97346     Way better than Oreos :) Only issue is I cant ...\n",
       "35684     I am an island girl and this is a product wher...\n",
       "261651    Just popped a bag of this popcorn. I was excit...\n",
       "258110    Taste is sour- I use drink mix sticks every da...\n",
       "107387    Product was NOT what I ordered and after payin...\n",
       "239937    Normally I find lentils either too bland or wa...\n",
       "244135    I agree with the reviewer of the rice spaghett...\n",
       "134974    I must be honest - the only reason I tried thi...\n",
       "198448    i am thankful for having discovered hint! i ju...\n",
       "15966     it's very good and fresh<br />it's a great ide...\n",
       "214751    I recently purchased a cran lemon zest food ba...\n",
       "115004    I used to eat fresh squid ink pasta when I liv...\n",
       "4981      I use this in my instant hot cocoa mix and I c...\n",
       "39415     As someone with multiple food allergies I so a...\n",
       "233243    I absolutely love this gum!! I remember buying...\n",
       "82271     This pumpkin is very good... better than any I...\n",
       "259174    I ordered this coffee on a whim because the fl...\n",
       "72789     My dogs absolutely LOVE Yummy Chummies.  I use...\n",
       "Name: Text, Length: 1732, dtype: object"
      ]
     },
     "execution_count": 427,
     "metadata": {},
     "output_type": "execute_result"
    }
   ],
   "source": [
    "sorted_data[:100000]['Text'][w2v_cluster50.labels_ == 21]"
   ]
  },
  {
   "cell_type": "markdown",
   "metadata": {},
   "source": [
    "#### Observation: \n",
    "* This cluster is about snacks like cake, cookies along with pasta, sauce and olive etc. \n",
    "\n",
    "(**Note:** I have gone through full reviews and printed here some part of it for clean demonstration) "
   ]
  },
  {
   "cell_type": "markdown",
   "metadata": {},
   "source": [
    "### 9.2. Hierarchical Clustering"
   ]
  },
  {
   "cell_type": "code",
   "execution_count": 429,
   "metadata": {},
   "outputs": [],
   "source": [
    "fitted_models_w2v = Hierarchical_cluster(list_of_sent[:5000], None, 'Word2Vec')"
   ]
  },
  {
   "cell_type": "code",
   "execution_count": 430,
   "metadata": {},
   "outputs": [],
   "source": [
    "# taking 10 clusters into consideration\n",
    "w2v_cluster10 = fitted_models_w2v[8]"
   ]
  },
  {
   "cell_type": "markdown",
   "metadata": {},
   "source": [
    "### [A] Manual Checking of Some Clusters "
   ]
  },
  {
   "cell_type": "code",
   "execution_count": 439,
   "metadata": {},
   "outputs": [
    {
     "data": {
      "text/plain": [
       "209365    For me, when the days get colder nothing is as...\n",
       "2993      If you like Earl Grey tea, you'll find no bett...\n",
       "3564      Blend a little apple cider mix into your Tazo ...\n",
       "3616      An exquisite black tea with a little extra. If...\n",
       "12386     There is no gluten free bread out there like t...\n",
       "2410      Such is the case with this tea.  This mellow y...\n",
       "2409      When I used to work at the campus pub, one of ...\n",
       "6339      I had the fortune a couple of years ago to hav...\n",
       "79705     This kit is a great gift idea and a really goo...\n",
       "17147     This is a serious espresso. 100% Pure Espresso...\n",
       "12284     This is not a substitute for brushing your tee...\n",
       "17636     I have to agree with the guy who complained ab...\n",
       "8800      The deep purple/red color and hibiscus fragran...\n",
       "12302     I'm a huge tea fan and was thrilled to see Mel...\n",
       "2984      So many black teas (such as pu-erh and yunnan)...\n",
       "9760      This cheese is very different. It has a unique...\n",
       "161426    If you really want to make an impact, send thi...\n",
       "3883      I'm a lawyer, and got this as a gag gift.  Tur...\n",
       "21690     This tea has wonderful blend of Chinese Black ...\n",
       "2224      It absolutely amazes me that some people spend...\n",
       "19786     The reason most Americans don't like tea, is b...\n",
       "60858     My search for a good all-purpose decaffeinated...\n",
       "2929      I am a tea lover.  I won't touch coffee, not e...\n",
       "15809     I drink this green tea by Yamamotoyama for alm...\n",
       "13091     After tasting this chocolate, you'll never wan...\n",
       "11238     Five stars isn't enough. There is nothing like...\n",
       "25675     It is a surprising good tea at great price. Th...\n",
       "25882     If you like Orange-Spice Tea, you cannot find ...\n",
       "5899      I purchased a box of this tea several years ag...\n",
       "18753     This is so cool that you can review food on Am...\n",
       "                                ...                        \n",
       "8822      ****<br /><br />This Kava Stress Relief Tea fr...\n",
       "8809      ****<br />This Kava Stress Relief Tea from Yog...\n",
       "41312     You can buy the same formula at Wal-mart for t...\n",
       "167914    Kashi GoLean Crunch! is really good. Seriously...\n",
       "37358     I am an Earl Grey fan, and I am currently enjo...\n",
       "43546     It was my favorite tea until the damned pepper...\n",
       "75806     I do not have much experience with Bigelow out...\n",
       "75426     This is one of my regular morning teas. The le...\n",
       "61084     We love this tea...I like the new packaging an...\n",
       "28002     I too, totally disagree with the other reviewe...\n",
       "184975    I love this stuff and this is a great size and...\n",
       "67197     I became a fan of green tea when my Navy dutie...\n",
       "60378     When I was younger, the only tea readily avail...\n",
       "61074     Twinings Decaf tea is a refreshing cup of tea ...\n",
       "28192     Other than the Republic of Tea The People's Gr...\n",
       "37566     I personally like loose tea best or Tazo bette...\n",
       "37638     This is excellent tea..  I'm glad it's organic...\n",
       "38890     Bear Naked Granola is just fabulous. I've trie...\n",
       "43882     It is great to get a case (6 pack) of 20ct box...\n",
       "81885     I love this tea.  It's my favorite of the K-cu...\n",
       "53603     A few years ago we travelled to Bermuda.  I li...\n",
       "70010     Excellent quality Agave Nectar at a great pric...\n",
       "49725     This soup is just great.  Our whole family lov...\n",
       "28281     I was so happy to find decaf Green tea and ord...\n",
       "49769     This delicious organic soup has great taste, i...\n",
       "53602     This is a wonderful tea.  The hint of Bergamot...\n",
       "37203     This tea is one of my favorites.  It's a caffe...\n",
       "31463     Best price I have found on Soy formula. Ships ...\n",
       "44104     This tea is the closet to real tea you can get...\n",
       "28185     I am a huge fan of tea. I have been drinking t...\n",
       "Name: Text, Length: 242, dtype: object"
      ]
     },
     "execution_count": 439,
     "metadata": {},
     "output_type": "execute_result"
    }
   ],
   "source": [
    "sorted_data[:5000]['Text'][w2v_cluster10.labels_ == 8]"
   ]
  },
  {
   "cell_type": "markdown",
   "metadata": {},
   "source": [
    "#### Observation: \n",
    "* This one clusters tea and coffee related reviews into one cluster. \n",
    "\n",
    "(**Note:** I have gone through full reviews and printed here some part of it for clean demonstration) "
   ]
  },
  {
   "cell_type": "code",
   "execution_count": 444,
   "metadata": {},
   "outputs": [
    {
     "data": {
      "text/plain": [
       "245       THIS IS ONE MOVIE THAT SHOULD BE IN YOUR MOVIE...\n",
       "325       I'm getting crazy.I'm looking for Beatlejuice ...\n",
       "427       I'm getting crazy.<p>Is it really impossible t...\n",
       "1032      Although this was a gift to use for keeping wi...\n",
       "357315    I love meow mix, my cats love it to. We all ea...\n",
       "2216      I love this stuff. It is sugar-free so it does...\n",
       "6635      Hawaii Roasters coffee is awesome!!!  I discov...\n",
       "11974     This is my favorite Earl Grey tea.  My Mom lov...\n",
       "10964     I have been using the Senseo for some time now...\n",
       "4429      My daughter is a vegan, so when I bake I use t...\n",
       "12995     I have been taking amazing grass for about a y...\n",
       "11128     it is an excellent spread.  nutella and peanut...\n",
       "3020      This sauce is excellent with somen noodles and...\n",
       "12869     I think it is Very Expensive  !!<br />I can ge...\n",
       "16309     So it must be good.  He never lies to me.  Eve...\n",
       "2429      I am a huge black licorice fan, however I don'...\n",
       "1473      This is my cat's favorite one.  He just licks ...\n",
       "1464      This one is a great basic food. Whatever is in...\n",
       "16957     I love this oil.  It is very flavorful.  I use...\n",
       "2054      Smokey loves this food and so do I. It really ...\n",
       "6434      I am a low carber and I LOVE the taste of this...\n",
       "3773      This is a perfect sauce to add to Pho Thai, ot...\n",
       "3468      A friend of mine turned me onto this lovely vi...\n",
       "6432      My boyfriend and I both love chai tea, and aft...\n",
       "14171     I am a sugar fiend and when I went diet 3 year...\n",
       "5385      It is the best hot chocolate I have ever taste...\n",
       "11886     this curry assortment is a great way to sample...\n",
       "142       My dog is a very picky eater.  She has a very ...\n",
       "18134     This is fantastic relish, you can mix it with ...\n",
       "11933     Use this jam with cream cheese and spread on W...\n",
       "                                ...                        \n",
       "177954    This is supposed to be all natural but HFCS is...\n",
       "167887    Whole grain, low sugar (well some of their oth...\n",
       "46413     I've tried many different brands of Muesli and...\n",
       "41285     My daughter wouldn't take any formula other th...\n",
       "76475     I'm always looking for a good flavored tea, an...\n",
       "37337     This tea is best hot..  It's ok cold but I usu...\n",
       "33056     We use this \"meat\" in veggie loaf, veggie taco...\n",
       "68292     Surprisingly! It has a great taste compared to...\n",
       "27778     I am a true fan of all things ginger, and this...\n",
       "66710     For an egg free, wheat free, gluten free, dair...\n",
       "81077     This halvah has quite a bitter aftertaste and ...\n",
       "39528     My son and I are gluten free. We love this so ...\n",
       "179024    We liked the Sadaf Falafel, although it had a ...\n",
       "58909     Very good coffee, my personal favorite....Plea...\n",
       "2894      This my husband's favorite flavor and it's eas...\n",
       "46337     I thought it was an excellent product and plan...\n",
       "51325     My husband swears by this stuff and I finally ...\n",
       "92420     This juice is not touted as a \"cure\". It is li...\n",
       "18177     Excellent.  Best tasting English Muffin anywhe...\n",
       "49154     I love this product because it is very simple ...\n",
       "45780     I find it easy to use at breakfast when added ...\n",
       "167832    Great cereal.  I mix into it some soy milk pow...\n",
       "24839     MY HUSBAND LIKES IT, HE IS GETTING IT FOR A GI...\n",
       "46033     This mix is easy and tastes great! It only mak...\n",
       "42957     I think my title says it all. Of course, the p...\n",
       "36804     This is a wonderful, easy snack when I'm reall...\n",
       "36853     My family loves this, even my picky 7y.o and c...\n",
       "65433     This popcorn topping's unique blend of seasoni...\n",
       "50019     Great for Taco,  sprinkle on nachos or add to ...\n",
       "36067     Love the stuff.  Sent it to my daughter.  She ...\n",
       "Name: Text, Length: 227, dtype: object"
      ]
     },
     "execution_count": 444,
     "metadata": {},
     "output_type": "execute_result"
    }
   ],
   "source": [
    "sorted_data[:5000]['Text'][w2v_cluster10.labels_ == 5]"
   ]
  },
  {
   "cell_type": "markdown",
   "metadata": {},
   "source": [
    "#### Observation: \n",
    "* This cluster is again a bit noisy. It talks about jam, bread, tacos, nachos, cream, cheese, grains and flour along with some noise related to coffee and movies. \n",
    "\n",
    "(**Note:** I have gone through full reviews and printed here some part of it for clean demonstration) "
   ]
  },
  {
   "cell_type": "markdown",
   "metadata": {},
   "source": [
    "### 9.3. DBSCAN Clustering"
   ]
  },
  {
   "cell_type": "markdown",
   "metadata": {},
   "source": [
    "### [A] Find Best-Fit Eps "
   ]
  },
  {
   "cell_type": "code",
   "execution_count": 105,
   "metadata": {},
   "outputs": [
    {
     "data": {
      "image/png": "[encoded data removed]",
      "text/plain": [
       "<matplotlib.figure.Figure at 0x7f80c6a82f98>"
      ]
     },
     "metadata": {},
     "output_type": "display_data"
    }
   ],
   "source": [
    "best_eps(list_of_sent[:20000], 'Word2Vec')"
   ]
  },
  {
   "cell_type": "markdown",
   "metadata": {},
   "source": [
    "#### Observation: \n",
    "* From this plot the best-fit eps seems to be 0.01 as after that the distance from 200th nearest neighbor increases drastically."
   ]
  },
  {
   "cell_type": "code",
   "execution_count": 132,
   "metadata": {},
   "outputs": [],
   "source": [
    "cluster = DBSCAN_cluster(list_of_sent[:20000], 0.006, 'Word2Vec')"
   ]
  },
  {
   "cell_type": "code",
   "execution_count": 133,
   "metadata": {},
   "outputs": [
    {
     "data": {
      "text/plain": [
       "array([-1,  0])"
      ]
     },
     "execution_count": 133,
     "metadata": {},
     "output_type": "execute_result"
    }
   ],
   "source": [
    "np.unique(cluster.labels_)"
   ]
  },
  {
   "cell_type": "code",
   "execution_count": 134,
   "metadata": {},
   "outputs": [
    {
     "data": {
      "text/plain": [
       "1674"
      ]
     },
     "execution_count": 134,
     "metadata": {},
     "output_type": "execute_result"
    }
   ],
   "source": [
    "(cluster.labels_ == -1).sum()"
   ]
  },
  {
   "cell_type": "code",
   "execution_count": 135,
   "metadata": {},
   "outputs": [
    {
     "data": {
      "text/plain": [
       "18326"
      ]
     },
     "execution_count": 135,
     "metadata": {},
     "output_type": "execute_result"
    }
   ],
   "source": [
    "(cluster.labels_ == 0).sum()"
   ]
  },
  {
   "cell_type": "code",
   "execution_count": 136,
   "metadata": {},
   "outputs": [],
   "source": [
    "cluster = DBSCAN_cluster(list_of_sent[:20000], 0.005, 'Word2Vec')"
   ]
  },
  {
   "cell_type": "code",
   "execution_count": 137,
   "metadata": {},
   "outputs": [
    {
     "data": {
      "text/plain": [
       "array([-1,  0])"
      ]
     },
     "execution_count": 137,
     "metadata": {},
     "output_type": "execute_result"
    }
   ],
   "source": [
    "np.unique(cluster.labels_)"
   ]
  },
  {
   "cell_type": "code",
   "execution_count": 138,
   "metadata": {},
   "outputs": [
    {
     "data": {
      "text/plain": [
       "4356"
      ]
     },
     "execution_count": 138,
     "metadata": {},
     "output_type": "execute_result"
    }
   ],
   "source": [
    "(cluster.labels_ == -1).sum()"
   ]
  },
  {
   "cell_type": "code",
   "execution_count": 139,
   "metadata": {},
   "outputs": [
    {
     "data": {
      "text/plain": [
       "15644"
      ]
     },
     "execution_count": 139,
     "metadata": {},
     "output_type": "execute_result"
    }
   ],
   "source": [
    "(cluster.labels_ == 0).sum()"
   ]
  },
  {
   "cell_type": "code",
   "execution_count": 140,
   "metadata": {},
   "outputs": [],
   "source": [
    "cluster = DBSCAN_cluster(list_of_sent[:20000], 0.004, 'Word2Vec')"
   ]
  },
  {
   "cell_type": "code",
   "execution_count": 141,
   "metadata": {},
   "outputs": [
    {
     "data": {
      "text/plain": [
       "array([-1,  0])"
      ]
     },
     "execution_count": 141,
     "metadata": {},
     "output_type": "execute_result"
    }
   ],
   "source": [
    "np.unique(cluster.labels_)"
   ]
  },
  {
   "cell_type": "code",
   "execution_count": 142,
   "metadata": {},
   "outputs": [
    {
     "data": {
      "text/plain": [
       "9443"
      ]
     },
     "execution_count": 142,
     "metadata": {},
     "output_type": "execute_result"
    }
   ],
   "source": [
    "(cluster.labels_ == -1).sum()"
   ]
  },
  {
   "cell_type": "code",
   "execution_count": 143,
   "metadata": {},
   "outputs": [
    {
     "data": {
      "text/plain": [
       "10557"
      ]
     },
     "execution_count": 143,
     "metadata": {},
     "output_type": "execute_result"
    }
   ],
   "source": [
    "(cluster.labels_ == 0).sum()"
   ]
  },
  {
   "cell_type": "markdown",
   "metadata": {},
   "source": [
    "#### Observation: \n",
    "* Along with the best-eps I tried other possible eps values to illustrate how DBSCAN clustering is so much sensitive to the eps value.\n",
    "* For eps = 0.006, 1674 data points are marked as noisy points and rest are clustered together to form a single cluster.\n",
    "* For eps = 0.005, 4356 points are marked as noisy i.e only 0.001 change in eps brings 3 times change in number of noisy points. It clearly shows even a small change in eps ends with drastic change in clustering."
   ]
  },
  {
   "cell_type": "markdown",
   "metadata": {},
   "source": [
    "## 10. TFIDF - Word2Vec"
   ]
  },
  {
   "cell_type": "code",
   "execution_count": 145,
   "metadata": {},
   "outputs": [],
   "source": [
    "tf_idf_vect = TfidfVectorizer()"
   ]
  },
  {
   "cell_type": "code",
   "execution_count": 163,
   "metadata": {},
   "outputs": [],
   "source": [
    "from tqdm import tqdm\n",
    "\n",
    "# Determining TF-IDF weighted Word2Vec\n",
    "def tfidf_w2v(data, model, dictionary):\n",
    "    tfidf_feat = tf_idf_vect.get_feature_names() \n",
    "    tfidf_sent_vectors = []\n",
    "    row = 0\n",
    "    for sent in tqdm(data): \n",
    "        sent_vec = np.zeros(100)\n",
    "        weight_sum = 0 \n",
    "        for word in sent: \n",
    "            try:\n",
    "                vec = model.wv[word]\n",
    "                tf_idf = dictionary[word] * (sent.count(word)/len(sent))\n",
    "                sent_vec += (vec * tf_idf)\n",
    "                weight_sum += tf_idf\n",
    "            except:\n",
    "                pass\n",
    "        sent_vec /= weight_sum\n",
    "        tfidf_sent_vectors.append(sent_vec)\n",
    "        row += 1\n",
    "    return np.matrix(tfidf_sent_vectors)"
   ]
  },
  {
   "cell_type": "markdown",
   "metadata": {},
   "source": [
    "### 10.1. K-means Clustering"
   ]
  },
  {
   "cell_type": "code",
   "execution_count": 167,
   "metadata": {},
   "outputs": [
    {
     "name": "stderr",
     "output_type": "stream",
     "text": [
      "100%|██████████| 100000/100000 [00:32<00:00, 3041.73it/s]\n"
     ]
    }
   ],
   "source": [
    "models_tfidf_w2v = kmean_cluster(sorted_data[:100000]['CleanedText'], None, 'TFIDF-W2V', list_of_sent)"
   ]
  },
  {
   "cell_type": "markdown",
   "metadata": {},
   "source": [
    "### [A] Find Best-Fit K"
   ]
  },
  {
   "cell_type": "code",
   "execution_count": 168,
   "metadata": {},
   "outputs": [
    {
     "data": {
      "image/png": "[encoded data removed]",
      "text/plain": [
       "<matplotlib.figure.Figure at 0x7f80c545d7b8>"
      ]
     },
     "metadata": {},
     "output_type": "display_data"
    }
   ],
   "source": [
    "find_best_k(models_tfidf_w2v)"
   ]
  },
  {
   "cell_type": "code",
   "execution_count": 169,
   "metadata": {},
   "outputs": [],
   "source": [
    "tfidf_w2v_cluster50 = models_tfidf_w2v[8]"
   ]
  },
  {
   "cell_type": "markdown",
   "metadata": {},
   "source": [
    "### [B] Manual Checking of Some Clusters  "
   ]
  },
  {
   "cell_type": "code",
   "execution_count": 184,
   "metadata": {},
   "outputs": [
    {
     "data": {
      "text/plain": [
       "845       I don't know why anyone would ever use those l...\n",
       "3061      This is the Japanese version of breadcrumb (pa...\n",
       "4913      Sour Patch kids are by far my favorite candy o...\n",
       "4664      There are two types of folks in this world - t...\n",
       "9197      I bought these mints at the Burlington, VT air...\n",
       "16740     A friend who owns a pet store recomended Bil-J...\n",
       "4427      My wife and I are both milk intolerant. There ...\n",
       "22819     I gave this to my brother for Christmas and it...\n",
       "20854     These are the best for keeping your dog happy!...\n",
       "56569     These letters are a nice simple gummy. They ar...\n",
       "7495      These truffles are really great--I was skeptic...\n",
       "26543     fabulous, low-carb sugarfree cookies.  No afte...\n",
       "24875     These are great for anyone who has a sweet too...\n",
       "5085      Fruit flavored and fruit shaped mix, in a movi...\n",
       "24602     If you are on Weight Watchers, there is no bet...\n",
       "33235     I love these candies and they are very popular...\n",
       "13064     These chocolates are the best I have ever tast...\n",
       "28916     I have searched high and low to find a high-qu...\n",
       "24885     SOMETIMES A TOOTHPICK CAN BE FUN!<br /><br />5...\n",
       "23528     The description for this item is not accurate....\n",
       "13090     We tried (and retried very may times :) these ...\n",
       "22277     These things are insanely good.  I am a lover ...\n",
       "364038    The product description is very accurate.  I r...\n",
       "131781    Okay, maybe not \"healthy\" but they are an exce...\n",
       "34513     I haven't bought this order, but I received a ...\n",
       "19180     These mints are the best for all the reasons t...\n",
       "36143     I found Tings to be a really good substitute f...\n",
       "20624     My vet told me I had to give my cat anti-bioti...\n",
       "31291     Noodles are low cal and low carb and it is har...\n",
       "31278     40 calories for 8 oz of noodles.  They are del...\n",
       "                                ...                        \n",
       "50387     For something as alluring as the \"black pearl\"...\n",
       "183436    The LorAnn pistachio flavoring oil was purchas...\n",
       "110165    These were packed very good and the containers...\n",
       "206336    Pistachios are a Favorite in our house. Kennan...\n",
       "222501    I bought these as soon as I saw them, because ...\n",
       "253449    My husband and I are big fans of these noodles...\n",
       "108650    \"Simply the BEST CANNED CLAMS I know, and I tr...\n",
       "15944     These maamoul cookies are fabulous!  I treat m...\n",
       "78345     Both my children love these and I love that th...\n",
       "147835    This is a great marinade for chicken or beef. ...\n",
       "82797     These are just the best of the best lollipops ...\n",
       "83275     We typically buy these bars one box at a time ...\n",
       "187675    Tastes great.  Hint of chocolate, crunchy, and...\n",
       "51707     I love these bars. I love that they are raw an...\n",
       "143578    Spanish olives are not as perfumed as Italian....\n",
       "222265    The only thing our 2 hounds like better are th...\n",
       "212224    I've ordered these cookies several times and n...\n",
       "150244    These candies are very rich and dense and pack...\n",
       "151799    Grand children, and my wife, love the flavor o...\n",
       "84250     I've tried Apricot which is excellent, but the...\n",
       "223677    These noodles have a wonderful taste and are t...\n",
       "166779    These crackers are delicious, and make an eleg...\n",
       "127527    I tried these chips looking for a healthy snac...\n",
       "72983     I love Amy's products!! I also enjoy the fact ...\n",
       "68927     I cannot find these in stores anymore and have...\n",
       "142251    I have been buying these chicken jerky treats ...\n",
       "228229    these olives are the smoothest olives I have h...\n",
       "68529     I was so distracted by the horribly chewy text...\n",
       "263997    I received these roses as a gift and they are ...\n",
       "115563    Compare to other nutritional bars out there yo...\n",
       "Name: Text, Length: 1918, dtype: object"
      ]
     },
     "execution_count": 184,
     "metadata": {},
     "output_type": "execute_result"
    }
   ],
   "source": [
    "sorted_data[:100000]['Text'][tfidf_w2v_cluster50.labels_ == 23]"
   ]
  },
  {
   "cell_type": "markdown",
   "metadata": {},
   "source": [
    "#### Observation: \n",
    "\n",
    "* This cluster is again a bit noisy. It talks about jam, bread, tacos, nachos, cream, cheese, grains and flour along with some noise related to coffee and movies. \n",
    "\n",
    "(**Note:** I have gone through full reviews and printed here some part of it for clean demonstration) "
   ]
  },
  {
   "cell_type": "code",
   "execution_count": 193,
   "metadata": {},
   "outputs": [
    {
     "data": {
      "text/plain": [
       "2987      I recently ordered the Hot Cinnamon Spice tea ...\n",
       "12302     I'm a huge tea fan and was thrilled to see Mel...\n",
       "19786     The reason most Americans don't like tea, is b...\n",
       "25882     If you like Orange-Spice Tea, you cannot find ...\n",
       "26018     In order for tea to be labeled \"decaff\" is mus...\n",
       "23047     I picked this tea up just out of curiosity at ...\n",
       "26560     My family is from England and we love tea. We ...\n",
       "26674     This is the tea I measure all other teas by, t...\n",
       "2995      With a combination of citrus zest and spices m...\n",
       "135007    This is my favorite tea for any chilly night! ...\n",
       "25890     As a classic Seattle tea, this tea brings back...\n",
       "31053     If you have IBS then this tea will help you im...\n",
       "26563     I love this tea.  Ahmad tea is just a perfect ...\n",
       "8484      Good tasting, rich tea - several cups' worth p...\n",
       "12289     This is a favorite tea of mine.  I enjoy the t...\n",
       "22799     I love tea.  I have at least 10 different type...\n",
       "26557     This is the smoosthest  blend of tea that I ca...\n",
       "13263     this tea while a bit pricey, is excellent. Hin...\n",
       "15007     This tea did not taste like I expected it to. ...\n",
       "19892     The first time I had this tea was during cream...\n",
       "24462     We have a Keurig in our small office, and sinc...\n",
       "25120     The tea was great, the shipping was very fast,...\n",
       "21749     One of my favorite stores has carried Twinings...\n",
       "23048     Glad you like it!  This tea is the basic every...\n",
       "6340      As a classic Seattle tea, this tea brings back...\n",
       "25672     My husband drinks tea daily he is very happy w...\n",
       "12029     My step-father is Australian and he turned me ...\n",
       "21691     If you are a trying to increase your consumpti...\n",
       "44359     Fabulous tea!  This makes a great presentation...\n",
       "6509      I first had this iced tea at the Desert Museum...\n",
       "                                ...                        \n",
       "171075    This is now our favorite tea. It's great as ic...\n",
       "180349    Ahmad Tea is an excellent looseleaf tea eith h...\n",
       "76285     Everyone said green tea was good for me but I ...\n",
       "129605    A lot of reviewers are calling this 'green tea...\n",
       "111417    I found this Mint tea while in Canada.  I was ...\n",
       "169925    I have become quite the tea drinker, a bit of ...\n",
       "192296    I use a French-press style coffee-pot to brew ...\n",
       "118902    Great tasting tea, I make a blend of ice tea, ...\n",
       "249906    My husband discovered Ito En Golden Oolong Tea...\n",
       "165870    I love loose leaf tea - the large leaves brew ...\n",
       "207461    This is the best white tea for the money. They...\n",
       "59711     I tried this tea because many of my favorite t...\n",
       "151999    This is officially my new brand of Oolong Tea....\n",
       "147017    I am a tea drinker and enjoy drinking tea thro...\n",
       "272077    I love this tea.  This has body, flavor, and i...\n",
       "198727    This tea left a bad taste in my mouth. I found...\n",
       "76310     If you are looking for a lightly flavored gree...\n",
       "184073    Rich tasting up-scale tea, excellent for hot t...\n",
       "169712    This \"Rishi Tea Organic Green Tea Jasmine Pear...\n",
       "60241     I can't find darjeeling loose tea anything.  S...\n",
       "242624    I have been favorably impressed with all of th...\n",
       "84860     I ordered 4boxes for presents. one tea bag whi...\n",
       "232647    We really enjoy the Timothy's K-cup products. ...\n",
       "61455     I purchased this tea looking for a ice tea tha...\n",
       "67198     I enjoy Numi rose white tea which tastes wonde...\n",
       "11999     This is great tea!  I'm the only hot tea drink...\n",
       "208739    I purchased this tea for an Indian themed part...\n",
       "207064    Teaosophy's Assam Black tea has a wonderful fl...\n",
       "28155     I have drank this brand of tea for years.  Cou...\n",
       "171012    I was looking for a good tea k-cup to make ice...\n",
       "Name: Text, Length: 1209, dtype: object"
      ]
     },
     "execution_count": 193,
     "metadata": {},
     "output_type": "execute_result"
    }
   ],
   "source": [
    "sorted_data[:100000]['Text'][tfidf_w2v_cluster50.labels_ == 32]"
   ]
  },
  {
   "cell_type": "markdown",
   "metadata": {},
   "source": [
    "#### Observation: \n",
    "* This cluster contains various products but there is one thing in common. Most reviewers in this cluster are health conscious because most of the reviews contains words like low carb, organic, allergic, IBS(irritable bowl syndrome) showing a group of people who are either health conscious or suffer from some kind of allergic to certain food. \n",
    "\n",
    "(**Note:** I have gone through full reviews and printed here some part of it for clean demonstration) "
   ]
  },
  {
   "cell_type": "markdown",
   "metadata": {},
   "source": [
    "### 10.2. Hierarchical Clustering"
   ]
  },
  {
   "cell_type": "code",
   "execution_count": 195,
   "metadata": {},
   "outputs": [
    {
     "name": "stderr",
     "output_type": "stream",
     "text": [
      "100%|██████████| 5000/5000 [00:00<00:00, 9163.92it/s]\n"
     ]
    }
   ],
   "source": [
    "models_tfidf_w2v = Hierarchical_cluster(sorted_data.iloc[:5000],  None, 'TFIDF-W2V', list_of_sent[:5000])"
   ]
  },
  {
   "cell_type": "code",
   "execution_count": 197,
   "metadata": {},
   "outputs": [],
   "source": [
    "# considering 10 clustered model\n",
    "cluster10 = models_tfidf_w2v[8]"
   ]
  },
  {
   "cell_type": "markdown",
   "metadata": {},
   "source": [
    "### [A] Manual Checking of Some Clusters"
   ]
  },
  {
   "cell_type": "code",
   "execution_count": 215,
   "metadata": {},
   "outputs": [
    {
     "data": {
      "text/plain": [
       "2290      Few things I'd like to point out:<p>1.  &quot;...\n",
       "3506      \"There are few hours in life more agreeable th...\n",
       "231731    My wife and I are dark chocolate snobs (Scharf...\n",
       "12996     I love this stuff.  In the first week of takin...\n",
       "4663      Despite the, previous, scathing review from so...\n",
       "9818      Wow, I never thought that I'd actually be writ...\n",
       "2429      I am a huge black licorice fan, however I don'...\n",
       "12302     I'm a huge tea fan and was thrilled to see Mel...\n",
       "2984      So many black teas (such as pu-erh and yunnan)...\n",
       "9276      I saw VerMints in a natural food store and imm...\n",
       "4655      These are a great gummy candy because their co...\n",
       "3715      My best friend turned me on to Cavender's back...\n",
       "25583     Crunchies are the absolute best candy bars.  W...\n",
       "10865     Ok, you have or want a Pod machine.  Many choi...\n",
       "10556     I just tried this one, too, and also the new I...\n",
       "22911     A friend of mine who visited me from Tacoma br...\n",
       "1846      I have used World's Greatest Litter for a coup...\n",
       "3387      [note: this review refers to \"Parmigiano Reggi...\n",
       "23289     I've been dieting for just over a year, using ...\n",
       "6067      This is, by far, one of the best teas [...]has...\n",
       "18730     I mean sure you may not be crazy about it like...\n",
       "7411      I'd not heard of Orangina until recently.  I f...\n",
       "33202     Personally, I'd love a bowl of miso soup any d...\n",
       "13139     The product description calls the Orangettes \"...\n",
       "1121      Halitosis was a major problem for me, especial...\n",
       "10381     I like to keep crunchy snacks that aren't swee...\n",
       "107089    I remember these from elementary school, and I...\n",
       "12437     I bought this as a gift for my mother, and she...\n",
       "3757      Hot? Yes.<br /> Tasty? No.<br /><br /> Endorph...\n",
       "25383     My first order of alohaislandcoffee.com was th...\n",
       "                                ...                        \n",
       "70452     I love the other Nana's cookie bars and cookie...\n",
       "37357     This tea is amazingly delicious. I have always...\n",
       "42006     I like it in banana-yogurt based smoothies. Al...\n",
       "6286      Do you remember that old commercial from the 1...\n",
       "38103     I ordered the White Christmas, Christmas Eve, ...\n",
       "38050     Slim Jims may taste ok but that's because they...\n",
       "50749     I saw this and thought it would be worth tryin...\n",
       "66951     I've only been on a gluten free diet for four ...\n",
       "13777     I have the most finicky cats in the world, but...\n",
       "17596     This is junk food for cats.<br /><br />Cats mu...\n",
       "40057     I just bought these cookies so I'd get free sh...\n",
       "28332     *****<br /><br />This Woman's Dong Quai Tonic ...\n",
       "34417     These candybars...or squares are some of the b...\n",
       "69709     Fogbuster is excellent for a dark roast, and t...\n",
       "4047      this tree arrived VERY quickly (in 3 days). it...\n",
       "16421     I grew up with this stuff. My family is not Ja...\n",
       "58436     I recently moved to a new area and there's a V...\n",
       "57984     I'd been ordering these for my family but deci...\n",
       "36204     Seriously, this snakc if very healthy compared...\n",
       "2948      Having usually eating store baught peanuts I'd...\n",
       "49797     I'm reviewing the Organic Chicken and Egg Nood...\n",
       "63808     I had wondered how HIT removed the trans fat f...\n",
       "51728     I read about the fat content on the Larabar si...\n",
       "50987     What I like most about these muffin packs is t...\n",
       "10834     The Senseo Douwe Egbertts Dark Roast is as clo...\n",
       "54992     My pug won a small package of these in a conte...\n",
       "81885     I love this tea.  It's my favorite of the K-cu...\n",
       "1619      My dogs are in love with Canidae Maintenance F...\n",
       "36216     We ordered a case, and it arrived in perfect c...\n",
       "25269     Not bad. Very flavorful, good nutrition, low c...\n",
       "Name: Text, Length: 105, dtype: object"
      ]
     },
     "execution_count": 215,
     "metadata": {},
     "output_type": "execute_result"
    }
   ],
   "source": [
    "sorted_data[:5000]['Text'][cluster10.labels_ == 0]"
   ]
  },
  {
   "cell_type": "markdown",
   "metadata": {},
   "source": [
    "#### Observation: \n",
    "* This cluster seems noisy as data points taken is low or it seems tfidf w2v is not that good in clustering. \n",
    "\n",
    "(**Note:** I have gone through full reviews and printed here some part of it for clean demonstration) "
   ]
  },
  {
   "cell_type": "code",
   "execution_count": 225,
   "metadata": {},
   "outputs": [
    {
     "data": {
      "text/plain": [
       "423       Beetlejuice is an excellent and funny movie. K...\n",
       "845       I don't know why anyone would ever use those l...\n",
       "32        This was a favorite book of mine when I was a ...\n",
       "998       For years I have been trying to simulate a tru...\n",
       "1063      The wine saver is great in so many ways. Obvio...\n",
       "252       What can I say? This is a CLASSIC! I've seen t...\n",
       "864       The spectra paste food colors are simply fanta...\n",
       "1118      Well, maybe not &quot;the&quot; greatest, but ...\n",
       "1119      Finally, a collection of the best Camper Van B...\n",
       "336       I like Tim Burton movies in general.  But this...\n",
       "866       I'm really glad I bought the Ateco 12-Color Fo...\n",
       "365       Just to let you know, this movie is one of my ...\n",
       "307       I recently saw the DVD 5.1 version of this fil...\n",
       "251       This is definitely a guilty pleasure.  As ofte...\n",
       "2217      A tennis player hubby of mine got this pack on...\n",
       "3223      I have relied on these cake mixes for a few ye...\n",
       "5919      I have enjoyed Hershey's chocolate bars from t...\n",
       "3385      I surprise myself by rating this cheese my fav...\n",
       "4237      I received this tree only 3 days after I order...\n",
       "8865      This is my first experience purchasing and usi...\n",
       "3403      And it is GOOD!!! You get a half pound of Cots...\n",
       "8890      I found this product in a gourmet grocery stor...\n",
       "3         This is a great little book to read aloud- it ...\n",
       "5024      The quality of this coffee is the first thing ...\n",
       "4493      Ok folks, this is not a joke.  I am a real fan...\n",
       "295       At the time of its release in 1988, 'Beetlejui...\n",
       "10914     I have been drinking Douwe Egberts red label c...\n",
       "10964     I have been using the Senseo for some time now...\n",
       "10679     Douwe Egberts makes some of the most delicious...\n",
       "2410      Such is the case with this tea.  This mellow y...\n",
       "                                ...                        \n",
       "20996     I fed my cat Iams Weight Control for 3 years b...\n",
       "80572     Great hot when you have a cold or flu. Perhaps...\n",
       "67197     I became a fan of green tea when my Navy dutie...\n",
       "19147     You'll probably be more satisfied if you pick ...\n",
       "171750    I just finished off my first box of \"McCann's ...\n",
       "47610     Just got Teff for the first time several weeks...\n",
       "67902     My parents sent me the Aerogarden so I could g...\n",
       "68321     Ok, so you can cook up a bowl of chewy tasty b...\n",
       "65615     This is a good all-round cracker, for eating w...\n",
       "52264     Tried this for the first time, just to complet...\n",
       "34890     I have been a long time fan of polenta and hav...\n",
       "48406     my whole family likes these and we have a hard...\n",
       "90074     This vendor went above and beyond to get the g...\n",
       "22315     We needed a special gift for someone who had a...\n",
       "48440     I've been buying these for a long time, usuall...\n",
       "49636     Both LaTempesta Bisciotti are delicious, keep ...\n",
       "29883     I used these to prevent my puppy from chewing ...\n",
       "55386     We found this sandwich bread to be very satisf...\n",
       "9297      This is a wonderful example of how a responsib...\n",
       "68308     I would prefer freshly made brown rice, but th...\n",
       "40989     This microwavable dipping chocolate has just t...\n",
       "39526     Now, I never thought I would take the time to ...\n",
       "46553     An excellent product inside, I just wish the p...\n",
       "43470     Every time I make this Zatarain's mix I think ...\n",
       "90771     The treats are shaped like little meat cylinde...\n",
       "572       I purchased 3 of the Victor mole traps and fol...\n",
       "190839    This is the first time I have used SweetLeaf S...\n",
       "335236    the gu was very good and arrived in not too lo...\n",
       "47499     These are great because they don't taste like ...\n",
       "178324    McCann's is \"just\" oatmeal, but it's perhaps t...\n",
       "Name: Text, Length: 584, dtype: object"
      ]
     },
     "execution_count": 225,
     "metadata": {},
     "output_type": "execute_result"
    }
   ],
   "source": [
    "sorted_data[:5000]['Text'][cluster10.labels_ == 2]"
   ]
  },
  {
   "cell_type": "markdown",
   "metadata": {},
   "source": [
    "#### Observation: \n",
    "* This cluster is also noisy. One part of this cluster is about movies, book etc and other part contains reviews about different food items.\n",
    "\n",
    "(**Note:** I have gone through full reviews and printed here some part of it for clean demonstration) "
   ]
  },
  {
   "cell_type": "markdown",
   "metadata": {},
   "source": [
    "### 10.3. DBSCAN Clustering"
   ]
  },
  {
   "cell_type": "markdown",
   "metadata": {},
   "source": [
    "### [A] Find Best-Fit Eps"
   ]
  },
  {
   "cell_type": "code",
   "execution_count": 227,
   "metadata": {},
   "outputs": [
    {
     "name": "stderr",
     "output_type": "stream",
     "text": [
      "100%|██████████| 20000/20000 [00:05<00:00, 3571.30it/s]\n"
     ]
    },
    {
     "data": {
      "image/png": "[encoded data removed]",
      "text/plain": [
       "<matplotlib.figure.Figure at 0x7f80add04438>"
      ]
     },
     "metadata": {},
     "output_type": "display_data"
    }
   ],
   "source": [
    "best_eps(sorted_data[:20000]['CleanedText'], 'TFIDF-W2V', list_of_sent[:20000])"
   ]
  },
  {
   "cell_type": "markdown",
   "metadata": {},
   "source": [
    "#### Observation: \n",
    "* From this plot the best-fit eps seems to be 0.015 as after that the distance from 200th nearest neighbor increases drastically."
   ]
  },
  {
   "cell_type": "code",
   "execution_count": 232,
   "metadata": {},
   "outputs": [
    {
     "name": "stderr",
     "output_type": "stream",
     "text": [
      "100%|██████████| 20000/20000 [00:06<00:00, 3277.67it/s]\n"
     ]
    }
   ],
   "source": [
    "cluster = DBSCAN_cluster(sorted_data[:20000]['CleanedText'], 0.015, 'TFIDF-W2V', list_of_sent[:20000])"
   ]
  },
  {
   "cell_type": "code",
   "execution_count": 233,
   "metadata": {},
   "outputs": [
    {
     "data": {
      "text/plain": [
       "array([-1,  0])"
      ]
     },
     "execution_count": 233,
     "metadata": {},
     "output_type": "execute_result"
    }
   ],
   "source": [
    "np.unique(cluster.labels_)"
   ]
  },
  {
   "cell_type": "code",
   "execution_count": 234,
   "metadata": {},
   "outputs": [
    {
     "data": {
      "text/plain": [
       "31"
      ]
     },
     "execution_count": 234,
     "metadata": {},
     "output_type": "execute_result"
    }
   ],
   "source": [
    "(cluster.labels_ == -1).sum()"
   ]
  },
  {
   "cell_type": "code",
   "execution_count": 235,
   "metadata": {},
   "outputs": [
    {
     "data": {
      "text/plain": [
       "19969"
      ]
     },
     "execution_count": 235,
     "metadata": {},
     "output_type": "execute_result"
    }
   ],
   "source": [
    "(cluster.labels_ == 0).sum()"
   ]
  },
  {
   "cell_type": "code",
   "execution_count": 236,
   "metadata": {},
   "outputs": [
    {
     "name": "stderr",
     "output_type": "stream",
     "text": [
      "100%|██████████| 20000/20000 [00:05<00:00, 3522.45it/s]\n"
     ]
    }
   ],
   "source": [
    "cluster = DBSCAN_cluster(sorted_data[:20000]['CleanedText'], 0.01, 'TFIDF-W2V', list_of_sent[:20000])"
   ]
  },
  {
   "cell_type": "code",
   "execution_count": 237,
   "metadata": {},
   "outputs": [
    {
     "data": {
      "text/plain": [
       "array([-1,  0])"
      ]
     },
     "execution_count": 237,
     "metadata": {},
     "output_type": "execute_result"
    }
   ],
   "source": [
    "np.unique(cluster.labels_)"
   ]
  },
  {
   "cell_type": "code",
   "execution_count": 238,
   "metadata": {},
   "outputs": [
    {
     "data": {
      "text/plain": [
       "667"
      ]
     },
     "execution_count": 238,
     "metadata": {},
     "output_type": "execute_result"
    }
   ],
   "source": [
    "(cluster.labels_ == -1).sum()"
   ]
  },
  {
   "cell_type": "code",
   "execution_count": 239,
   "metadata": {},
   "outputs": [
    {
     "data": {
      "text/plain": [
       "19333"
      ]
     },
     "execution_count": 239,
     "metadata": {},
     "output_type": "execute_result"
    }
   ],
   "source": [
    "(cluster.labels_ == 0).sum()"
   ]
  },
  {
   "cell_type": "markdown",
   "metadata": {},
   "source": [
    "#### Observation: \n",
    "* Along with the best-eps I tried other possible eps values to illustrate how DBSCAN clustering is so much sensitive to the eps value.\n",
    "* For eps = 0.015, only 31 data points are marked as noisy points and rest are clustered together to form a single cluster.\n",
    "* For eps = 0.01, 667 points are marked as noisy i.e only 0.005 change in eps brings 21 times change in number of noisy points. It clearly shows even a small change in eps ends with drastic change in clustering."
   ]
  },
  {
   "cell_type": "markdown",
   "metadata": {},
   "source": [
    "## 11. Summary "
   ]
  },
  {
   "cell_type": "markdown",
   "metadata": {},
   "source": [
    "#### Approach:\n",
    "&nbsp;&nbsp;&nbsp;&nbsp;&nbsp;&nbsp;&nbsp;&nbsp;&nbsp;&nbsp;&nbsp;&nbsp;&nbsp;&nbsp;&nbsp;&nbsp;&nbsp;&nbsp;&nbsp;&nbsp;&nbsp;&nbsp;&nbsp;&nbsp;The Amazon Fine Food dataset is used here to cluster them in some groups. I have taken only 100k data points here and tried to cluster them in groups using unsupervised machine learning algorithms like **K-means** clustering, **Hierarchical** clustering and **DBSCAN**. As the dataset here is textual in nature so we need to convert them to numerical feature vectors. For that I have used **Bag of Words(BoW)**, **TF-IDF**, **Word2Vec** and **TF-IDF weighted Word2Vec**. As Hierarchical clustering is slow at training so I have considered only 5000 data points and for DBSCAN I have taken only 20000 data points as the space complexity is **O(n^2)** for sklearn.DBSCAN implementation. And DBSCAN is applied on Word2Vec and TF-IDF weighted Word2Vec only as it works well on low dimensional data. "
   ]
  },
  {
   "cell_type": "markdown",
   "metadata": {},
   "source": [
    "#### Conclusion:\n",
    "* All clustering algorithms performed well for both Bag of Words and TF-IDF representation in clustering similar reviews together and Word2Vec representation also helped the model to perform reasonably well as only 5000 data points were considered. But TF-IDF Word2Vec did not do well for Hierarchical clustering and for the rest algorithms it was reasonable.\n",
    "* Coming to DBSCAN, it performed like an outlier detector by denoting data points to -1 and clustered rest the data to a single cluster.    "
   ]
  }
 ],
 "metadata": {
  "kernelspec": {
   "display_name": "Python 3",
   "language": "python",
   "name": "python3"
  },
  "language_info": {
   "codemirror_mode": {
    "name": "ipython",
    "version": 3
   },
   "file_extension": ".py",
   "mimetype": "text/x-python",
   "name": "python",
   "nbconvert_exporter": "python",
   "pygments_lexer": "ipython3",
   "version": "3.6.4"
  }
 },
 "nbformat": 4,
 "nbformat_minor": 2
}
