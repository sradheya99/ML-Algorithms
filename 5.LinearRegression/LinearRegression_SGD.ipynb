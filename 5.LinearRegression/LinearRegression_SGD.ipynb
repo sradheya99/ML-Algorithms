{
 "cells": [
  {
   "cell_type": "markdown",
   "metadata": {},
   "source": [
    "# Linear Regression On Boston House Price Prediction  "
   ]
  },
  {
   "cell_type": "markdown",
   "metadata": {},
   "source": [
    "## [ CONTENTS ] \n",
    "\n",
    "1. About the dataset<br>\n",
    "2. Objective<br>\n",
    "3. Loading the data<br>\n",
    "4. Data Preprocessing <br>\n",
    "5. Linear Regression<br>\n",
    "6. LR using Gradient Descent<br>\n",
    "7. LR using Stochastic Gradient Descent<br>\n",
    "8. Conclusion<br>"
   ]
  },
  {
   "cell_type": "markdown",
   "metadata": {},
   "source": [
    "## 1. About the dataset\n",
    "1. Title: Boston House Prices dataset. Link: http://archive.ics.uci.edu/ml/datasets/Housing<br>\n",
    "<br>\n",
    "2. Relevant Information: This dataset was taken from the StatLib library which is maintained at Carnegie Mellon University.The Boston house-price data of Harrison, D. and Rubinfeld, D.L. 'Hedonicprices and the demand for clean air', J. Environ. Economics & Management,vol.5, 81-102, 1978.   Used in Belsley, Kuh & Welsch, 'Regression diagnostics..', Wiley, 1980.   N.B. Various transformations are used in the table on pages 244-261 of the latter. The Boston house-price data has been used in many machine learning papers that address regression problems.<br>\n",
    "<br>\n",
    "3. Data includes:\n",
    "    *Number of Instances: 506<br>\n",
    "    *Number of Attributes: 13 numeric/categorical predictive<br>\n",
    "    *Median Value (attribute 14) is usually the target<br>\n",
    "<br>\n",
    "4. Attribute Information: \n",
    "    * CRIM     per capita crime rate by town\n",
    "    * ZN       proportion of residential land zoned for lots over 25,000 sq.ft.\n",
    "    * INDUS    proportion of non-retail business acres per town\n",
    "    * CHAS     Charles River dummy variable (= 1 if tract bounds river; 0 otherwise)\n",
    "    * NOX      nitric oxides concentration (parts per 10 million)\n",
    "    * RM       average number of rooms per dwelling\n",
    "    * AGE      proportion of owner-occupied units built prior to 1940\n",
    "    * DIS      weighted distances to five Boston employment centres\n",
    "    * RAD      index of accessibility to radial highways\n",
    "    * TAX      full-value property-tax rate per tenthousand dollar\n",
    "    * PTRATIO  pupil-teacher ratio by town\n",
    "    * B        1000(Bk - 0.63)^2 where Bk is the proportion of blacks by town\n",
    "    * LSTAT    % lower status of the population\n",
    "    * MEDV     Median value of owner-occupied homes in $1000's"
   ]
  },
  {
   "cell_type": "markdown",
   "metadata": {},
   "source": [
    "## 2. Objective:\n",
    "We are given Boston House Price dataset where we need to predict house price for a given set of attributes. So, this is a regression problem and we will use linear-regression to predict the house prices.<br>\n",
    "Apart from that we will implement linear regression using both gradient descent optimizer and stochastic gradient descent(SGD) optimizer and will compare their performance."
   ]
  },
  {
   "cell_type": "code",
   "execution_count": 39,
   "metadata": {},
   "outputs": [],
   "source": [
    "# importing required library \n",
    "import time\n",
    "import math\n",
    "import numpy as np \n",
    "import pandas as pd\n",
    "import seaborn as sns\n",
    "from random import shuffle\n",
    "import matplotlib.pyplot as plt\n",
    "from sklearn.datasets import load_boston\n",
    "from sklearn.model_selection import KFold\n",
    "from sklearn.preprocessing import StandardScaler\n",
    "from sklearn.linear_model import LinearRegression\n",
    "from sklearn.cross_validation import train_test_split"
   ]
  },
  {
   "cell_type": "code",
   "execution_count": 2,
   "metadata": {},
   "outputs": [],
   "source": [
    "# Standardizing the data\n",
    "def standardizer(data):\n",
    "    stnd_scaler = StandardScaler(with_mean=False)\n",
    "    stnd_matx = stnd_scaler.fit_transform(data)\n",
    "    return stnd_matx"
   ]
  },
  {
   "cell_type": "markdown",
   "metadata": {},
   "source": [
    "## 3. Loading the data"
   ]
  },
  {
   "cell_type": "code",
   "execution_count": 3,
   "metadata": {},
   "outputs": [],
   "source": [
    "# loading the data\n",
    "boston = load_boston()"
   ]
  },
  {
   "cell_type": "code",
   "execution_count": 4,
   "metadata": {},
   "outputs": [
    {
     "data": {
      "text/plain": [
       "(506, 13)"
      ]
     },
     "execution_count": 4,
     "metadata": {},
     "output_type": "execute_result"
    }
   ],
   "source": [
    "boston.data.shape"
   ]
  },
  {
   "cell_type": "code",
   "execution_count": 5,
   "metadata": {},
   "outputs": [
    {
     "name": "stdout",
     "output_type": "stream",
     "text": [
      "['CRIM' 'ZN' 'INDUS' 'CHAS' 'NOX' 'RM' 'AGE' 'DIS' 'RAD' 'TAX' 'PTRATIO'\n",
      " 'B' 'LSTAT']\n"
     ]
    }
   ],
   "source": [
    "print(boston.feature_names)"
   ]
  },
  {
   "cell_type": "markdown",
   "metadata": {},
   "source": [
    "## 4. Data Preprocessing"
   ]
  },
  {
   "cell_type": "code",
   "execution_count": 6,
   "metadata": {},
   "outputs": [],
   "source": [
    "# converting data to data-frame\n",
    "data = pd.DataFrame(boston.data, columns=boston.feature_names)"
   ]
  },
  {
   "cell_type": "code",
   "execution_count": 7,
   "metadata": {},
   "outputs": [],
   "source": [
    "y = pd.DataFrame(boston.target, columns=['Price'])"
   ]
  },
  {
   "cell_type": "code",
   "execution_count": 8,
   "metadata": {},
   "outputs": [],
   "source": [
    "# data spliting into train and test \n",
    "def data_split(data, y):\n",
    "    x_train, x_test, y_train, y_test = train_test_split(data, y, test_size = 0.33, random_state = 5)\n",
    "    return x_train, x_test, y_train, y_test"
   ]
  },
  {
   "cell_type": "markdown",
   "metadata": {},
   "source": [
    "## 5. Linear Regression "
   ]
  },
  {
   "cell_type": "code",
   "execution_count": 9,
   "metadata": {},
   "outputs": [],
   "source": [
    "# calculates root-mean-square error \n",
    "def rms_error(true_y, yhat):\n",
    "    pred_err = np.sum(np.square(yhat - true_y))\n",
    "    return math.sqrt(pred_err / float(len(true_y)))"
   ]
  },
  {
   "cell_type": "code",
   "execution_count": 10,
   "metadata": {},
   "outputs": [],
   "source": [
    "# linear regression using sklearn \n",
    "def linear_regn(data, y):\n",
    "    train_x, test_x, train_y, test_y = data_split(data, np.array(y))\n",
    "    regression = LinearRegression(n_jobs = 8)\n",
    "    regression.fit(train_x, train_y)\n",
    "    y_pred = regression.predict(test_x)\n",
    "    error = rms_error(test_y, y_pred)\n",
    "    return error, test_y, y_pred "
   ]
  },
  {
   "cell_type": "code",
   "execution_count": 11,
   "metadata": {},
   "outputs": [],
   "source": [
    "# plots test y vs yhat(predicted y)\n",
    "def plot_yyhat(true_y, yhat):\n",
    "    plt.scatter(list(true_y), list(yhat.T))\n",
    "    plt.xlabel(\"Prices: $Y_i$\")\n",
    "    plt.ylabel(\"Predicted prices: $\\hat{Y}_i$\")\n",
    "    plt.title(\"Prices vs Predicted prices: $Y_i$ vs $\\hat{Y}_i$\")\n",
    "    plt.show()"
   ]
  },
  {
   "cell_type": "code",
   "execution_count": 12,
   "metadata": {},
   "outputs": [],
   "source": [
    "# plot the spread of difference between true price and predicted price\n",
    "def error_spread(true_y, yhat):\n",
    "    delta = (true_y - yhat).T\n",
    "    sns.set_style('darkgrid')\n",
    "    plt.title(\"Density Plot Of Error\")\n",
    "    plt.xlabel(\"Amount of Error\")\n",
    "    plt.ylabel(\"Frequency\")\n",
    "    sns.kdeplot(np.squeeze(np.asarray(delta)))\n",
    "    plt.show()"
   ]
  },
  {
   "cell_type": "code",
   "execution_count": 13,
   "metadata": {},
   "outputs": [],
   "source": [
    "# calculates test error \n",
    "def test_error(coefs, intercept):\n",
    "    train_x, test_x, train_y, test_y = data_split(data, np.array(y))\n",
    "    yhat = np.dot(coefs, test_x.T) + intercept\n",
    "    test_err = rms_error(test_y, yhat.T)\n",
    "    return test_err, test_y, yhat"
   ]
  },
  {
   "cell_type": "code",
   "execution_count": 14,
   "metadata": {},
   "outputs": [],
   "source": [
    "# applying linear regression on the data\n",
    "error, test_y, yhat = linear_regn(standardizer(data), y)"
   ]
  },
  {
   "cell_type": "code",
   "execution_count": 15,
   "metadata": {},
   "outputs": [
    {
     "name": "stdout",
     "output_type": "stream",
     "text": [
      "The Root-Mean-Square error for test-set is:  5.342412121468944\n"
     ]
    }
   ],
   "source": [
    "print(\"The Root-Mean-Square error for test-set is: \",error)"
   ]
  },
  {
   "cell_type": "code",
   "execution_count": 16,
   "metadata": {},
   "outputs": [
    {
     "data": {
      "image/png": "[encoded data removed]",
      "text/plain": [
       "<matplotlib.figure.Figure at 0x7f3a818cc588>"
      ]
     },
     "metadata": {},
     "output_type": "display_data"
    }
   ],
   "source": [
    "# true price vs predicted price \n",
    "plot_yyhat(test_y, yhat)"
   ]
  },
  {
   "cell_type": "markdown",
   "metadata": {},
   "source": [
    "#### Observation:\n",
    "* we are getting linear points nearly on Y = X line which indicates that our regression model has done pretty good work."
   ]
  },
  {
   "cell_type": "code",
   "execution_count": 17,
   "metadata": {},
   "outputs": [
    {
     "data": {
      "image/png": "[encoded data removed]",
      "text/plain": [
       "<matplotlib.figure.Figure at 0x7f3a7823c278>"
      ]
     },
     "metadata": {},
     "output_type": "display_data"
    }
   ],
   "source": [
    "# spread of differnece between true price and predicted price \n",
    "error_spread(test_y, yhat)"
   ]
  },
  {
   "cell_type": "markdown",
   "metadata": {},
   "source": [
    "#### Observation:\n",
    "* We are getting error = 0 for most of the points. But there are some large errors like 10 onwards.\n",
    "* On the left-side also we are not getting stiff slope."
   ]
  },
  {
   "cell_type": "markdown",
   "metadata": {},
   "source": [
    "## 6. Linear Regression using Gradient Descent"
   ]
  },
  {
   "cell_type": "code",
   "execution_count": 18,
   "metadata": {},
   "outputs": [],
   "source": [
    "# gradient descent vectorized implementation\n",
    "def step_gradient(m_current, data, y, learningRate):\n",
    "    m_gradient = np.zeros((data.shape[1],1))\n",
    "    N = float(data.shape[0])\n",
    "    m_gradient += -(2/N) * np.dot(data.T,(y - (np.dot(m_current.T,data.T).T)))\n",
    "    new_m = m_current - (learningRate * m_gradient)\n",
    "    return new_m\n",
    "\n",
    "def gradient_descent_runner(data, y, initial_m, learning_rate, epochs): \n",
    "    m = initial_m\n",
    "    for i in range(epochs):\n",
    "        m = step_gradient(m, data, y, learning_rate)\n",
    "    return m"
   ]
  },
  {
   "cell_type": "code",
   "execution_count": 19,
   "metadata": {},
   "outputs": [],
   "source": [
    "# test error \n",
    "def test_error_gd(coefs):\n",
    "    train_x, test_x, train_y, test_y = data_split(np.matrix(data), np.array(y))\n",
    "    yhat = np.dot(np.array(coefs.T), test_x.T)\n",
    "    test_err = rms_error(test_y, yhat.T)\n",
    "    return test_err, yhat"
   ]
  },
  {
   "cell_type": "code",
   "execution_count": 20,
   "metadata": {},
   "outputs": [],
   "source": [
    "# standardizing data\n",
    "data = pd.DataFrame(standardizer(data))"
   ]
  },
  {
   "cell_type": "code",
   "execution_count": 21,
   "metadata": {},
   "outputs": [],
   "source": [
    "# adding a column of ones to the data for the intercept(b)\n",
    "data['bias'] = pd.Series(np.ones(data.shape[0]))"
   ]
  },
  {
   "cell_type": "code",
   "execution_count": 22,
   "metadata": {},
   "outputs": [],
   "source": [
    "# data spliting \n",
    "train_x, test_x, train_y, test_y = data_split(np.matrix(data), np.array(y))"
   ]
  },
  {
   "cell_type": "code",
   "execution_count": 23,
   "metadata": {},
   "outputs": [],
   "source": [
    "# initializing the coeffs\n",
    "initial_m = np.zeros((data.shape[1],1))"
   ]
  },
  {
   "cell_type": "code",
   "execution_count": 24,
   "metadata": {},
   "outputs": [
    {
     "name": "stdout",
     "output_type": "stream",
     "text": [
      "Exection Time:  18.896047592163086\n"
     ]
    }
   ],
   "source": [
    "# appling linear regression with gradient descent\n",
    "tic = time.time()\n",
    "m = gradient_descent_runner((np.matrix(train_x)), train_y, initial_m, 0.000003, 1000000)\n",
    "toc = time.time()\n",
    "print(\"Exection Time: \", toc - tic)"
   ]
  },
  {
   "cell_type": "code",
   "execution_count": 25,
   "metadata": {},
   "outputs": [
    {
     "data": {
      "text/plain": [
       "array([[-1.16860116],\n",
       "       [ 0.68109262],\n",
       "       [-0.47530586],\n",
       "       [ 0.264186  ],\n",
       "       [ 0.10089593],\n",
       "       [ 4.08584611],\n",
       "       [-0.41563871],\n",
       "       [-1.61882411],\n",
       "       [ 0.66471894],\n",
       "       [-0.56408022],\n",
       "       [-1.20214404],\n",
       "       [ 1.41418808],\n",
       "       [-2.7998489 ],\n",
       "       [ 0.37495514]])"
      ]
     },
     "execution_count": 25,
     "metadata": {},
     "output_type": "execute_result"
    }
   ],
   "source": [
    "# printing the coeffs\n",
    "m"
   ]
  },
  {
   "cell_type": "code",
   "execution_count": 26,
   "metadata": {},
   "outputs": [],
   "source": [
    "# calculate the test error\n",
    "err, yout = test_error_gd(m)"
   ]
  },
  {
   "cell_type": "code",
   "execution_count": 27,
   "metadata": {},
   "outputs": [
    {
     "name": "stdout",
     "output_type": "stream",
     "text": [
      "The Root-Mean-Square error for test-set is:  5.616953159742184\n"
     ]
    }
   ],
   "source": [
    "print(\"The Root-Mean-Square error for test-set is: \", err)"
   ]
  },
  {
   "cell_type": "code",
   "execution_count": 28,
   "metadata": {},
   "outputs": [
    {
     "data": {
      "image/png": "[encoded data removed]",
      "text/plain": [
       "<matplotlib.figure.Figure at 0x7f3a781ee2b0>"
      ]
     },
     "metadata": {},
     "output_type": "display_data"
    }
   ],
   "source": [
    "# true price vs predicted price \n",
    "plot_yyhat(test_y, yout)"
   ]
  },
  {
   "cell_type": "code",
   "execution_count": 29,
   "metadata": {},
   "outputs": [
    {
     "data": {
      "image/png": "[encoded data removed]",
      "text/plain": [
       "<matplotlib.figure.Figure at 0x7f3a781758d0>"
      ]
     },
     "metadata": {},
     "output_type": "display_data"
    }
   ],
   "source": [
    "# spread of differnece between true price and predicted price \n",
    "error_spread(test_y, yout.T)"
   ]
  },
  {
   "cell_type": "markdown",
   "metadata": {},
   "source": [
    "#### Observation:\n",
    "* We got very close result to the sklearn implementation."
   ]
  },
  {
   "cell_type": "markdown",
   "metadata": {},
   "source": [
    "## 7. Linear Regression using Stochastic Gradient Descent(SGD)"
   ]
  },
  {
   "cell_type": "code",
   "execution_count": 30,
   "metadata": {},
   "outputs": [],
   "source": [
    "# linear regression using SGD\n",
    "def step_gradient_sgd(m_current, data, y, learningRate):\n",
    "    # K(random number of samples)\n",
    "    k = np.random.randint(1,data.shape[0])\n",
    "    shuff = [i for i in range(data.shape[0])]\n",
    "    shuffle(shuff)\n",
    "    # shuffling the data\n",
    "    data_shuff  = data[shuff]\n",
    "    y_shuff = y[shuff]\n",
    "    m_gradient = np.zeros((data.shape[1],1))\n",
    "    N = float(k)\n",
    "    m_gradient += -(2/N) * np.dot(data_shuff[:k,:].T,(y_shuff[:k] - (np.dot(m_current.T,data_shuff[:k].T).T)))\n",
    "    new_m = m_current - (learningRate * m_gradient)\n",
    "    return new_m\n",
    "\n",
    "def gradient_descent_runner_sgd(data, y, initial_m, learning_rate, epochs): \n",
    "    m = initial_m\n",
    "    for i in range(epochs):\n",
    "        m = step_gradient_sgd(m, data, y, learning_rate)\n",
    "    return m"
   ]
  },
  {
   "cell_type": "code",
   "execution_count": 31,
   "metadata": {},
   "outputs": [],
   "source": [
    "# test-error\n",
    "def test_error_sgd(coefs):\n",
    "    train_x, test_x, train_y, test_y = data_split(np.matrix(data), np.array(y))\n",
    "    yhat = np.dot(np.array(coefs.T), test_x.T)\n",
    "    test_err = rms_error(test_y, yhat.T)\n",
    "    return test_err, yhat"
   ]
  },
  {
   "cell_type": "code",
   "execution_count": 32,
   "metadata": {},
   "outputs": [],
   "source": [
    "# initializing the coeffs\n",
    "initial_m = np.zeros((data.shape[1],1))"
   ]
  },
  {
   "cell_type": "code",
   "execution_count": 33,
   "metadata": {},
   "outputs": [
    {
     "name": "stdout",
     "output_type": "stream",
     "text": [
      "Execution Time:  19.55647039413452\n"
     ]
    }
   ],
   "source": [
    "# applying linear regression using SGD\n",
    "tic = time.time()\n",
    "m_sgd = gradient_descent_runner((np.matrix(train_x)), train_y, initial_m, 0.000003, 1000000)\n",
    "toc = time.time()\n",
    "print(\"Execution Time: \", toc - tic)"
   ]
  },
  {
   "cell_type": "code",
   "execution_count": 34,
   "metadata": {},
   "outputs": [
    {
     "data": {
      "text/plain": [
       "array([[-1.16860116],\n",
       "       [ 0.68109262],\n",
       "       [-0.47530586],\n",
       "       [ 0.264186  ],\n",
       "       [ 0.10089593],\n",
       "       [ 4.08584611],\n",
       "       [-0.41563871],\n",
       "       [-1.61882411],\n",
       "       [ 0.66471894],\n",
       "       [-0.56408022],\n",
       "       [-1.20214404],\n",
       "       [ 1.41418808],\n",
       "       [-2.7998489 ],\n",
       "       [ 0.37495514]])"
      ]
     },
     "execution_count": 34,
     "metadata": {},
     "output_type": "execute_result"
    }
   ],
   "source": [
    "# calculated coeffs\n",
    "m_sgd"
   ]
  },
  {
   "cell_type": "code",
   "execution_count": 35,
   "metadata": {},
   "outputs": [],
   "source": [
    "# test error\n",
    "err, yout = test_error_sgd(m_sgd)"
   ]
  },
  {
   "cell_type": "code",
   "execution_count": 36,
   "metadata": {},
   "outputs": [
    {
     "name": "stdout",
     "output_type": "stream",
     "text": [
      "The Root-Mean-Square error for test-set is:  5.616953159742184\n"
     ]
    }
   ],
   "source": [
    "print(\"The Root-Mean-Square error for test-set is: \",err)"
   ]
  },
  {
   "cell_type": "code",
   "execution_count": 37,
   "metadata": {},
   "outputs": [
    {
     "data": {
      "image/png": "[encoded data removed]",
      "text/plain": [
       "<matplotlib.figure.Figure at 0x7f3a781a7630>"
      ]
     },
     "metadata": {},
     "output_type": "display_data"
    }
   ],
   "source": [
    "# true price vs predicted price \n",
    "plot_yyhat(test_y, yout)"
   ]
  },
  {
   "cell_type": "code",
   "execution_count": 38,
   "metadata": {},
   "outputs": [
    {
     "data": {
      "image/png": "[encoded data removed]",
      "text/plain": [
       "<matplotlib.figure.Figure at 0x7f3a78171470>"
      ]
     },
     "metadata": {},
     "output_type": "display_data"
    }
   ],
   "source": [
    "# spread of differnece between true price and predicted price \n",
    "error_spread(test_y, yout.T)"
   ]
  },
  {
   "cell_type": "markdown",
   "metadata": {},
   "source": [
    "#### Observation:\n",
    "* We got very close result to both sklearn implementation and gradient descent implementation."
   ]
  },
  {
   "cell_type": "markdown",
   "metadata": {},
   "source": [
    "## 8. Conclusion:\n",
    "* Both gradient descent and stochastic gradient descent performed very good as they are very close to the sklearn implementaion.\n",
    "* For 10 million epochs both gradient descent and SGD took nearly same run-time for 339(size of train-set) data points. But SGD will out-perform in terms of run-time for very large amount of data."
   ]
  }
 ],
 "metadata": {
  "kernelspec": {
   "display_name": "Python 3",
   "language": "python",
   "name": "python3"
  },
  "language_info": {
   "codemirror_mode": {
    "name": "ipython",
    "version": 3
   },
   "file_extension": ".py",
   "mimetype": "text/x-python",
   "name": "python",
   "nbconvert_exporter": "python",
   "pygments_lexer": "ipython3",
   "version": "3.6.4"
  }
 },
 "nbformat": 4,
 "nbformat_minor": 2
}
